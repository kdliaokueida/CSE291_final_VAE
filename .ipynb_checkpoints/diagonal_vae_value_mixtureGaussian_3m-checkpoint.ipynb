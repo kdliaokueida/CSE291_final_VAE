{
 "cells": [
  {
   "cell_type": "code",
   "execution_count": 1,
   "metadata": {},
   "outputs": [],
   "source": [
    "import torch\n",
    "import torch.nn.functional as nn\n",
    "import torch.autograd as autograd\n",
    "import torch.optim as optim\n",
    "from torch.distributions.multivariate_normal import MultivariateNormal\n",
    "import numpy as np\n",
    "import matplotlib.pyplot as plt\n",
    "import matplotlib.gridspec as gridspec\n",
    "import math\n",
    "import os\n",
    "from torch.autograd import Variable\n"
   ]
  },
  {
   "cell_type": "code",
   "execution_count": 2,
   "metadata": {},
   "outputs": [],
   "source": [
    "N=60000\n",
    "U = np.random.uniform(0,1,N)\n",
    "X1 = np.random.multivariate_normal([0, 3*math.sqrt(3)], [[3, 0], [0, 1/3]], 60000)\n",
    "X2 = np.random.multivariate_normal([0,0], [[3, 0], [0, 1/3]], 60000)\n",
    "X3 = np.random.multivariate_normal([0,0], [[3, 0], [0, 1/3]], 60000)\n",
    "A = [[np.cos(np.pi*2/3), -np.sin(np.pi*2/3)],[np.sin(np.pi*2/3), np.cos(np.pi*2/3)]]\n",
    "B = [[np.cos(np.pi/3), -np.sin(np.pi/3)],[np.sin(np.pi/3), np.cos(np.pi/3)]]\n",
    "X2 = np.matmul(A, X2.transpose()).transpose() + [-3*math.sqrt(3), -3*math.sqrt(3)/2]\n",
    "X3 = np.matmul(B, X3.transpose()).transpose() + [3*math.sqrt(3), -3*math.sqrt(3)/2]\n",
    "\n",
    "X = np.zeros((40000,2))\n",
    "for i in range(40000):\n",
    "    if U[i]<1/3:\n",
    "        X[i] = X1[i]\n",
    "    elif U[i]<2/3:\n",
    "        X[i] = X2[i]\n",
    "    else:\n",
    "        X[i] = X3[i]\n",
    "        \n",
    "X_test = np.zeros((20000,2))\n",
    "for i in range(40000,60000):\n",
    "    if U[i]<1/3:\n",
    "        X_test[i-40000] = X1[i]\n",
    "    elif U[i]<2/3:\n",
    "        X_test[i-40000] = X2[i]\n",
    "    else:\n",
    "        X_test[i-40000] = X3[i]"
   ]
  },
  {
   "cell_type": "code",
   "execution_count": 3,
   "metadata": {
    "scrolled": false
   },
   "outputs": [
    {
     "data": {
      "image/png": "[encoded data removed]",
      "text/plain": [
       "<Figure size 432x288 with 1 Axes>"
      ]
     },
     "metadata": {
      "needs_background": "light"
     },
     "output_type": "display_data"
    }
   ],
   "source": [
    "plt.hist2d(X[:,0],X[:,1],bins=50,cmap=\"gist_heat_r\")\n",
    "plt.xlim(-10,10)\n",
    "plt.ylim(-10,10)\n",
    "plt.savefig('gaussianmixture_2d_diagonal_3m/gm_training.png')"
   ]
  },
  {
   "cell_type": "code",
   "execution_count": 4,
   "metadata": {},
   "outputs": [],
   "source": [
    "mb_size = 64\n",
    "Z_dim = 2\n",
    "X_dim = X.shape[1]\n",
    "h_dim = 128\n",
    "c = 0\n",
    "lr = 1e-5\n",
    "\n",
    "def xavier_init(size):\n",
    "    in_dim = size[0]\n",
    "    xavier_stddev = 1. / np.sqrt(in_dim / 2.)\n",
    "    return Variable(torch.randn(*size) * xavier_stddev, requires_grad=True)"
   ]
  },
  {
   "cell_type": "code",
   "execution_count": 5,
   "metadata": {},
   "outputs": [],
   "source": [
    "# =============================== Q(z|X) ======================================\n",
    "\n",
    "Wxh = xavier_init(size=[X_dim, h_dim])\n",
    "bxh = Variable(torch.zeros(h_dim), requires_grad=True)\n",
    "\n",
    "Whz_mu = xavier_init(size=[h_dim, Z_dim])\n",
    "bhz_mu = Variable(torch.zeros(Z_dim), requires_grad=True)\n",
    "\n",
    "Whz_var = xavier_init(size=[h_dim, Z_dim])\n",
    "bhz_var = Variable(torch.zeros(Z_dim), requires_grad=True)\n",
    "\n",
    "\n",
    "def Q(X):\n",
    "    h = nn.relu(X @ Wxh + bxh.repeat(X.size(0), 1))\n",
    "    z_mu = h @ Whz_mu + bhz_mu.repeat(h.size(0), 1)\n",
    "    z_var = h @ Whz_var + bhz_var.repeat(h.size(0), 1)\n",
    "    return z_mu, z_var\n",
    "\n",
    "\n",
    "def sample_z(mu, log_var):\n",
    "    eps = Variable(torch.randn(mu.shape[0], Z_dim))\n",
    "    return mu + torch.exp(log_var / 2) * eps\n"
   ]
  },
  {
   "cell_type": "code",
   "execution_count": 6,
   "metadata": {},
   "outputs": [],
   "source": [
    "# =============================== P(X|z) ======================================\n",
    "\n",
    "Wzh = xavier_init(size=[Z_dim, h_dim])\n",
    "bzh = Variable(torch.zeros(h_dim), requires_grad=True)\n",
    "\n",
    "Whmu = xavier_init(size=[h_dim, X_dim])\n",
    "bhmu = Variable(torch.zeros(X_dim), requires_grad=True)\n",
    "\n",
    "Whsigma = xavier_init(size=[h_dim, X_dim])\n",
    "bhsigma = Variable(torch.zeros(X_dim), requires_grad=True)\n",
    "\n",
    "def P(z):\n",
    "    h = torch.tanh(z @ Wzh + bzh.repeat(z.size(0), 1))\n",
    "    X_mu = (h @ Whmu + bhmu.repeat(h.size(0), 1))\n",
    "    X_sigma = (h @ Whsigma + bhsigma.repeat(h.size(0), 1))\n",
    "    return X_mu, X_sigma\n"
   ]
  },
  {
   "cell_type": "code",
   "execution_count": 7,
   "metadata": {},
   "outputs": [],
   "source": [
    "from torch.utils.data import Dataset, DataLoader\n",
    "\n",
    "class MyDataset(Dataset):\n",
    "    def __init__(self, data, target, transform=None):\n",
    "        self.data = torch.from_numpy(data).float()\n",
    "        self.data = torch.flatten(self.data, start_dim=1)\n",
    "        self.target = torch.from_numpy(target).float()\n",
    "        self.transform = transform\n",
    "        \n",
    "    def __getitem__(self, index):\n",
    "        x = self.data[index]\n",
    "        y = self.target[index]\n",
    "        \n",
    "        if self.transform:\n",
    "            x = self.transform(x)\n",
    "        \n",
    "        return x, y\n",
    "    \n",
    "    def __len__(self):\n",
    "        return len(self.data)"
   ]
  },
  {
   "cell_type": "code",
   "execution_count": 8,
   "metadata": {
    "scrolled": true
   },
   "outputs": [],
   "source": [
    "dataset = MyDataset(X, X)\n",
    "loader = DataLoader(\n",
    "    dataset,\n",
    "    batch_size=mb_size,\n",
    "    shuffle=True,\n",
    "    num_workers=0,\n",
    "    pin_memory=torch.cuda.is_available()\n",
    ")\n",
    "\n",
    "# for batch_idx, (data, target) in enumerate(loader):\n",
    "#     print('Batch idx {}, data shape {}, target shape {}'.format(\n",
    "#         batch_idx, data.shape, target.shape))\n"
   ]
  },
  {
   "cell_type": "code",
   "execution_count": 9,
   "metadata": {
    "scrolled": true
   },
   "outputs": [
    {
     "name": "stdout",
     "output_type": "stream",
     "text": [
      "Iter-1; Loss: 149.9\n",
      "Iter-2; Loss: 105.0\n",
      "Iter-3; Loss: 132.5\n",
      "Iter-4; Loss: 86.18\n",
      "Iter-5; Loss: 51.99\n",
      "Iter-6; Loss: 74.59\n",
      "Iter-7; Loss: 21.13\n",
      "Iter-8; Loss: 19.6\n",
      "Iter-9; Loss: 12.84\n",
      "Iter-10; Loss: 10.4\n",
      "Iter-11; Loss: 44.26\n",
      "Iter-12; Loss: 10.82\n",
      "Iter-13; Loss: 11.56\n",
      "Iter-14; Loss: 7.493\n",
      "Iter-15; Loss: 8.315\n",
      "Iter-16; Loss: 6.995\n",
      "Iter-17; Loss: 7.002\n",
      "Iter-18; Loss: 7.263\n",
      "Iter-19; Loss: 6.549\n",
      "Iter-20; Loss: 6.535\n",
      "Iter-21; Loss: 6.559\n",
      "Iter-22; Loss: 6.27\n",
      "Iter-23; Loss: 6.103\n",
      "Iter-24; Loss: 5.928\n",
      "Iter-25; Loss: 5.755\n",
      "Iter-26; Loss: 5.566\n",
      "Iter-27; Loss: 5.36\n",
      "Iter-28; Loss: 5.018\n",
      "Iter-29; Loss: 5.765\n",
      "Iter-30; Loss: 5.339\n",
      "Iter-31; Loss: 5.639\n",
      "Iter-32; Loss: 5.541\n",
      "Iter-33; Loss: 5.251\n",
      "Iter-34; Loss: 5.101\n",
      "Iter-35; Loss: 5.179\n",
      "Iter-36; Loss: 5.39\n",
      "Iter-37; Loss: 5.375\n",
      "Iter-38; Loss: 5.359\n",
      "Iter-39; Loss: 5.373\n",
      "Iter-40; Loss: 5.144\n",
      "Iter-41; Loss: 4.997\n",
      "Iter-42; Loss: 5.101\n",
      "Iter-43; Loss: 5.223\n",
      "Iter-44; Loss: 5.471\n",
      "Iter-45; Loss: 5.1\n",
      "Iter-46; Loss: 5.031\n",
      "Iter-47; Loss: 4.926\n",
      "Iter-48; Loss: 5.163\n",
      "Iter-49; Loss: 5.557\n",
      "Iter-50; Loss: 5.324\n",
      "Iter-51; Loss: 5.162\n",
      "Iter-52; Loss: 5.239\n",
      "Iter-53; Loss: 5.114\n",
      "Iter-54; Loss: 5.047\n",
      "Iter-55; Loss: 4.647\n",
      "Iter-56; Loss: 4.679\n",
      "Iter-57; Loss: 5.236\n",
      "Iter-58; Loss: 4.787\n",
      "Iter-59; Loss: 4.923\n",
      "Iter-60; Loss: 4.993\n",
      "Iter-61; Loss: 5.147\n",
      "Iter-62; Loss: 4.697\n",
      "Iter-63; Loss: 4.937\n",
      "Iter-64; Loss: 4.924\n",
      "Iter-65; Loss: 4.747\n",
      "Iter-66; Loss: 4.939\n",
      "Iter-67; Loss: 5.04\n",
      "Iter-68; Loss: 4.94\n",
      "Iter-69; Loss: 5.095\n",
      "Iter-70; Loss: 4.914\n",
      "Iter-71; Loss: 5.131\n",
      "Iter-72; Loss: 4.83\n",
      "Iter-73; Loss: 5.03\n",
      "Iter-74; Loss: 4.981\n",
      "Iter-75; Loss: 5.08\n",
      "Iter-76; Loss: 4.978\n",
      "Iter-77; Loss: 5.068\n",
      "Iter-78; Loss: 4.794\n",
      "Iter-79; Loss: 4.819\n",
      "Iter-80; Loss: 4.992\n",
      "Iter-81; Loss: 5.159\n",
      "Iter-82; Loss: 4.996\n",
      "Iter-83; Loss: 5.083\n",
      "Iter-84; Loss: 4.995\n",
      "Iter-85; Loss: 4.825\n",
      "Iter-86; Loss: 4.772\n",
      "Iter-87; Loss: 4.901\n",
      "Iter-88; Loss: 5.109\n",
      "Iter-89; Loss: 4.745\n",
      "Iter-90; Loss: 4.801\n",
      "Iter-91; Loss: 5.028\n",
      "Iter-92; Loss: 4.974\n",
      "Iter-93; Loss: 5.18\n",
      "Iter-94; Loss: 5.293\n",
      "Iter-95; Loss: 4.543\n",
      "Iter-96; Loss: 4.831\n",
      "Iter-97; Loss: 5.095\n",
      "Iter-98; Loss: 4.892\n",
      "Iter-99; Loss: 4.755\n",
      "Iter-100; Loss: 4.849\n",
      "Iter-101; Loss: 5.052\n",
      "Iter-102; Loss: 5.144\n",
      "Iter-103; Loss: 4.936\n",
      "Iter-104; Loss: 4.877\n",
      "Iter-105; Loss: 4.959\n",
      "Iter-106; Loss: 5.018\n",
      "Iter-107; Loss: 4.71\n",
      "Iter-108; Loss: 4.873\n",
      "Iter-109; Loss: 5.118\n",
      "Iter-110; Loss: 4.829\n",
      "Iter-111; Loss: 4.958\n",
      "Iter-112; Loss: 4.709\n",
      "Iter-113; Loss: 5.434\n",
      "Iter-114; Loss: 4.94\n",
      "Iter-115; Loss: 5.475\n",
      "Iter-116; Loss: 4.582\n",
      "Iter-117; Loss: 4.565\n",
      "Iter-118; Loss: 4.637\n",
      "Iter-119; Loss: 5.096\n",
      "Iter-120; Loss: 5.274\n",
      "Iter-121; Loss: 4.626\n",
      "Iter-122; Loss: 4.923\n",
      "Iter-123; Loss: 4.801\n",
      "Iter-124; Loss: 4.943\n",
      "Iter-125; Loss: 5.166\n",
      "Iter-126; Loss: 4.905\n",
      "Iter-127; Loss: 4.743\n",
      "Iter-128; Loss: 4.799\n",
      "Iter-129; Loss: 4.961\n",
      "Iter-130; Loss: 4.651\n",
      "Iter-131; Loss: 4.813\n",
      "Iter-132; Loss: 4.745\n",
      "Iter-133; Loss: 5.126\n",
      "Iter-134; Loss: 4.66\n",
      "Iter-135; Loss: 4.781\n",
      "Iter-136; Loss: 4.802\n",
      "Iter-137; Loss: 4.553\n",
      "Iter-138; Loss: 4.799\n",
      "Iter-139; Loss: 4.805\n",
      "Iter-140; Loss: 5.091\n",
      "Iter-141; Loss: 4.875\n",
      "Iter-142; Loss: 4.658\n",
      "Iter-143; Loss: 5.001\n",
      "Iter-144; Loss: 4.824\n",
      "Iter-145; Loss: 4.797\n",
      "Iter-146; Loss: 4.887\n",
      "Iter-147; Loss: 4.784\n",
      "Iter-148; Loss: 4.656\n",
      "Iter-149; Loss: 4.768\n",
      "Iter-150; Loss: 5.087\n",
      "Iter-151; Loss: 4.683\n",
      "Iter-152; Loss: 4.896\n",
      "Iter-153; Loss: 4.802\n",
      "Iter-154; Loss: 4.954\n",
      "Iter-155; Loss: 4.922\n",
      "Iter-156; Loss: 4.614\n",
      "Iter-157; Loss: 4.537\n",
      "Iter-158; Loss: 5.121\n",
      "Iter-159; Loss: 4.591\n",
      "Iter-160; Loss: 4.59\n",
      "Iter-161; Loss: 4.665\n",
      "Iter-162; Loss: 5.008\n",
      "Iter-163; Loss: 4.852\n",
      "Iter-164; Loss: 4.7\n",
      "Iter-165; Loss: 4.782\n",
      "Iter-166; Loss: 4.561\n",
      "Iter-167; Loss: 4.612\n",
      "Iter-168; Loss: 4.507\n",
      "Iter-169; Loss: 4.664\n",
      "Iter-170; Loss: 4.598\n",
      "Iter-171; Loss: 5.127\n",
      "Iter-172; Loss: 4.809\n",
      "Iter-173; Loss: 4.561\n",
      "Iter-174; Loss: 4.674\n",
      "Iter-175; Loss: 4.874\n",
      "Iter-176; Loss: 4.585\n",
      "Iter-177; Loss: 4.657\n",
      "Iter-178; Loss: 4.576\n",
      "Iter-179; Loss: 4.816\n",
      "Iter-180; Loss: 4.826\n",
      "Iter-181; Loss: 4.619\n",
      "Iter-182; Loss: 4.866\n",
      "Iter-183; Loss: 4.756\n",
      "Iter-184; Loss: 4.93\n",
      "Iter-185; Loss: 4.821\n",
      "Iter-186; Loss: 4.694\n",
      "Iter-187; Loss: 4.78\n",
      "Iter-188; Loss: 4.656\n",
      "Iter-189; Loss: 4.541\n",
      "Iter-190; Loss: 4.777\n",
      "Iter-191; Loss: 5.279\n",
      "Iter-192; Loss: 4.88\n",
      "Iter-193; Loss: 4.79\n",
      "Iter-194; Loss: 4.766\n",
      "Iter-195; Loss: 5.037\n",
      "Iter-196; Loss: 4.92\n",
      "Iter-197; Loss: 4.586\n",
      "Iter-198; Loss: 4.37\n",
      "Iter-199; Loss: 4.794\n",
      "Iter-200; Loss: 4.48\n",
      "Iter-201; Loss: 4.653\n",
      "Iter-202; Loss: 5.052\n",
      "Iter-203; Loss: 4.95\n",
      "Iter-204; Loss: 4.972\n",
      "Iter-205; Loss: 4.829\n",
      "Iter-206; Loss: 4.843\n",
      "Iter-207; Loss: 4.64\n",
      "Iter-208; Loss: 4.528\n",
      "Iter-209; Loss: 4.614\n",
      "Iter-210; Loss: 4.752\n",
      "Iter-211; Loss: 4.449\n",
      "Iter-212; Loss: 4.732\n",
      "Iter-213; Loss: 4.909\n",
      "Iter-214; Loss: 4.75\n",
      "Iter-215; Loss: 4.857\n",
      "Iter-216; Loss: 4.708\n",
      "Iter-217; Loss: 4.62\n",
      "Iter-218; Loss: 4.666\n",
      "Iter-219; Loss: 4.667\n",
      "Iter-220; Loss: 5.015\n",
      "Iter-221; Loss: 4.672\n",
      "Iter-222; Loss: 4.9\n",
      "Iter-223; Loss: 4.929\n",
      "Iter-224; Loss: 4.695\n",
      "Iter-225; Loss: 4.564\n",
      "Iter-226; Loss: 4.759\n",
      "Iter-227; Loss: 4.811\n",
      "Iter-228; Loss: 4.693\n",
      "Iter-229; Loss: 4.664\n",
      "Iter-230; Loss: 4.784\n",
      "Iter-231; Loss: 4.71\n",
      "Iter-232; Loss: 4.554\n",
      "Iter-233; Loss: 4.852\n",
      "Iter-234; Loss: 4.918\n",
      "Iter-235; Loss: 4.624\n",
      "Iter-236; Loss: 4.597\n",
      "Iter-237; Loss: 4.751\n",
      "Iter-238; Loss: 4.631\n",
      "Iter-239; Loss: 4.781\n",
      "Iter-240; Loss: 4.819\n",
      "Iter-241; Loss: 4.879\n",
      "Iter-242; Loss: 4.767\n",
      "Iter-243; Loss: 4.955\n",
      "Iter-244; Loss: 4.851\n",
      "Iter-245; Loss: 4.913\n",
      "Iter-246; Loss: 4.737\n",
      "Iter-247; Loss: 5.079\n",
      "Iter-248; Loss: 4.734\n",
      "Iter-249; Loss: 4.9\n",
      "Iter-250; Loss: 4.871\n",
      "Iter-251; Loss: 4.65\n",
      "Iter-252; Loss: 4.617\n",
      "Iter-253; Loss: 4.696\n",
      "Iter-254; Loss: 4.651\n",
      "Iter-255; Loss: 4.87\n",
      "Iter-256; Loss: 4.849\n",
      "Iter-257; Loss: 4.564\n",
      "Iter-258; Loss: 4.594\n",
      "Iter-259; Loss: 4.984\n",
      "Iter-260; Loss: 4.693\n",
      "Iter-261; Loss: 4.693\n",
      "Iter-262; Loss: 5.817\n",
      "Iter-263; Loss: 4.689\n",
      "Iter-264; Loss: 4.796\n",
      "Iter-265; Loss: 4.59\n",
      "Iter-266; Loss: 4.593\n",
      "Iter-267; Loss: 4.47\n",
      "Iter-268; Loss: 4.795\n",
      "Iter-269; Loss: 4.713\n",
      "Iter-270; Loss: 4.558\n",
      "Iter-271; Loss: 4.736\n",
      "Iter-272; Loss: 4.864\n",
      "Iter-273; Loss: 4.373\n",
      "Iter-274; Loss: 5.107\n",
      "Iter-275; Loss: 4.768\n",
      "Iter-276; Loss: 5.052\n",
      "Iter-277; Loss: 4.423\n",
      "Iter-278; Loss: 4.752\n",
      "Iter-279; Loss: 5.116\n",
      "Iter-280; Loss: 4.85\n",
      "Iter-281; Loss: 4.468\n",
      "Iter-282; Loss: 4.77\n",
      "Iter-283; Loss: 4.611\n",
      "Iter-284; Loss: 4.471\n",
      "Iter-285; Loss: 4.912\n",
      "Iter-286; Loss: 4.981\n",
      "Iter-287; Loss: 5.132\n",
      "Iter-288; Loss: 4.524\n",
      "Iter-289; Loss: 4.951\n",
      "Iter-290; Loss: 4.719\n",
      "Iter-291; Loss: 4.907\n",
      "Iter-292; Loss: 4.447\n",
      "Iter-293; Loss: 4.707\n",
      "Iter-294; Loss: 4.545\n",
      "Iter-295; Loss: 4.761\n",
      "Iter-296; Loss: 4.416\n",
      "Iter-297; Loss: 4.749\n",
      "Iter-298; Loss: 4.712\n",
      "Iter-299; Loss: 4.467\n",
      "Iter-300; Loss: 4.726\n",
      "Iter-301; Loss: 4.427\n",
      "Iter-302; Loss: 5.073\n",
      "Iter-303; Loss: 4.41\n",
      "Iter-304; Loss: 4.821\n",
      "Iter-305; Loss: 4.72\n",
      "Iter-306; Loss: 4.545\n",
      "Iter-307; Loss: 4.953\n",
      "Iter-308; Loss: 4.59\n",
      "Iter-309; Loss: 4.824\n",
      "Iter-310; Loss: 4.558\n",
      "Iter-311; Loss: 4.721\n",
      "Iter-312; Loss: 4.869\n",
      "Iter-313; Loss: 4.552\n",
      "Iter-314; Loss: 4.642\n",
      "Iter-315; Loss: 4.495\n",
      "Iter-316; Loss: 4.676\n",
      "Iter-317; Loss: 4.317\n",
      "Iter-318; Loss: 4.527\n",
      "Iter-319; Loss: 4.663\n",
      "Iter-320; Loss: 4.599\n",
      "Iter-321; Loss: 4.718\n",
      "Iter-322; Loss: 4.534\n",
      "Iter-323; Loss: 4.672\n",
      "Iter-324; Loss: 4.591\n",
      "Iter-325; Loss: 4.432\n",
      "Iter-326; Loss: 4.421\n",
      "Iter-327; Loss: 4.909\n",
      "Iter-328; Loss: 4.595\n",
      "Iter-329; Loss: 4.83\n",
      "Iter-330; Loss: 4.713\n",
      "Iter-331; Loss: 4.517\n",
      "Iter-332; Loss: 4.697\n",
      "Iter-333; Loss: 4.507\n",
      "Iter-334; Loss: 4.876\n",
      "Iter-335; Loss: 4.361\n",
      "Iter-336; Loss: 4.956\n",
      "Iter-337; Loss: 4.941\n",
      "Iter-338; Loss: 4.576\n",
      "Iter-339; Loss: 4.791\n",
      "Iter-340; Loss: 4.595\n",
      "Iter-341; Loss: 4.82\n",
      "Iter-342; Loss: 4.441\n",
      "Iter-343; Loss: 4.758\n",
      "Iter-344; Loss: 4.457\n",
      "Iter-345; Loss: 4.52\n",
      "Iter-346; Loss: 4.67\n",
      "Iter-347; Loss: 4.57\n",
      "Iter-348; Loss: 5.081\n",
      "Iter-349; Loss: 4.56\n",
      "Iter-350; Loss: 4.848\n",
      "Iter-351; Loss: 4.727\n",
      "Iter-352; Loss: 4.625\n",
      "Iter-353; Loss: 5.002\n",
      "Iter-354; Loss: 5.1\n",
      "Iter-355; Loss: 4.694\n",
      "Iter-356; Loss: 4.372\n",
      "Iter-357; Loss: 4.482\n",
      "Iter-358; Loss: 4.368\n",
      "Iter-359; Loss: 4.984\n",
      "Iter-360; Loss: 4.762\n",
      "Iter-361; Loss: 4.444\n",
      "Iter-362; Loss: 5.236\n",
      "Iter-363; Loss: 4.742\n",
      "Iter-364; Loss: 4.405\n",
      "Iter-365; Loss: 4.821\n",
      "Iter-366; Loss: 4.78\n",
      "Iter-367; Loss: 4.768\n",
      "Iter-368; Loss: 4.632\n",
      "Iter-369; Loss: 4.806\n",
      "Iter-370; Loss: 4.434\n",
      "Iter-371; Loss: 4.555\n",
      "Iter-372; Loss: 4.788\n",
      "Iter-373; Loss: 5.063\n",
      "Iter-374; Loss: 4.485\n",
      "Iter-375; Loss: 4.69\n",
      "Iter-376; Loss: 4.544\n",
      "Iter-377; Loss: 4.754\n",
      "Iter-378; Loss: 4.46\n",
      "Iter-379; Loss: 4.748\n",
      "Iter-380; Loss: 4.345\n"
     ]
    },
    {
     "name": "stdout",
     "output_type": "stream",
     "text": [
      "Iter-381; Loss: 4.483\n",
      "Iter-382; Loss: 4.566\n",
      "Iter-383; Loss: 4.619\n",
      "Iter-384; Loss: 4.802\n",
      "Iter-385; Loss: 4.583\n",
      "Iter-386; Loss: 4.475\n",
      "Iter-387; Loss: 4.607\n",
      "Iter-388; Loss: 4.802\n",
      "Iter-389; Loss: 4.294\n",
      "Iter-390; Loss: 4.824\n",
      "Iter-391; Loss: 4.468\n",
      "Iter-392; Loss: 4.883\n",
      "Iter-393; Loss: 4.848\n",
      "Iter-394; Loss: 4.893\n",
      "Iter-395; Loss: 4.734\n",
      "Iter-396; Loss: 4.409\n",
      "Iter-397; Loss: 4.608\n",
      "Iter-398; Loss: 4.486\n",
      "Iter-399; Loss: 4.882\n",
      "Iter-400; Loss: 4.36\n"
     ]
    }
   ],
   "source": [
    "# =============================== TRAINING ====================================\n",
    "\n",
    "params = [Wxh, bxh, Whz_mu, bhz_mu, Whz_var, bhz_var,\n",
    "          Wzh, bzh, Whmu, bhmu, Whsigma, bhsigma]\n",
    "\n",
    "solver = optim.Adam(params, lr=lr)\n",
    "\n",
    "loss_epoch = []\n",
    "# loss_batch = []\n",
    "x_from_prior = []\n",
    "x_from_test = []\n",
    "\n",
    "Z = torch.Tensor(np.random.multivariate_normal([0,0], [[1,0],[0,1]], 10**4))\n",
    "X_sample_mu, X_sample_sigma = P(Z)\n",
    "X_sample_sigma_square = torch.diag_embed(torch.exp(X_sample_sigma*2), dim1=-2, dim2=-1)\n",
    "kernels = MultivariateNormal(X_sample_mu, X_sample_sigma_square)\n",
    "\n",
    "x_from_prior.append(kernels.sample().cpu().detach().numpy())\n",
    "\n",
    "test_data = torch.from_numpy(X_test).float()\n",
    "Z_mu, Z_var = Q(test_data)\n",
    "Z = sample_z(Z_mu, Z_var)\n",
    "X_sample_mu, X_sample_sigma = P(Z)\n",
    "X_sample_sigma_square = torch.diag_embed(torch.exp(X_sample_sigma*2), dim1=-2, dim2=-1)\n",
    "kernels = MultivariateNormal(X_sample_mu, X_sample_sigma_square)\n",
    "\n",
    "x_from_test.append(kernels.sample().cpu().detach().numpy())\n",
    "            \n",
    "for it in range(400):\n",
    "    for x_batch, y_batch in loader:\n",
    "        # Forward\n",
    "        z_mu, z_var = Q(x_batch)\n",
    "        z = sample_z(z_mu, z_var)\n",
    "        x_sample_mu, x_sample_sigma = P(z)\n",
    "            \n",
    "\n",
    "        # Loss\n",
    "        #recon_loss = nn.binary_cross_entropy(x_sample, x_batch, size_average=False) / mb_size  # Bernoulli\n",
    "        x_sample_sigma_square = torch.diag_embed(torch.exp(x_sample_sigma*2), dim1=-2, dim2=-1)\n",
    "        kernels = MultivariateNormal(x_sample_mu, x_sample_sigma_square)\n",
    "#         recon_loss = kernels.log_prob(x_batch[:,None,:]).mean()\n",
    "        recon_loss = -1*kernels.log_prob(x_batch).mean()\n",
    "        kl_loss = torch.mean(0.5 * torch.sum(torch.exp(z_var) + z_mu**2 - 1. - z_var, 1))\n",
    "        loss = recon_loss + kl_loss\n",
    "\n",
    "        # Backward\n",
    "        loss.backward()\n",
    "\n",
    "        # Update\n",
    "        solver.step()\n",
    "\n",
    "        # Housekeeping\n",
    "        for p in params:\n",
    "            if p.grad is not None:\n",
    "                data = p.grad.data\n",
    "                p.grad = Variable(data.new().resize_as_(data).zero_())\n",
    "     \n",
    "    # Print loss after each epoch\n",
    "    loss_epoch.append(loss.item())\n",
    "    print('Iter-{}; Loss: {:.4}'.format(it+1, loss.item()))\n",
    "\n",
    "    # generate samples\n",
    "    Z = torch.Tensor(np.random.multivariate_normal([0,0], [[1,0],[0,1]], 10**4))\n",
    "    X_sample_mu, X_sample_sigma = P(Z)\n",
    "    X_sample_sigma_square = torch.diag_embed(torch.exp(X_sample_sigma*2), dim1=-2, dim2=-1)\n",
    "    kernels = MultivariateNormal(X_sample_mu, X_sample_sigma_square)\n",
    "\n",
    "    x_from_prior.append(kernels.sample().cpu().detach().numpy())\n",
    "\n",
    "    test_data = torch.from_numpy(X_test).float()\n",
    "    Z_mu, Z_var = Q(test_data)\n",
    "    Z = sample_z(Z_mu, Z_var)\n",
    "    X_sample_mu, X_sample_sigma = P(Z)\n",
    "    X_sample_sigma_square = torch.diag_embed(torch.exp(X_sample_sigma*2), dim1=-2, dim2=-1)\n",
    "    kernels = MultivariateNormal(X_sample_mu, X_sample_sigma_square)\n",
    "\n",
    "    x_from_test.append(kernels.sample().cpu().detach().numpy())"
   ]
  },
  {
   "cell_type": "code",
   "execution_count": 10,
   "metadata": {},
   "outputs": [],
   "source": [
    "np.save('gaussianmixture_2d_diagonal_3m/diagonal_gm_loss',loss_epoch)"
   ]
  },
  {
   "cell_type": "code",
   "execution_count": 13,
   "metadata": {},
   "outputs": [
    {
     "data": {
      "image/png": "[encoded data removed]",
      "text/plain": [
       "<Figure size 432x288 with 1 Axes>"
      ]
     },
     "metadata": {
      "needs_background": "light"
     },
     "output_type": "display_data"
    }
   ],
   "source": [
    "plt.plot(np.arange(1,401),loss_epoch)\n",
    "plt.xlim(1,400)\n",
    "plt.xlabel('epoch')\n",
    "plt.ylabel('loss')\n",
    "plt.savefig('gaussianmixture_2d_diagonal_3m/gm_loss_epoch.png')"
   ]
  },
  {
   "cell_type": "code",
   "execution_count": 14,
   "metadata": {},
   "outputs": [
    {
     "data": {
      "image/png": "[encoded data removed]",
      "text/plain": [
       "<Figure size 432x288 with 2 Axes>"
      ]
     },
     "metadata": {
      "needs_background": "light"
     },
     "output_type": "display_data"
    }
   ],
   "source": [
    "gs = gridspec.GridSpec(1, 2, width_ratios=[1,7])  #wspace=0.35 \n",
    "ax0 = plt.subplot(gs[0])\n",
    "ax0.plot(np.arange(1,51),loss_epoch[:50])\n",
    "ax0.set_xlim(1,50)\n",
    "# ax0.set_yscale('log')\n",
    "ax0.set_xlabel('epoch')\n",
    "ax0.set_ylabel('loss')\n",
    "\n",
    "ax1 = plt.subplot(gs[1])\n",
    "ax1.plot(np.arange(51,401),loss_epoch[50:])\n",
    "ax1.set_xlim(51,400)\n",
    "ax1.set_xlabel('epoch')\n",
    "\n",
    "plt.savefig('gaussianmixture_2d_diagonal_3m/gm_loss_epoch_bypart.png')"
   ]
  },
  {
   "cell_type": "code",
   "execution_count": 81,
   "metadata": {},
   "outputs": [
    {
     "data": {
      "image/png": "[encoded data removed]",
      "text/plain": [
       "<Figure size 432x288 with 1 Axes>"
      ]
     },
     "metadata": {
      "needs_background": "light"
     },
     "output_type": "display_data"
    }
   ],
   "source": [
    "i += 10\n",
    "plt.hist2d(x_from_prior[i][:,0],x_from_prior[i][:,1],bins=50,cmap=\"gist_heat_r\")\n",
    "plt.xlim(-10,10)\n",
    "plt.ylim(-10,10)\n",
    "plt.title('epoch #'+str((i)))\n",
    "plt.savefig('gaussianmixture_2d_diagonal_3m/gm_from_prior_epoch'+str((i))+'.png')"
   ]
  },
  {
   "cell_type": "code",
   "execution_count": 82,
   "metadata": {},
   "outputs": [
    {
     "data": {
      "image/png": "[encoded data removed]",
      "text/plain": [
       "<Figure size 432x288 with 1 Axes>"
      ]
     },
     "metadata": {
      "needs_background": "light"
     },
     "output_type": "display_data"
    }
   ],
   "source": [
    "plt.hist2d(x_from_test[i][:,0],x_from_test[i][:,1],bins=50,cmap=\"gist_heat_r\")\n",
    "plt.xlim(-10,10)\n",
    "plt.ylim(-10,10)\n",
    "plt.title('epoch #'+str((i)))\n",
    "plt.savefig('gaussianmixture_2d_diagonal_3m/gm_from_test_epoch'+str((i))+'.png')"
   ]
  },
  {
   "cell_type": "code",
   "execution_count": 83,
   "metadata": {},
   "outputs": [
    {
     "data": {
      "image/png": "[encoded data removed]",
      "text/plain": [
       "<Figure size 432x288 with 1 Axes>"
      ]
     },
     "metadata": {
      "needs_background": "light"
     },
     "output_type": "display_data"
    }
   ],
   "source": [
    "plt.hist2d(x_from_prior[-1][:,0],x_from_prior[-1][:,1],bins=50,cmap=\"gist_heat_r\")\n",
    "plt.xlim(-10,10)\n",
    "plt.ylim(-10,10)\n",
    "plt.savefig('gaussianmixture_2d_diagonal_3m/gm_from_prior_final.png')"
   ]
  },
  {
   "cell_type": "code",
   "execution_count": 84,
   "metadata": {},
   "outputs": [
    {
     "data": {
      "image/png": "[encoded data removed]",
      "text/plain": [
       "<Figure size 432x288 with 1 Axes>"
      ]
     },
     "metadata": {
      "needs_background": "light"
     },
     "output_type": "display_data"
    }
   ],
   "source": [
    "plt.hist2d(x_from_test[-1][:,0],x_from_test[-1][:,1],bins=50,cmap=\"gist_heat_r\")\n",
    "plt.xlim(-10,10)\n",
    "plt.ylim(-10,10)\n",
    "plt.savefig('gaussianmixture_2d_diagonal_3m/gm_from_test_final.png')"
   ]
  },
  {
   "cell_type": "code",
   "execution_count": 17,
   "metadata": {},
   "outputs": [],
   "source": [
    "from sklearn.datasets import make_blobs\n",
    "from matplotlib import pyplot as plt\n",
    "%notebook inline"
   ]
  },
  {
   "cell_type": "code",
   "execution_count": 48,
   "metadata": {
    "scrolled": true
   },
   "outputs": [
    {
     "data": {
      "text/plain": [
       "<matplotlib.collections.PathCollection at 0x7ff9f8d10950>"
      ]
     },
     "execution_count": 48,
     "metadata": {},
     "output_type": "execute_result"
    },
    {
     "data": {
      "image/png": "[encoded data removed]",
      "text/plain": [
       "<Figure size 432x288 with 1 Axes>"
      ]
     },
     "metadata": {
      "needs_background": "light"
     },
     "output_type": "display_data"
    }
   ],
   "source": [
    "c = np.vstack((np.sin(np.asarray([1,2,3])*np.pi/3*2),np.cos(np.asarray([1,2,3])*np.pi/3*2))).transpose()\n",
    "X, y = make_blobs(n_samples=60000, n_features=2, random_state=0,cluster_std=0.5, centers=2*c)\n",
    "plt.scatter(X[:,0],X[:,1])"
   ]
  },
  {
   "cell_type": "code",
   "execution_count": 37,
   "metadata": {},
   "outputs": [],
   "source": [
    "c = np.vstack((np.sin(np.asarray([1,2,3])*np.pi/3*2),np.cos(np.asarray([1,2,3])*np.pi/3*2)))"
   ]
  },
  {
   "cell_type": "code",
   "execution_count": 96,
   "metadata": {},
   "outputs": [],
   "source": [
    "from scipy.stats import norm\n",
    "Z = np.random.normal(0, 1, 10**6)\n",
    "eps = np.random.multivariate_normal([0,0], [[0.2, 0], [0, 0.2]], 10**6)\n",
    "u = 2*np.pi/(1+np.exp(-0.5*np.pi*Z))\n",
    "t = 2*np.tanh(10*u-20*np.floor(0.5*u)-10)+4*np.floor(0.5*u)+2.\n",
    "x1 = np.cos(t) + eps[:,0]\n",
    "x2 = np.sin(t) + eps[:,1]"
   ]
  },
  {
   "cell_type": "code",
   "execution_count": 105,
   "metadata": {},
   "outputs": [],
   "source": [
    "X = np.vstack((x1,x2)).transpose()"
   ]
  },
  {
   "cell_type": "code",
   "execution_count": 106,
   "metadata": {},
   "outputs": [
    {
     "data": {
      "text/plain": [
       "(1000000, 2)"
      ]
     },
     "execution_count": 106,
     "metadata": {},
     "output_type": "execute_result"
    }
   ],
   "source": [
    "X.shape"
   ]
  },
  {
   "cell_type": "code",
   "execution_count": 102,
   "metadata": {},
   "outputs": [
    {
     "data": {
      "text/plain": [
       "(array([[0., 0., 0., ..., 0., 0., 0.],\n",
       "        [0., 0., 0., ..., 0., 0., 0.],\n",
       "        [0., 0., 0., ..., 0., 0., 0.],\n",
       "        ...,\n",
       "        [0., 0., 0., ..., 0., 0., 0.],\n",
       "        [0., 0., 0., ..., 0., 0., 0.],\n",
       "        [0., 0., 0., ..., 0., 0., 0.]]),\n",
       " array([-3.04983772, -2.92868705, -2.80753638, -2.68638571, -2.56523504,\n",
       "        -2.44408437, -2.32293369, -2.20178302, -2.08063235, -1.95948168,\n",
       "        -1.83833101, -1.71718034, -1.59602967, -1.474879  , -1.35372833,\n",
       "        -1.23257766, -1.11142699, -0.99027632, -0.86912565, -0.74797498,\n",
       "        -0.62682431, -0.50567364, -0.38452297, -0.26337229, -0.14222162,\n",
       "        -0.02107095,  0.10007972,  0.22123039,  0.34238106,  0.46353173,\n",
       "         0.5846824 ,  0.70583307,  0.82698374,  0.94813441,  1.06928508,\n",
       "         1.19043575,  1.31158642,  1.43273709,  1.55388776,  1.67503843,\n",
       "         1.7961891 ,  1.91733978,  2.03849045,  2.15964112,  2.28079179,\n",
       "         2.40194246,  2.52309313,  2.6442438 ,  2.76539447,  2.88654514,\n",
       "         3.00769581]),\n",
       " array([-2.97147018e+00, -2.85266873e+00, -2.73386728e+00, -2.61506583e+00,\n",
       "        -2.49626438e+00, -2.37746293e+00, -2.25866148e+00, -2.13986003e+00,\n",
       "        -2.02105857e+00, -1.90225712e+00, -1.78345567e+00, -1.66465422e+00,\n",
       "        -1.54585277e+00, -1.42705132e+00, -1.30824987e+00, -1.18944842e+00,\n",
       "        -1.07064697e+00, -9.51845516e-01, -8.33044065e-01, -7.14242614e-01,\n",
       "        -5.95441163e-01, -4.76639712e-01, -3.57838261e-01, -2.39036810e-01,\n",
       "        -1.20235359e-01, -1.43390761e-03,  1.17367543e-01,  2.36168994e-01,\n",
       "         3.54970445e-01,  4.73771896e-01,  5.92573347e-01,  7.11374798e-01,\n",
       "         8.30176249e-01,  9.48977700e-01,  1.06777915e+00,  1.18658060e+00,\n",
       "         1.30538205e+00,  1.42418350e+00,  1.54298496e+00,  1.66178641e+00,\n",
       "         1.78058786e+00,  1.89938931e+00,  2.01819076e+00,  2.13699221e+00,\n",
       "         2.25579366e+00,  2.37459511e+00,  2.49339656e+00,  2.61219801e+00,\n",
       "         2.73099947e+00,  2.84980092e+00,  2.96860237e+00]),\n",
       " <matplotlib.collections.QuadMesh at 0x7ff8ecc40910>)"
      ]
     },
     "execution_count": 102,
     "metadata": {},
     "output_type": "execute_result"
    },
    {
     "data": {
      "image/png": "[encoded data removed]",
      "text/plain": [
       "<Figure size 432x288 with 1 Axes>"
      ]
     },
     "metadata": {
      "needs_background": "light"
     },
     "output_type": "display_data"
    }
   ],
   "source": [
    "plt.hist2d(x1,x2,bins=50,cmap=\"gist_heat_r\")"
   ]
  },
  {
   "cell_type": "code",
   "execution_count": 34,
   "metadata": {},
   "outputs": [],
   "source": [
    "Z = torch.Tensor(np.random.multivariate_normal([0,0], [[1,0],[0,1]], 10**4))\n",
    "X_sample_mu, X_sample_sigma = P(Z)\n",
    "X_sample_sigma_square = torch.diag_embed(torch.exp(X_sample_sigma*2), dim1=-2, dim2=-1)\n",
    "kernels = MultivariateNormal(X_sample_mu, X_sample_sigma_square)"
   ]
  },
  {
   "cell_type": "code",
   "execution_count": 38,
   "metadata": {},
   "outputs": [
    {
     "data": {
      "text/plain": [
       "array([[ -2.1985157 ,  16.429544  ],\n",
       "       [ -1.0646874 ,  11.973606  ],\n",
       "       [ -2.16642   ,  -7.249029  ],\n",
       "       ...,\n",
       "       [ -0.98971474,  12.05236   ],\n",
       "       [ -2.8292003 ,   5.080568  ],\n",
       "       [ -3.467205  , -12.594424  ]], dtype=float32)"
      ]
     },
     "execution_count": 38,
     "metadata": {},
     "output_type": "execute_result"
    }
   ],
   "source": [
    "kernels.sample().cpu().detach().numpy()"
   ]
  },
  {
   "cell_type": "code",
   "execution_count": 14,
   "metadata": {
    "scrolled": true
   },
   "outputs": [
    {
     "data": {
      "text/plain": [
       "array([[-2.0470963 , -2.0716312 ],\n",
       "       [-1.9909204 , -0.74431396],\n",
       "       [-1.8837683 , -1.8002567 ],\n",
       "       ...,\n",
       "       [-1.9283814 ,  0.184941  ],\n",
       "       [-2.000694  , -1.1147143 ],\n",
       "       [-1.7880775 ,  2.073108  ]], dtype=float32)"
      ]
     },
     "execution_count": 14,
     "metadata": {},
     "output_type": "execute_result"
    }
   ],
   "source": [
    "X_sample_mu.cpu().detach().numpy()"
   ]
  },
  {
   "cell_type": "code",
   "execution_count": 15,
   "metadata": {
    "scrolled": true
   },
   "outputs": [],
   "source": [
    "sample_x = []\n",
    "for mu, log_sigma in zip(X_sample_mu.cpu().detach().numpy(), X_sample_sigma.cpu().detach().numpy()):\n",
    "    temp_x = np.random.multivariate_normal(mu, np.diag(np.exp(log_sigma*2)), 10)\n",
    "    sample_x.append(temp_x)"
   ]
  },
  {
   "cell_type": "code",
   "execution_count": 16,
   "metadata": {},
   "outputs": [],
   "source": [
    "sample_x = np.asarray(sample_x).reshape(-1,2)"
   ]
  },
  {
   "cell_type": "code",
   "execution_count": 19,
   "metadata": {},
   "outputs": [
    {
     "data": {
      "text/plain": [
       "(array([[0., 0., 0., ..., 0., 0., 0.],\n",
       "        [0., 0., 0., ..., 0., 0., 0.],\n",
       "        [0., 0., 0., ..., 0., 0., 0.],\n",
       "        ...,\n",
       "        [0., 0., 0., ..., 0., 0., 0.],\n",
       "        [0., 0., 0., ..., 0., 0., 0.],\n",
       "        [0., 0., 0., ..., 0., 0., 0.]]),\n",
       " array([-6.87137234, -6.6935641 , -6.51575586, -6.33794762, -6.16013938,\n",
       "        -5.98233114, -5.8045229 , -5.62671466, -5.44890642, -5.27109818,\n",
       "        -5.09328994, -4.9154817 , -4.73767346, -4.55986522, -4.38205698,\n",
       "        -4.20424874, -4.0264405 , -3.84863226, -3.67082402, -3.49301578,\n",
       "        -3.31520754, -3.1373993 , -2.95959106, -2.78178282, -2.60397458,\n",
       "        -2.42616634, -2.2483581 , -2.07054986, -1.89274162, -1.71493338,\n",
       "        -1.53712514, -1.3593169 , -1.18150866, -1.00370042, -0.82589218,\n",
       "        -0.64808394, -0.4702757 , -0.29246746, -0.11465922,  0.06314902,\n",
       "         0.24095726,  0.4187655 ,  0.59657374,  0.77438198,  0.95219022,\n",
       "         1.12999846,  1.3078067 ,  1.48561494,  1.66342318,  1.84123142,\n",
       "         2.01903966]),\n",
       " array([-48.06857105, -46.26246014, -44.45634923, -42.65023832,\n",
       "        -40.84412742, -39.03801651, -37.2319056 , -35.42579469,\n",
       "        -33.61968379, -31.81357288, -30.00746197, -28.20135106,\n",
       "        -26.39524015, -24.58912925, -22.78301834, -20.97690743,\n",
       "        -19.17079652, -17.36468561, -15.55857471, -13.7524638 ,\n",
       "        -11.94635289, -10.14024198,  -8.33413108,  -6.52802017,\n",
       "         -4.72190926,  -2.91579835,  -1.10968744,   0.69642346,\n",
       "          2.50253437,   4.30864528,   6.11475619,   7.9208671 ,\n",
       "          9.726978  ,  11.53308891,  13.33919982,  15.14531073,\n",
       "         16.95142163,  18.75753254,  20.56364345,  22.36975436,\n",
       "         24.17586527,  25.98197617,  27.78808708,  29.59419799,\n",
       "         31.4003089 ,  33.20641981,  35.01253071,  36.81864162,\n",
       "         38.62475253,  40.43086344,  42.23697434]),\n",
       " <matplotlib.collections.QuadMesh at 0x7faf510dd250>)"
      ]
     },
     "execution_count": 19,
     "metadata": {},
     "output_type": "execute_result"
    },
    {
     "data": {
      "image/png": "[encoded data removed]",
      "text/plain": [
       "<Figure size 432x288 with 2 Axes>"
      ]
     },
     "metadata": {
      "needs_background": "light"
     },
     "output_type": "display_data"
    }
   ],
   "source": [
    "ax1=plt.subplot(1, 2, 1)\n",
    "ax1.hist2d(sample_x[:,0],sample_x[:,1],bins=50,cmap=\"gist_heat_r\")\n",
    "ax2 = plt.subplot(1,2,2)\n",
    "ax2.hist2d(X[:,0],X[:,1],bins=50,cmap=\"gist_heat_r\")"
   ]
  },
  {
   "cell_type": "code",
   "execution_count": 21,
   "metadata": {},
   "outputs": [
    {
     "data": {
      "text/plain": [
       "array([-1.90887502,  0.03424988])"
      ]
     },
     "execution_count": 21,
     "metadata": {},
     "output_type": "execute_result"
    }
   ],
   "source": [
    "np.mean(sample_x,axis=0)"
   ]
  },
  {
   "cell_type": "code",
   "execution_count": 22,
   "metadata": {},
   "outputs": [
    {
     "data": {
      "text/plain": [
       "array([-1.99846885,  0.01669429])"
      ]
     },
     "execution_count": 22,
     "metadata": {},
     "output_type": "execute_result"
    }
   ],
   "source": [
    "np.mean(X, axis=0)"
   ]
  },
  {
   "cell_type": "code",
   "execution_count": 23,
   "metadata": {},
   "outputs": [
    {
     "data": {
      "text/plain": [
       "array([ 0.99949447, 11.11678792])"
      ]
     },
     "execution_count": 23,
     "metadata": {},
     "output_type": "execute_result"
    }
   ],
   "source": [
    "np.var(sample_x,axis=0)"
   ]
  },
  {
   "cell_type": "code",
   "execution_count": 24,
   "metadata": {},
   "outputs": [
    {
     "data": {
      "text/plain": [
       "array([ 1.00891079, 99.6919849 ])"
      ]
     },
     "execution_count": 24,
     "metadata": {},
     "output_type": "execute_result"
    }
   ],
   "source": [
    "np.var(X,axis=0)"
   ]
  },
  {
   "cell_type": "code",
   "execution_count": null,
   "metadata": {},
   "outputs": [],
   "source": []
  },
  {
   "cell_type": "code",
   "execution_count": 122,
   "metadata": {},
   "outputs": [],
   "source": [
    "sigma_sample = X_sample_sigma.cpu().detach().numpy()"
   ]
  },
  {
   "cell_type": "code",
   "execution_count": 123,
   "metadata": {},
   "outputs": [],
   "source": [
    "mu = mu_sample[0]"
   ]
  },
  {
   "cell_type": "code",
   "execution_count": 124,
   "metadata": {},
   "outputs": [],
   "source": [
    "log_sigma = sigma_sample[0]"
   ]
  },
  {
   "cell_type": "code",
   "execution_count": 125,
   "metadata": {},
   "outputs": [
    {
     "data": {
      "text/plain": [
       "array([[-0.59359856, -0.2779433 ],\n",
       "       [-1.52953947, -0.19332419],\n",
       "       [-1.70531358, -0.26078786],\n",
       "       [-1.04972247, -0.75789738],\n",
       "       [-0.69705988, -0.62217335],\n",
       "       [-0.89998964,  0.34180836],\n",
       "       [-0.67583555, -0.48873014],\n",
       "       [-1.54048073, -1.39306325],\n",
       "       [-0.12020233, -0.25016128],\n",
       "       [-0.89124832,  0.43292988]])"
      ]
     },
     "execution_count": 125,
     "metadata": {},
     "output_type": "execute_result"
    }
   ],
   "source": [
    "np.random.multivariate_normal(mu, np.diag(np.exp(log_sigma*0.5)), 10)"
   ]
  },
  {
   "cell_type": "code",
   "execution_count": null,
   "metadata": {},
   "outputs": [],
   "source": []
  }
 ],
 "metadata": {
  "kernelspec": {
   "display_name": "Python 3",
   "language": "python",
   "name": "python3"
  },
  "language_info": {
   "codemirror_mode": {
    "name": "ipython",
    "version": 3
   },
   "file_extension": ".py",
   "mimetype": "text/x-python",
   "name": "python",
   "nbconvert_exporter": "python",
   "pygments_lexer": "ipython3",
   "version": "3.7.4"
  }
 },
 "nbformat": 4,
 "nbformat_minor": 2
}
