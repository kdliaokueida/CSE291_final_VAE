{
 "cells": [
  {
   "cell_type": "code",
   "execution_count": 3,
   "metadata": {},
   "outputs": [],
   "source": [
    "import torch\n",
    "import torch.nn.functional as nn\n",
    "import torch.autograd as autograd\n",
    "import torch.optim as optim\n",
    "from torch.distributions.multivariate_normal import MultivariateNormal\n",
    "import numpy as np\n",
    "import matplotlib.pyplot as plt\n",
    "import matplotlib.gridspec as gridspec\n",
    "import os\n",
    "from torch.autograd import Variable\n",
    "\n",
    "Z = np.random.multivariate_normal([0,0], np.eye(2), 20000)\n",
    "A = [[3,0],[0,1/3]]\n",
    "B = [[np.cos(np.pi/3), -np.sin(np.pi/3)],[np.sin(np.pi/3), np.cos(np.pi/3)]]\n",
    "eps = np.random.multivariate_normal([0,0], [[0.2, 0], [0, 0.2]], 20000)\n",
    "\n",
    "X = np.matmul(A,Z.transpose()).transpose()\n",
    "X = np.matmul(B,X.transpose()).transpose() + np.array([-2,1]) + eps\n",
    "\n",
    "# X_test\n",
    "Z = np.random.multivariate_normal([0,0], np.eye(2), 10000)\n",
    "A = [[3,0],[0,1/3]]\n",
    "B = [[np.cos(np.pi/3), -np.sin(np.pi/3)],[np.sin(np.pi/3), np.cos(np.pi/3)]]\n",
    "eps = np.random.multivariate_normal([0,0], [[0.2, 0], [0, 0.2]], 10000)\n",
    "\n",
    "X_test = np.matmul(A,Z.transpose()).transpose()\n",
    "X_test = np.matmul(B,X_test.transpose()).transpose() + np.array([-2,1]) + eps\n",
    "\n",
    "mb_size = 32\n",
    "Z_dim = 2\n",
    "X_dim = X.shape[1]\n",
    "h_dim = 128\n",
    "c = 0\n",
    "lr = 1e-3\n",
    "\n",
    "def xavier_init(size):\n",
    "    in_dim = size[0]\n",
    "    xavier_stddev = 1. / np.sqrt(in_dim / 2.)\n",
    "    return Variable(torch.randn(*size) * xavier_stddev, requires_grad=True)\n"
   ]
  },
  {
   "cell_type": "code",
   "execution_count": 6,
   "metadata": {
    "scrolled": false
   },
   "outputs": [
    {
     "data": {
      "image/png": "[encoded data removed]",
      "text/plain": [
       "<Figure size 432x288 with 1 Axes>"
      ]
     },
     "metadata": {
      "needs_background": "light"
     },
     "output_type": "display_data"
    }
   ],
   "source": [
    "plt.hist2d(X[:,0],X[:,1],bins=50,cmap=\"gist_heat_r\")\n",
    "plt.xlim(-10,10)\n",
    "plt.ylim(-10,10)\n",
    "plt.savefig('nonisotropic_2d_normal_diagonal_Z/nonisotropic_training.png')"
   ]
  },
  {
   "cell_type": "code",
   "execution_count": 27,
   "metadata": {},
   "outputs": [],
   "source": [
    "# =============================== Q(z|X) ======================================\n",
    "\n",
    "Wxh = xavier_init(size=[X_dim, h_dim])\n",
    "bxh = Variable(torch.zeros(h_dim), requires_grad=True)\n",
    "\n",
    "Whz_mu = xavier_init(size=[h_dim, Z_dim])\n",
    "bhz_mu = Variable(torch.zeros(Z_dim), requires_grad=True)\n",
    "\n",
    "Whz_var = xavier_init(size=[h_dim, Z_dim])\n",
    "bhz_var = Variable(torch.zeros(Z_dim), requires_grad=True)\n",
    "\n",
    "\n",
    "def Q(X):\n",
    "    h = nn.relu(X @ Wxh + bxh.repeat(X.size(0), 1))\n",
    "    z_mu = h @ Whz_mu + bhz_mu.repeat(h.size(0), 1)\n",
    "    z_var = h @ Whz_var + bhz_var.repeat(h.size(0), 1)\n",
    "    return z_mu, z_var\n",
    "\n",
    "\n",
    "def sample_z(mu, log_var):\n",
    "    eps = Variable(torch.randn(mu.shape[0], Z_dim))\n",
    "    return mu + torch.exp(log_var / 2) * eps\n"
   ]
  },
  {
   "cell_type": "code",
   "execution_count": 28,
   "metadata": {},
   "outputs": [],
   "source": [
    "# =============================== P(X|z) ======================================\n",
    "\n",
    "Wzh = xavier_init(size=[Z_dim, h_dim])\n",
    "bzh = Variable(torch.zeros(h_dim), requires_grad=True)\n",
    "\n",
    "Whmu = xavier_init(size=[h_dim, X_dim])\n",
    "bhmu = Variable(torch.zeros(X_dim), requires_grad=True)\n",
    "\n",
    "Whsigma = xavier_init(size=[h_dim, X_dim])\n",
    "bhsigma = Variable(torch.zeros(X_dim), requires_grad=True)\n",
    "\n",
    "def P(z):\n",
    "    h = torch.tanh(z @ Wzh + bzh.repeat(z.size(0), 1))\n",
    "    X_mu = (h @ Whmu + bhmu.repeat(h.size(0), 1))\n",
    "    X_sigma = (h @ Whsigma + bhsigma.repeat(h.size(0), 1))\n",
    "    return X_mu, X_sigma\n"
   ]
  },
  {
   "cell_type": "code",
   "execution_count": 29,
   "metadata": {},
   "outputs": [],
   "source": [
    "from torch.utils.data import Dataset, DataLoader\n",
    "\n",
    "class MyDataset(Dataset):\n",
    "    def __init__(self, data, target, transform=None):\n",
    "        self.data = torch.from_numpy(data).float()\n",
    "        self.data = torch.flatten(self.data, start_dim=1)\n",
    "        self.target = torch.from_numpy(target).float()\n",
    "        self.transform = transform\n",
    "        \n",
    "    def __getitem__(self, index):\n",
    "        x = self.data[index]\n",
    "        y = self.target[index]\n",
    "        \n",
    "        if self.transform:\n",
    "            x = self.transform(x)\n",
    "        \n",
    "        return x, y\n",
    "    \n",
    "    def __len__(self):\n",
    "        return len(self.data)"
   ]
  },
  {
   "cell_type": "code",
   "execution_count": 30,
   "metadata": {
    "scrolled": true
   },
   "outputs": [],
   "source": [
    "dataset = MyDataset(X, X)\n",
    "loader = DataLoader(\n",
    "    dataset,\n",
    "    batch_size=mb_size,\n",
    "    shuffle=True,\n",
    "    num_workers=0,\n",
    "    pin_memory=torch.cuda.is_available()\n",
    ")\n",
    "\n",
    "# for batch_idx, (data, target) in enumerate(loader):\n",
    "#     print('Batch idx {}, data shape {}, target shape {}'.format(\n",
    "#         batch_idx, data.shape, target.shape))\n"
   ]
  },
  {
   "cell_type": "code",
   "execution_count": 31,
   "metadata": {
    "scrolled": true
   },
   "outputs": [
    {
     "name": "stdout",
     "output_type": "stream",
     "text": [
      "Iter-1; Loss: 5.134\n",
      "Iter-2; Loss: 4.276\n",
      "Iter-3; Loss: 3.645\n",
      "Iter-4; Loss: 3.514\n",
      "Iter-5; Loss: 3.727\n",
      "Iter-6; Loss: 3.482\n",
      "Iter-7; Loss: 3.228\n",
      "Iter-8; Loss: 3.753\n",
      "Iter-9; Loss: 3.192\n",
      "Iter-10; Loss: 3.321\n",
      "Iter-11; Loss: 3.67\n",
      "Iter-12; Loss: 3.411\n",
      "Iter-13; Loss: 3.452\n",
      "Iter-14; Loss: 3.504\n",
      "Iter-15; Loss: 3.492\n",
      "Iter-16; Loss: 3.643\n",
      "Iter-17; Loss: 3.722\n",
      "Iter-18; Loss: 3.888\n",
      "Iter-19; Loss: 3.696\n",
      "Iter-20; Loss: 2.862\n",
      "Iter-21; Loss: 3.372\n",
      "Iter-22; Loss: 3.197\n",
      "Iter-23; Loss: 3.052\n",
      "Iter-24; Loss: 3.369\n",
      "Iter-25; Loss: 3.123\n",
      "Iter-26; Loss: 3.993\n",
      "Iter-27; Loss: 3.609\n",
      "Iter-28; Loss: 3.498\n",
      "Iter-29; Loss: 3.28\n",
      "Iter-30; Loss: 3.404\n",
      "Iter-31; Loss: 3.355\n",
      "Iter-32; Loss: 3.152\n",
      "Iter-33; Loss: 3.146\n",
      "Iter-34; Loss: 3.276\n",
      "Iter-35; Loss: 4.132\n",
      "Iter-36; Loss: 3.27\n",
      "Iter-37; Loss: 3.564\n",
      "Iter-38; Loss: 3.42\n",
      "Iter-39; Loss: 3.196\n",
      "Iter-40; Loss: 3.529\n",
      "Iter-41; Loss: 3.4\n",
      "Iter-42; Loss: 3.861\n",
      "Iter-43; Loss: 3.48\n",
      "Iter-44; Loss: 3.346\n",
      "Iter-45; Loss: 3.576\n",
      "Iter-46; Loss: 3.616\n",
      "Iter-47; Loss: 3.798\n",
      "Iter-48; Loss: 3.844\n",
      "Iter-49; Loss: 3.507\n",
      "Iter-50; Loss: 3.383\n"
     ]
    }
   ],
   "source": [
    "# =============================== TRAINING ====================================\n",
    "\n",
    "params = [Wxh, bxh, Whz_mu, bhz_mu, Whz_var, bhz_var,\n",
    "          Wzh, bzh, Whmu, bhmu, Whsigma, bhsigma]\n",
    "\n",
    "solver = optim.Adam(params, lr=lr)\n",
    "\n",
    "loss_epoch = []\n",
    "# loss_batch = []\n",
    "x_from_prior = []\n",
    "x_from_test = []\n",
    "\n",
    "Z = torch.Tensor(np.random.multivariate_normal([0,0], [[1,0],[0,1]], 10**4))\n",
    "X_sample_mu, X_sample_sigma = P(Z)\n",
    "X_sample_sigma_square = torch.diag_embed(torch.exp(X_sample_sigma*2), dim1=-2, dim2=-1)\n",
    "kernels = MultivariateNormal(X_sample_mu, X_sample_sigma_square)\n",
    "\n",
    "x_from_prior.append(kernels.sample().cpu().detach().numpy())\n",
    "\n",
    "test_data = torch.from_numpy(X_test).float()\n",
    "Z_mu, Z_var = Q(test_data)\n",
    "Z = sample_z(Z_mu, Z_var)\n",
    "X_sample_mu, X_sample_sigma = P(Z)\n",
    "X_sample_sigma_square = torch.diag_embed(torch.exp(X_sample_sigma*2), dim1=-2, dim2=-1)\n",
    "kernels = MultivariateNormal(X_sample_mu, X_sample_sigma_square)\n",
    "\n",
    "x_from_test.append(kernels.sample().cpu().detach().numpy())\n",
    "            \n",
    "for it in range(50):\n",
    "    for x_batch, y_batch in loader:\n",
    "        # Forward\n",
    "        z_mu, z_var = Q(x_batch)\n",
    "        z = sample_z(z_mu, z_var)\n",
    "        x_sample_mu, x_sample_sigma = P(z)\n",
    "            \n",
    "\n",
    "        # Loss\n",
    "        #recon_loss = nn.binary_cross_entropy(x_sample, x_batch, size_average=False) / mb_size  # Bernoulli\n",
    "        x_sample_sigma_square = torch.diag_embed(torch.exp(x_sample_sigma*2), dim1=-2, dim2=-1)\n",
    "        kernels = MultivariateNormal(x_sample_mu, x_sample_sigma_square)\n",
    "#         recon_loss = kernels.log_prob(x_batch[:,None,:]).mean()\n",
    "        recon_loss = -1*kernels.log_prob(x_batch).mean()\n",
    "        kl_loss = torch.mean(0.5 * torch.sum(torch.exp(z_var) + z_mu**2 - 1. - z_var, 1))\n",
    "        loss = recon_loss + kl_loss\n",
    "\n",
    "        # Backward\n",
    "        loss.backward()\n",
    "\n",
    "        # Update\n",
    "        solver.step()\n",
    "\n",
    "        # Housekeeping\n",
    "        for p in params:\n",
    "            if p.grad is not None:\n",
    "                data = p.grad.data\n",
    "                p.grad = Variable(data.new().resize_as_(data).zero_())\n",
    "     \n",
    "    # Print loss after each epoch\n",
    "    loss_epoch.append(loss.item())\n",
    "    print('Iter-{}; Loss: {:.4}'.format(it+1, loss.item()))\n",
    "\n",
    "    # generate samples\n",
    "    Z = torch.Tensor(np.random.multivariate_normal([0,0], [[1,0],[0,1]], 10**4))\n",
    "    X_sample_mu, X_sample_sigma = P(Z)\n",
    "    X_sample_sigma_square = torch.diag_embed(torch.exp(X_sample_sigma*2), dim1=-2, dim2=-1)\n",
    "    kernels = MultivariateNormal(X_sample_mu, X_sample_sigma_square)\n",
    "\n",
    "    x_from_prior.append(kernels.sample().cpu().detach().numpy())\n",
    "\n",
    "    test_data = torch.from_numpy(X_test).float()\n",
    "    Z_mu, Z_var = Q(test_data)\n",
    "    Z = sample_z(Z_mu, Z_var)\n",
    "    X_sample_mu, X_sample_sigma = P(Z)\n",
    "    X_sample_sigma_square = torch.diag_embed(torch.exp(X_sample_sigma*2), dim1=-2, dim2=-1)\n",
    "    kernels = MultivariateNormal(X_sample_mu, X_sample_sigma_square)\n",
    "\n",
    "    x_from_test.append(kernels.sample().cpu().detach().numpy())"
   ]
  },
  {
   "cell_type": "code",
   "execution_count": 32,
   "metadata": {},
   "outputs": [],
   "source": [
    "np.save('nonisotropic_2d_normal_diagonal_Z/diagonal_nonisotropic_loss',loss_epoch)"
   ]
  },
  {
   "cell_type": "code",
   "execution_count": 33,
   "metadata": {},
   "outputs": [
    {
     "data": {
      "image/png": "[encoded data removed]",
      "text/plain": [
       "<Figure size 432x288 with 1 Axes>"
      ]
     },
     "metadata": {
      "needs_background": "light"
     },
     "output_type": "display_data"
    }
   ],
   "source": [
    "plt.plot(np.arange(1,51),loss_epoch)\n",
    "plt.xlim(1,50)\n",
    "plt.xlabel('epoch')\n",
    "plt.ylabel('loss')\n",
    "plt.savefig('nonisotropic_2d_normal_diagonal_Z/nonisotropic_loss_epoch.png')"
   ]
  },
  {
   "cell_type": "code",
   "execution_count": 56,
   "metadata": {},
   "outputs": [
    {
     "data": {
      "image/png": "[encoded data removed]",
      "text/plain": [
       "<Figure size 432x288 with 1 Axes>"
      ]
     },
     "metadata": {
      "needs_background": "light"
     },
     "output_type": "display_data"
    }
   ],
   "source": [
    "i +=1\n",
    "plt.hist2d(x_from_prior[i][:,0],x_from_prior[i][:,1],bins=50,cmap=\"gist_heat_r\")\n",
    "plt.xlim(-10,10)\n",
    "plt.ylim(-10,10)\n",
    "plt.title('epoch #'+str((i)))\n",
    "plt.savefig('nonisotropic_2d_normal_diagonal_Z/nonisotropic_from_prior_epoch'+str((i))+'.png')"
   ]
  },
  {
   "cell_type": "code",
   "execution_count": 57,
   "metadata": {},
   "outputs": [
    {
     "data": {
      "image/png": "[encoded data removed]",
      "text/plain": [
       "<Figure size 432x288 with 1 Axes>"
      ]
     },
     "metadata": {
      "needs_background": "light"
     },
     "output_type": "display_data"
    }
   ],
   "source": [
    "plt.hist2d(x_from_test[i][:,0],x_from_test[i][:,1],bins=50,cmap=\"gist_heat_r\")\n",
    "plt.xlim(-10,10)\n",
    "plt.ylim(-10,10)\n",
    "plt.title('epoch #'+str((i)))\n",
    "plt.savefig('nonisotropic_2d_normal_diagonal_Z/nonisotropic_from_test_epoch'+str((i))+'.png')"
   ]
  },
  {
   "cell_type": "code",
   "execution_count": 36,
   "metadata": {},
   "outputs": [
    {
     "data": {
      "image/png": "[encoded data removed]",
      "text/plain": [
       "<Figure size 432x288 with 1 Axes>"
      ]
     },
     "metadata": {
      "needs_background": "light"
     },
     "output_type": "display_data"
    }
   ],
   "source": [
    "plt.hist2d(x_from_prior[-1][:,0],x_from_prior[-1][:,1],bins=50,cmap=\"gist_heat_r\")\n",
    "plt.xlim(-10,10)\n",
    "plt.ylim(-10,10)\n",
    "plt.savefig('nonisotropic_2d_normal_diagonal_Z/nonisotropic_from_prior_final.png')"
   ]
  },
  {
   "cell_type": "code",
   "execution_count": 37,
   "metadata": {},
   "outputs": [
    {
     "data": {
      "image/png": "[encoded data removed]",
      "text/plain": [
       "<Figure size 432x288 with 1 Axes>"
      ]
     },
     "metadata": {
      "needs_background": "light"
     },
     "output_type": "display_data"
    }
   ],
   "source": [
    "plt.hist2d(x_from_test[-1][:,0],x_from_test[-1][:,1],bins=50,cmap=\"gist_heat_r\")\n",
    "plt.xlim(-10,10)\n",
    "plt.ylim(-10,10)\n",
    "plt.savefig('nonisotropic_2d_normal_diagonal_Z/nonisotropic_from_test_final.png')"
   ]
  },
  {
   "cell_type": "code",
   "execution_count": 17,
   "metadata": {},
   "outputs": [],
   "source": [
    "from sklearn.datasets import make_blobs\n",
    "from matplotlib import pyplot as plt\n",
    "%notebook inline"
   ]
  },
  {
   "cell_type": "code",
   "execution_count": 48,
   "metadata": {
    "scrolled": true
   },
   "outputs": [
    {
     "data": {
      "text/plain": [
       "<matplotlib.collections.PathCollection at 0x7ff9f8d10950>"
      ]
     },
     "execution_count": 48,
     "metadata": {},
     "output_type": "execute_result"
    },
    {
     "data": {
      "image/png": "[encoded data removed]",
      "text/plain": [
       "<Figure size 432x288 with 1 Axes>"
      ]
     },
     "metadata": {
      "needs_background": "light"
     },
     "output_type": "display_data"
    }
   ],
   "source": [
    "c = np.vstack((np.sin(np.asarray([1,2,3])*np.pi/3*2),np.cos(np.asarray([1,2,3])*np.pi/3*2))).transpose()\n",
    "X, y = make_blobs(n_samples=60000, n_features=2, random_state=0,cluster_std=0.5, centers=2*c)\n",
    "plt.scatter(X[:,0],X[:,1])"
   ]
  },
  {
   "cell_type": "code",
   "execution_count": 37,
   "metadata": {},
   "outputs": [],
   "source": [
    "c = np.vstack((np.sin(np.asarray([1,2,3])*np.pi/3*2),np.cos(np.asarray([1,2,3])*np.pi/3*2)))"
   ]
  },
  {
   "cell_type": "code",
   "execution_count": 96,
   "metadata": {},
   "outputs": [],
   "source": [
    "from scipy.stats import norm\n",
    "Z = np.random.normal(0, 1, 10**6)\n",
    "eps = np.random.multivariate_normal([0,0], [[0.2, 0], [0, 0.2]], 10**6)\n",
    "u = 2*np.pi/(1+np.exp(-0.5*np.pi*Z))\n",
    "t = 2*np.tanh(10*u-20*np.floor(0.5*u)-10)+4*np.floor(0.5*u)+2.\n",
    "x1 = np.cos(t) + eps[:,0]\n",
    "x2 = np.sin(t) + eps[:,1]"
   ]
  },
  {
   "cell_type": "code",
   "execution_count": 105,
   "metadata": {},
   "outputs": [],
   "source": [
    "X = np.vstack((x1,x2)).transpose()"
   ]
  },
  {
   "cell_type": "code",
   "execution_count": 106,
   "metadata": {},
   "outputs": [
    {
     "data": {
      "text/plain": [
       "(1000000, 2)"
      ]
     },
     "execution_count": 106,
     "metadata": {},
     "output_type": "execute_result"
    }
   ],
   "source": [
    "X.shape"
   ]
  },
  {
   "cell_type": "code",
   "execution_count": 102,
   "metadata": {},
   "outputs": [
    {
     "data": {
      "text/plain": [
       "(array([[0., 0., 0., ..., 0., 0., 0.],\n",
       "        [0., 0., 0., ..., 0., 0., 0.],\n",
       "        [0., 0., 0., ..., 0., 0., 0.],\n",
       "        ...,\n",
       "        [0., 0., 0., ..., 0., 0., 0.],\n",
       "        [0., 0., 0., ..., 0., 0., 0.],\n",
       "        [0., 0., 0., ..., 0., 0., 0.]]),\n",
       " array([-3.04983772, -2.92868705, -2.80753638, -2.68638571, -2.56523504,\n",
       "        -2.44408437, -2.32293369, -2.20178302, -2.08063235, -1.95948168,\n",
       "        -1.83833101, -1.71718034, -1.59602967, -1.474879  , -1.35372833,\n",
       "        -1.23257766, -1.11142699, -0.99027632, -0.86912565, -0.74797498,\n",
       "        -0.62682431, -0.50567364, -0.38452297, -0.26337229, -0.14222162,\n",
       "        -0.02107095,  0.10007972,  0.22123039,  0.34238106,  0.46353173,\n",
       "         0.5846824 ,  0.70583307,  0.82698374,  0.94813441,  1.06928508,\n",
       "         1.19043575,  1.31158642,  1.43273709,  1.55388776,  1.67503843,\n",
       "         1.7961891 ,  1.91733978,  2.03849045,  2.15964112,  2.28079179,\n",
       "         2.40194246,  2.52309313,  2.6442438 ,  2.76539447,  2.88654514,\n",
       "         3.00769581]),\n",
       " array([-2.97147018e+00, -2.85266873e+00, -2.73386728e+00, -2.61506583e+00,\n",
       "        -2.49626438e+00, -2.37746293e+00, -2.25866148e+00, -2.13986003e+00,\n",
       "        -2.02105857e+00, -1.90225712e+00, -1.78345567e+00, -1.66465422e+00,\n",
       "        -1.54585277e+00, -1.42705132e+00, -1.30824987e+00, -1.18944842e+00,\n",
       "        -1.07064697e+00, -9.51845516e-01, -8.33044065e-01, -7.14242614e-01,\n",
       "        -5.95441163e-01, -4.76639712e-01, -3.57838261e-01, -2.39036810e-01,\n",
       "        -1.20235359e-01, -1.43390761e-03,  1.17367543e-01,  2.36168994e-01,\n",
       "         3.54970445e-01,  4.73771896e-01,  5.92573347e-01,  7.11374798e-01,\n",
       "         8.30176249e-01,  9.48977700e-01,  1.06777915e+00,  1.18658060e+00,\n",
       "         1.30538205e+00,  1.42418350e+00,  1.54298496e+00,  1.66178641e+00,\n",
       "         1.78058786e+00,  1.89938931e+00,  2.01819076e+00,  2.13699221e+00,\n",
       "         2.25579366e+00,  2.37459511e+00,  2.49339656e+00,  2.61219801e+00,\n",
       "         2.73099947e+00,  2.84980092e+00,  2.96860237e+00]),\n",
       " <matplotlib.collections.QuadMesh at 0x7ff8ecc40910>)"
      ]
     },
     "execution_count": 102,
     "metadata": {},
     "output_type": "execute_result"
    },
    {
     "data": {
      "image/png": "[encoded data removed]",
      "text/plain": [
       "<Figure size 432x288 with 1 Axes>"
      ]
     },
     "metadata": {
      "needs_background": "light"
     },
     "output_type": "display_data"
    }
   ],
   "source": [
    "plt.hist2d(x1,x2,bins=50,cmap=\"gist_heat_r\")"
   ]
  },
  {
   "cell_type": "code",
   "execution_count": 34,
   "metadata": {},
   "outputs": [],
   "source": [
    "Z = torch.Tensor(np.random.multivariate_normal([0,0], [[1,0],[0,1]], 10**4))\n",
    "X_sample_mu, X_sample_sigma = P(Z)\n",
    "X_sample_sigma_square = torch.diag_embed(torch.exp(X_sample_sigma*2), dim1=-2, dim2=-1)\n",
    "kernels = MultivariateNormal(X_sample_mu, X_sample_sigma_square)"
   ]
  },
  {
   "cell_type": "code",
   "execution_count": 38,
   "metadata": {},
   "outputs": [
    {
     "data": {
      "text/plain": [
       "array([[ -2.1985157 ,  16.429544  ],\n",
       "       [ -1.0646874 ,  11.973606  ],\n",
       "       [ -2.16642   ,  -7.249029  ],\n",
       "       ...,\n",
       "       [ -0.98971474,  12.05236   ],\n",
       "       [ -2.8292003 ,   5.080568  ],\n",
       "       [ -3.467205  , -12.594424  ]], dtype=float32)"
      ]
     },
     "execution_count": 38,
     "metadata": {},
     "output_type": "execute_result"
    }
   ],
   "source": [
    "kernels.sample().cpu().detach().numpy()"
   ]
  },
  {
   "cell_type": "code",
   "execution_count": 14,
   "metadata": {
    "scrolled": true
   },
   "outputs": [
    {
     "data": {
      "text/plain": [
       "array([[-2.0470963 , -2.0716312 ],\n",
       "       [-1.9909204 , -0.74431396],\n",
       "       [-1.8837683 , -1.8002567 ],\n",
       "       ...,\n",
       "       [-1.9283814 ,  0.184941  ],\n",
       "       [-2.000694  , -1.1147143 ],\n",
       "       [-1.7880775 ,  2.073108  ]], dtype=float32)"
      ]
     },
     "execution_count": 14,
     "metadata": {},
     "output_type": "execute_result"
    }
   ],
   "source": [
    "X_sample_mu.cpu().detach().numpy()"
   ]
  },
  {
   "cell_type": "code",
   "execution_count": 15,
   "metadata": {
    "scrolled": true
   },
   "outputs": [],
   "source": [
    "sample_x = []\n",
    "for mu, log_sigma in zip(X_sample_mu.cpu().detach().numpy(), X_sample_sigma.cpu().detach().numpy()):\n",
    "    temp_x = np.random.multivariate_normal(mu, np.diag(np.exp(log_sigma*2)), 10)\n",
    "    sample_x.append(temp_x)"
   ]
  },
  {
   "cell_type": "code",
   "execution_count": 16,
   "metadata": {},
   "outputs": [],
   "source": [
    "sample_x = np.asarray(sample_x).reshape(-1,2)"
   ]
  },
  {
   "cell_type": "code",
   "execution_count": 19,
   "metadata": {},
   "outputs": [
    {
     "data": {
      "text/plain": [
       "(array([[0., 0., 0., ..., 0., 0., 0.],\n",
       "        [0., 0., 0., ..., 0., 0., 0.],\n",
       "        [0., 0., 0., ..., 0., 0., 0.],\n",
       "        ...,\n",
       "        [0., 0., 0., ..., 0., 0., 0.],\n",
       "        [0., 0., 0., ..., 0., 0., 0.],\n",
       "        [0., 0., 0., ..., 0., 0., 0.]]),\n",
       " array([-6.87137234, -6.6935641 , -6.51575586, -6.33794762, -6.16013938,\n",
       "        -5.98233114, -5.8045229 , -5.62671466, -5.44890642, -5.27109818,\n",
       "        -5.09328994, -4.9154817 , -4.73767346, -4.55986522, -4.38205698,\n",
       "        -4.20424874, -4.0264405 , -3.84863226, -3.67082402, -3.49301578,\n",
       "        -3.31520754, -3.1373993 , -2.95959106, -2.78178282, -2.60397458,\n",
       "        -2.42616634, -2.2483581 , -2.07054986, -1.89274162, -1.71493338,\n",
       "        -1.53712514, -1.3593169 , -1.18150866, -1.00370042, -0.82589218,\n",
       "        -0.64808394, -0.4702757 , -0.29246746, -0.11465922,  0.06314902,\n",
       "         0.24095726,  0.4187655 ,  0.59657374,  0.77438198,  0.95219022,\n",
       "         1.12999846,  1.3078067 ,  1.48561494,  1.66342318,  1.84123142,\n",
       "         2.01903966]),\n",
       " array([-48.06857105, -46.26246014, -44.45634923, -42.65023832,\n",
       "        -40.84412742, -39.03801651, -37.2319056 , -35.42579469,\n",
       "        -33.61968379, -31.81357288, -30.00746197, -28.20135106,\n",
       "        -26.39524015, -24.58912925, -22.78301834, -20.97690743,\n",
       "        -19.17079652, -17.36468561, -15.55857471, -13.7524638 ,\n",
       "        -11.94635289, -10.14024198,  -8.33413108,  -6.52802017,\n",
       "         -4.72190926,  -2.91579835,  -1.10968744,   0.69642346,\n",
       "          2.50253437,   4.30864528,   6.11475619,   7.9208671 ,\n",
       "          9.726978  ,  11.53308891,  13.33919982,  15.14531073,\n",
       "         16.95142163,  18.75753254,  20.56364345,  22.36975436,\n",
       "         24.17586527,  25.98197617,  27.78808708,  29.59419799,\n",
       "         31.4003089 ,  33.20641981,  35.01253071,  36.81864162,\n",
       "         38.62475253,  40.43086344,  42.23697434]),\n",
       " <matplotlib.collections.QuadMesh at 0x7faf510dd250>)"
      ]
     },
     "execution_count": 19,
     "metadata": {},
     "output_type": "execute_result"
    },
    {
     "data": {
      "image/png": "[encoded data removed]",
      "text/plain": [
       "<Figure size 432x288 with 2 Axes>"
      ]
     },
     "metadata": {
      "needs_background": "light"
     },
     "output_type": "display_data"
    }
   ],
   "source": [
    "ax1=plt.subplot(1, 2, 1)\n",
    "ax1.hist2d(sample_x[:,0],sample_x[:,1],bins=50,cmap=\"gist_heat_r\")\n",
    "ax2 = plt.subplot(1,2,2)\n",
    "ax2.hist2d(X[:,0],X[:,1],bins=50,cmap=\"gist_heat_r\")"
   ]
  },
  {
   "cell_type": "code",
   "execution_count": 21,
   "metadata": {},
   "outputs": [
    {
     "data": {
      "text/plain": [
       "array([-1.90887502,  0.03424988])"
      ]
     },
     "execution_count": 21,
     "metadata": {},
     "output_type": "execute_result"
    }
   ],
   "source": [
    "np.mean(sample_x,axis=0)"
   ]
  },
  {
   "cell_type": "code",
   "execution_count": 22,
   "metadata": {},
   "outputs": [
    {
     "data": {
      "text/plain": [
       "array([-1.99846885,  0.01669429])"
      ]
     },
     "execution_count": 22,
     "metadata": {},
     "output_type": "execute_result"
    }
   ],
   "source": [
    "np.mean(X, axis=0)"
   ]
  },
  {
   "cell_type": "code",
   "execution_count": 23,
   "metadata": {},
   "outputs": [
    {
     "data": {
      "text/plain": [
       "array([ 0.99949447, 11.11678792])"
      ]
     },
     "execution_count": 23,
     "metadata": {},
     "output_type": "execute_result"
    }
   ],
   "source": [
    "np.var(sample_x,axis=0)"
   ]
  },
  {
   "cell_type": "code",
   "execution_count": 24,
   "metadata": {},
   "outputs": [
    {
     "data": {
      "text/plain": [
       "array([ 1.00891079, 99.6919849 ])"
      ]
     },
     "execution_count": 24,
     "metadata": {},
     "output_type": "execute_result"
    }
   ],
   "source": [
    "np.var(X,axis=0)"
   ]
  },
  {
   "cell_type": "code",
   "execution_count": null,
   "metadata": {},
   "outputs": [],
   "source": []
  },
  {
   "cell_type": "code",
   "execution_count": 122,
   "metadata": {},
   "outputs": [],
   "source": [
    "sigma_sample = X_sample_sigma.cpu().detach().numpy()"
   ]
  },
  {
   "cell_type": "code",
   "execution_count": 123,
   "metadata": {},
   "outputs": [],
   "source": [
    "mu = mu_sample[0]"
   ]
  },
  {
   "cell_type": "code",
   "execution_count": 124,
   "metadata": {},
   "outputs": [],
   "source": [
    "log_sigma = sigma_sample[0]"
   ]
  },
  {
   "cell_type": "code",
   "execution_count": 125,
   "metadata": {},
   "outputs": [
    {
     "data": {
      "text/plain": [
       "array([[-0.59359856, -0.2779433 ],\n",
       "       [-1.52953947, -0.19332419],\n",
       "       [-1.70531358, -0.26078786],\n",
       "       [-1.04972247, -0.75789738],\n",
       "       [-0.69705988, -0.62217335],\n",
       "       [-0.89998964,  0.34180836],\n",
       "       [-0.67583555, -0.48873014],\n",
       "       [-1.54048073, -1.39306325],\n",
       "       [-0.12020233, -0.25016128],\n",
       "       [-0.89124832,  0.43292988]])"
      ]
     },
     "execution_count": 125,
     "metadata": {},
     "output_type": "execute_result"
    }
   ],
   "source": [
    "np.random.multivariate_normal(mu, np.diag(np.exp(log_sigma*0.5)), 10)"
   ]
  },
  {
   "cell_type": "code",
   "execution_count": null,
   "metadata": {},
   "outputs": [],
   "source": []
  }
 ],
 "metadata": {
  "kernelspec": {
   "display_name": "Python 3",
   "language": "python",
   "name": "python3"
  },
  "language_info": {
   "codemirror_mode": {
    "name": "ipython",
    "version": 3
   },
   "file_extension": ".py",
   "mimetype": "text/x-python",
   "name": "python",
   "nbconvert_exporter": "python",
   "pygments_lexer": "ipython3",
   "version": "3.7.4"
  }
 },
 "nbformat": 4,
 "nbformat_minor": 2
}
