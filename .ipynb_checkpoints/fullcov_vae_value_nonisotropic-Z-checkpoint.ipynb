{
 "cells": [
  {
   "cell_type": "code",
   "execution_count": 65,
   "metadata": {},
   "outputs": [],
   "source": [
    "import torch\n",
    "import torch.nn.functional as nn\n",
    "import torch.autograd as autograd\n",
    "import torch.optim as optim\n",
    "from torch.distributions.multivariate_normal import MultivariateNormal\n",
    "import numpy as np\n",
    "import matplotlib.pyplot as plt\n",
    "import matplotlib.gridspec as gridspec\n",
    "import os\n",
    "import math\n",
    "from torch.autograd import Variable\n",
    "\n",
    "Z = np.random.multivariate_normal([0,0], np.eye(2), 20000)\n",
    "A = [[3,0],[0,1/3]]\n",
    "B = [[np.cos(np.pi/3), -np.sin(np.pi/3)],[np.sin(np.pi/3), np.cos(np.pi/3)]]\n",
    "eps = np.random.multivariate_normal([0,0], [[0.2, 0], [0, 0.2]], 20000)\n",
    "\n",
    "X = np.matmul(A,Z.transpose()).transpose()\n",
    "X = np.matmul(B,X.transpose()).transpose() + np.array([-2,1]) + eps\n",
    "\n",
    "# X_test\n",
    "Z = np.random.multivariate_normal([0,0], np.eye(2), 10000)\n",
    "A = [[3,0],[0,1/3]]\n",
    "B = [[np.cos(np.pi/3), -np.sin(np.pi/3)],[np.sin(np.pi/3), np.cos(np.pi/3)]]\n",
    "eps = np.random.multivariate_normal([0,0], [[0.2, 0], [0, 0.2]], 10000)\n",
    "\n",
    "X_test = np.matmul(A,Z.transpose()).transpose()\n",
    "X_test = np.matmul(B,X_test.transpose()).transpose() + np.array([-2,1]) + eps\n",
    "\n",
    "\n",
    "mb_size = 32\n",
    "Z_dim = 2\n",
    "X_dim = X.shape[1]\n",
    "h_dim = 128\n",
    "c = 0\n",
    "lr = 1e-3\n",
    "\n",
    "def xavier_init(size):\n",
    "    in_dim = size[0]\n",
    "    xavier_stddev = 1. / np.sqrt(in_dim / 2.)\n",
    "    return Variable(torch.randn(*size) * xavier_stddev, requires_grad=True)\n"
   ]
  },
  {
   "cell_type": "code",
   "execution_count": 66,
   "metadata": {
    "scrolled": true
   },
   "outputs": [
    {
     "data": {
      "image/png": "[encoded data removed]",
      "text/plain": [
       "<Figure size 432x288 with 1 Axes>"
      ]
     },
     "metadata": {
      "needs_background": "light"
     },
     "output_type": "display_data"
    }
   ],
   "source": [
    "plt.hist2d(X[:,0],X[:,1],bins=50,cmap=\"gist_heat_r\")\n",
    "plt.xlim(-10,10)\n",
    "plt.ylim(-10,10)\n",
    "plt.savefig('sigma2_nonisotropic_2d_normal_fullcov_Z/nonisotropic_training.png')"
   ]
  },
  {
   "cell_type": "code",
   "execution_count": 67,
   "metadata": {},
   "outputs": [],
   "source": [
    "# =============================== Q(z|X) ======================================\n",
    "\n",
    "Wxh = xavier_init(size=[X_dim, h_dim])\n",
    "bxh = Variable(torch.zeros(h_dim), requires_grad=True)\n",
    "\n",
    "Whz_mu = xavier_init(size=[h_dim, Z_dim])\n",
    "bhz_mu = Variable(torch.zeros(Z_dim), requires_grad=True)\n",
    "\n",
    "Whz_var = xavier_init(size=[h_dim, Z_dim])\n",
    "bhz_var = Variable(torch.zeros(Z_dim), requires_grad=True)\n",
    "\n",
    "tri_idx_row, tri_idx_col = torch.tril_indices(row=Z_dim, col=Z_dim)\n",
    "tri_idx = (tri_idx_row != tri_idx_col)  # Delete diagonal\n",
    "tri_idx_row = tri_idx_row[tri_idx]\n",
    "tri_idx_col = tri_idx_col[tri_idx]\n",
    "\n",
    "Whz_L = xavier_init(size=[h_dim, len(tri_idx_col)])  # cholesky of cov\n",
    "bhz_L = Variable(torch.zeros(len(tri_idx_col)), requires_grad=True)\n",
    "\n",
    "def Q(X):\n",
    "    h = nn.relu(X @ Wxh + bxh.repeat(X.size(0), 1))\n",
    "    z_mu = h @ Whz_mu + bhz_mu.repeat(h.size(0), 1)\n",
    "    z_logvar = h @ Whz_var + bhz_var.repeat(h.size(0), 1)\n",
    "    z_L = h @ Whz_L + bhz_L.repeat(h.size(0), 1)\n",
    "    return z_mu, z_logvar, z_L\n",
    "\n",
    "\n",
    "# ============================ Reparameterization and Sample =============================\n",
    "\n",
    "def sample_z(mu, log_var, L_):\n",
    "    \n",
    "    device = mu.device\n",
    "    batch_size = mu.shape[0]\n",
    "    \n",
    "#     log_var = torch.clamp(log_var, max=10)\n",
    "    L = torch.zeros(batch_size, Z_dim, Z_dim, device=device)\n",
    "    L[:, tri_idx_row, tri_idx_col] = L_\n",
    "    L += torch.diag_embed(torch.exp(log_var))  # Diagonal matrix for batch\n",
    "    \n",
    "    # sample noise from multivariate Gaussain\n",
    "    eps = torch.randn(mu.shape[0], Z_dim, device=device)\n",
    "    \n",
    "    # Use batchwise matrix multiplication\n",
    "    sample = mu + torch.bmm(L, eps.unsqueeze(-1)).squeeze()\n",
    "    \n",
    "    return eps, sample\n"
   ]
  },
  {
   "cell_type": "code",
   "execution_count": 72,
   "metadata": {},
   "outputs": [],
   "source": [
    "# =============================== P(X|z) ======================================\n",
    "\n",
    "Wzh = xavier_init(size=[Z_dim, h_dim])\n",
    "bzh = Variable(torch.zeros(h_dim), requires_grad=True)\n",
    "\n",
    "Whmu = xavier_init(size=[h_dim, X_dim])\n",
    "bhmu = Variable(torch.zeros(X_dim), requires_grad=True)\n",
    "\n",
    "Whsigma = xavier_init(size=[h_dim, X_dim])\n",
    "bhsigma = Variable(torch.zeros(X_dim), requires_grad=True)\n",
    "\n",
    "Whsigma = xavier_init(size=[h_dim, X_dim])\n",
    "bhsigma = Variable(torch.zeros(X_dim), requires_grad=True)\n",
    "\n",
    "Xtri_idx_row, Xtri_idx_col = torch.tril_indices(row=X_dim, col=X_dim)\n",
    "Xtri_idx = (Xtri_idx_row != Xtri_idx_col)  # Delete diagonal\n",
    "Xtri_idx_row = Xtri_idx_row[Xtri_idx]\n",
    "Xtri_idx_col = Xtri_idx_col[Xtri_idx]\n",
    "\n",
    "Whx_L = xavier_init(size=[h_dim, len(Xtri_idx_col)])  # cholesky of cov\n",
    "bhx_L = Variable(torch.zeros(len(Xtri_idx_col)), requires_grad=True)\n",
    "\n",
    "def P(z):\n",
    "    h = torch.tanh(z @ Wzh + bzh.repeat(z.size(0), 1))\n",
    "    X_mu = (h @ Whmu + bhmu.repeat(h.size(0), 1))\n",
    "    X_log_var = (h @ Whsigma + bhsigma.repeat(h.size(0), 1))\n",
    "    X_L = h @ Whx_L + bhx_L.repeat(h.size(0), 1)\n",
    "    \n",
    "    \n",
    "    return X_mu, X_log_var, X_L\n",
    "\n",
    "def X_full(log_var, L_):\n",
    "    \n",
    "    device = log_var.device\n",
    "    batch_size = log_var.shape[0]\n",
    "    \n",
    "    L = torch.zeros(batch_size, X_dim, X_dim, device=device)\n",
    "    L[:, Xtri_idx_row, Xtri_idx_col] = L_\n",
    "    L += torch.diag_embed(torch.exp(log_var))  # Diagonal matrix for batch\n",
    "    \n",
    "    return torch.bmm(L, torch.transpose(L,1,2))"
   ]
  },
  {
   "cell_type": "code",
   "execution_count": 73,
   "metadata": {},
   "outputs": [],
   "source": [
    "from torch.utils.data import Dataset, DataLoader\n",
    "\n",
    "class MyDataset(Dataset):\n",
    "    def __init__(self, data, target, transform=None):\n",
    "        self.data = torch.from_numpy(data).float()\n",
    "        self.data = torch.flatten(self.data, start_dim=1)\n",
    "        self.target = torch.from_numpy(target).float()\n",
    "        self.transform = transform\n",
    "        \n",
    "    def __getitem__(self, index):\n",
    "        x = self.data[index]\n",
    "        y = self.target[index]\n",
    "        \n",
    "        if self.transform:\n",
    "            x = self.transform(x)\n",
    "        \n",
    "        return x, y\n",
    "    \n",
    "    def __len__(self):\n",
    "        return len(self.data)"
   ]
  },
  {
   "cell_type": "code",
   "execution_count": 74,
   "metadata": {
    "scrolled": true
   },
   "outputs": [],
   "source": [
    "dataset = MyDataset(X, X)\n",
    "loader = DataLoader(\n",
    "    dataset,\n",
    "    batch_size=mb_size,\n",
    "    shuffle=True,\n",
    "    num_workers=0,\n",
    "    pin_memory=torch.cuda.is_available()\n",
    ")\n",
    "\n",
    "# for batch_idx, (data, target) in enumerate(loader):\n",
    "#     print('Batch idx {}, data shape {}, target shape {}'.format(\n",
    "#         batch_idx, data.shape, target.shape))\n"
   ]
  },
  {
   "cell_type": "code",
   "execution_count": 75,
   "metadata": {
    "scrolled": true
   },
   "outputs": [
    {
     "name": "stdout",
     "output_type": "stream",
     "text": [
      "Iter-1; Loss: 5.158\n",
      "Iter-2; Loss: 4.003\n",
      "Iter-3; Loss: 3.975\n",
      "Iter-4; Loss: 3.69\n",
      "Iter-5; Loss: 3.682\n",
      "Iter-6; Loss: 3.177\n",
      "Iter-7; Loss: 3.343\n",
      "Iter-8; Loss: 3.171\n",
      "Iter-9; Loss: 3.577\n",
      "Iter-10; Loss: 3.285\n",
      "Iter-11; Loss: 3.538\n",
      "Iter-12; Loss: 3.69\n",
      "Iter-13; Loss: 3.535\n",
      "Iter-14; Loss: 3.145\n",
      "Iter-15; Loss: 3.491\n",
      "Iter-16; Loss: 3.843\n",
      "Iter-17; Loss: 3.568\n",
      "Iter-18; Loss: 3.321\n",
      "Iter-19; Loss: 3.351\n",
      "Iter-20; Loss: 3.965\n",
      "Iter-21; Loss: 3.425\n",
      "Iter-22; Loss: 3.448\n",
      "Iter-23; Loss: 3.496\n",
      "Iter-24; Loss: 3.372\n",
      "Iter-25; Loss: 3.391\n",
      "Iter-26; Loss: 3.381\n",
      "Iter-27; Loss: 3.172\n",
      "Iter-28; Loss: 3.523\n",
      "Iter-29; Loss: 3.408\n",
      "Iter-30; Loss: 3.394\n",
      "Iter-31; Loss: 3.347\n",
      "Iter-32; Loss: 3.488\n",
      "Iter-33; Loss: 3.764\n",
      "Iter-34; Loss: 3.078\n",
      "Iter-35; Loss: 3.392\n",
      "Iter-36; Loss: 3.744\n",
      "Iter-37; Loss: 3.532\n",
      "Iter-38; Loss: 3.788\n",
      "Iter-39; Loss: 3.39\n",
      "Iter-40; Loss: 3.33\n",
      "Iter-41; Loss: 3.671\n",
      "Iter-42; Loss: 2.971\n",
      "Iter-43; Loss: 3.457\n",
      "Iter-44; Loss: 3.694\n",
      "Iter-45; Loss: 3.334\n",
      "Iter-46; Loss: 3.633\n",
      "Iter-47; Loss: 3.738\n",
      "Iter-48; Loss: 3.445\n",
      "Iter-49; Loss: 3.428\n",
      "Iter-50; Loss: 3.489\n"
     ]
    }
   ],
   "source": [
    "# =============================== TRAINING ====================================\n",
    "\n",
    "params = [Wxh, bxh, Whz_mu, bhz_mu, Whz_var, bhz_var, Whz_L, bhz_L,\n",
    "          Wzh, bzh, Whmu, bhmu, Whsigma, bhsigma, Whx_L, bhx_L]\n",
    "\n",
    "solver = optim.Adam(params, lr=lr)\n",
    "\n",
    "loss_epoch = []\n",
    "x_from_prior = []\n",
    "x_from_test = []\n",
    "\n",
    "Z = torch.Tensor(np.random.multivariate_normal([0,0], [[1,0],[0,1]], 2*10**4))\n",
    "X_sample_mu, X_sample_logvar, X_sample_L = P(Z)\n",
    "X_sample_sigma = X_full(X_sample_logvar, X_sample_L)\n",
    "kernels = MultivariateNormal(X_sample_mu, X_sample_sigma)\n",
    "\n",
    "x_from_prior.append(kernels.sample().cpu().detach().numpy())\n",
    "\n",
    "test_data = torch.from_numpy(X_test).float()\n",
    "Z_mu, Z_logvar, Z_L = Q(test_data)\n",
    "_, Z = sample_z(Z_mu, Z_logvar, Z_L)\n",
    "X_sample_mu, X_sample_logvar, X_sample_L = P(Z)\n",
    "X_sample_sigma = X_full(X_sample_logvar, X_sample_L)\n",
    "kernels = MultivariateNormal(X_sample_mu, X_sample_sigma)\n",
    "\n",
    "x_from_test.append(kernels.sample().cpu().detach().numpy())\n",
    "            \n",
    "for it in range(50):\n",
    "    for x_batch, y_batch in loader:\n",
    "        \n",
    "        # Forward\n",
    "        z_mu, z_logvar, z_L = Q(x_batch)\n",
    "        eps, z = sample_z(z_mu, z_logvar, z_L)\n",
    "        x_sample_mu, x_sample_logvar, x_sample_L = P(z)\n",
    "        x_sample_sigma = X_full(x_sample_logvar, x_sample_L)\n",
    "\n",
    "        # Loss\n",
    "        #recon_loss = nn.binary_cross_entropy(x_sample, x_batch, size_average=False) / mb_size  # Bernoulli\n",
    "#         x_sample_sigma_square = torch.diag_embed(torch.exp(x_sample_logvar), dim1=-2, dim2=-1)\n",
    "        kernels = MultivariateNormal(x_sample_mu, x_sample_sigma)\n",
    "#         recon_loss = kernels.log_prob(x_batch[:,None,:]).mean()\n",
    "        log_px_loss = -1*kernels.log_prob(x_batch).mean()\n",
    "        log_qz = -torch.sum(.5*(eps**2 + math.log(2 * math.pi) + 2*z_logvar), -1)\n",
    "        log_pz = -torch.sum(.5*(z**2 + math.log(2*math.pi)), -1)\n",
    "        \n",
    "        loss = log_px_loss - torch.mean(log_pz) + torch.mean(log_qz)\n",
    "\n",
    "        # Backward\n",
    "        loss.backward()\n",
    "\n",
    "        # Update\n",
    "        solver.step()\n",
    "\n",
    "        # Housekeeping\n",
    "        for p in params:\n",
    "            if p.grad is not None:\n",
    "                data = p.grad.data\n",
    "                p.grad = Variable(data.new().resize_as_(data).zero_())\n",
    "                \n",
    "        \n",
    "\n",
    "    # Print loss after each epoch\n",
    "    loss_epoch.append(loss.item())\n",
    "    print('Iter-{}; Loss: {:.4}'.format(it+1, loss.item()))\n",
    "\n",
    "    # generate samples\n",
    "    Z = torch.Tensor(np.random.multivariate_normal([0,0], [[1,0],[0,1]], 2*10**4))\n",
    "    X_sample_mu, X_sample_logvar, X_sample_L = P(Z)\n",
    "    X_sample_sigma = X_full(X_sample_logvar, X_sample_L)\n",
    "    kernels = MultivariateNormal(X_sample_mu, X_sample_sigma)\n",
    "\n",
    "    x_from_prior.append(kernels.sample().cpu().detach().numpy())\n",
    "\n",
    "    test_data = torch.from_numpy(X_test).float()\n",
    "    Z_mu, Z_logvar, Z_L = Q(test_data)\n",
    "    _, Z = sample_z(Z_mu, Z_logvar, Z_L)\n",
    "    X_sample_mu, X_sample_logvar, X_sample_L = P(Z)\n",
    "    X_sample_sigma = X_full(X_sample_logvar, X_sample_L)\n",
    "    kernels = MultivariateNormal(X_sample_mu, X_sample_sigma)\n",
    "\n",
    "    x_from_test.append(kernels.sample().cpu().detach().numpy())"
   ]
  },
  {
   "cell_type": "code",
   "execution_count": 76,
   "metadata": {},
   "outputs": [],
   "source": [
    "np.save('sigma2_nonisotropic_2d_normal_fullcov_Z/fullcov_nonisotropic_loss',loss_epoch)"
   ]
  },
  {
   "cell_type": "code",
   "execution_count": 77,
   "metadata": {},
   "outputs": [
    {
     "data": {
      "image/png": "[encoded data removed]",
      "text/plain": [
       "<Figure size 432x288 with 1 Axes>"
      ]
     },
     "metadata": {
      "needs_background": "light"
     },
     "output_type": "display_data"
    }
   ],
   "source": [
    "plt.plot(np.arange(1,51),loss_epoch)\n",
    "plt.xlim(1,50)\n",
    "# plt.yscale('log')\n",
    "plt.xlabel('epoch')\n",
    "plt.ylabel('loss')\n",
    "plt.savefig('sigma2_nonisotropic_2d_normal_fullcov_Z/nonisotropic_loss_epoch.png')"
   ]
  },
  {
   "cell_type": "code",
   "execution_count": 21,
   "metadata": {},
   "outputs": [
    {
     "data": {
      "image/png": "[encoded data removed]",
      "text/plain": [
       "<Figure size 432x288 with 2 Axes>"
      ]
     },
     "metadata": {
      "needs_background": "light"
     },
     "output_type": "display_data"
    }
   ],
   "source": [
    "gs = gridspec.GridSpec(1, 2, width_ratios=[1, 3]) \n",
    "ax0 = plt.subplot(gs[0])\n",
    "ax0.plot(np.arange(1,51),loss_epoch[:50])\n",
    "ax0.set_xlim(1,50)\n",
    "ax0.set_yscale('log')\n",
    "ax0.set_xlabel('epoch')\n",
    "ax0.set_ylabel('loss')\n",
    "\n",
    "ax1 = plt.subplot(gs[1])\n",
    "ax1.plot(np.arange(51,201),loss_epoch[50:])\n",
    "ax1.set_xlim(51,200)\n",
    "# ax1.set_yscale('log')\n",
    "ax1.set_xlabel('epoch')\n",
    "# ax0.set_ylabel('loss')\n",
    "plt.savefig('sigma2_nonisotropic_2d_normal_fullcov_Z/nonisotropic_loss_epoch_bypart.png')"
   ]
  },
  {
   "cell_type": "code",
   "execution_count": 101,
   "metadata": {},
   "outputs": [
    {
     "data": {
      "image/png": "[encoded data removed]",
      "text/plain": [
       "<Figure size 432x288 with 1 Axes>"
      ]
     },
     "metadata": {
      "needs_background": "light"
     },
     "output_type": "display_data"
    }
   ],
   "source": [
    "i +=1\n",
    "plt.hist2d(x_from_prior[i][:,0],x_from_prior[i][:,1],bins=50,cmap=\"gist_heat_r\")\n",
    "plt.xlim(-10,10)\n",
    "plt.ylim(-10,10)\n",
    "plt.title('epoch #'+str((i)))\n",
    "plt.savefig('sigma2_nonisotropic_2d_normal_fullcov_Z/nonisotropic_from_prior_epoch'+str((i))+'.png')"
   ]
  },
  {
   "cell_type": "code",
   "execution_count": 102,
   "metadata": {},
   "outputs": [
    {
     "data": {
      "image/png": "[encoded data removed]",
      "text/plain": [
       "<Figure size 432x288 with 1 Axes>"
      ]
     },
     "metadata": {
      "needs_background": "light"
     },
     "output_type": "display_data"
    }
   ],
   "source": [
    "plt.hist2d(x_from_test[i][:,0],x_from_test[i][:,1],bins=50,cmap=\"gist_heat_r\")\n",
    "plt.xlim(-10,10)\n",
    "plt.ylim(-10,10)\n",
    "plt.title('epoch #'+str((i)))\n",
    "plt.savefig('sigma2_nonisotropic_2d_normal_fullcov_Z/nonisotropic_from_test_epoch'+str((i))+'.png')"
   ]
  },
  {
   "cell_type": "code",
   "execution_count": 79,
   "metadata": {},
   "outputs": [
    {
     "data": {
      "image/png": "[encoded data removed]",
      "text/plain": [
       "<Figure size 432x288 with 1 Axes>"
      ]
     },
     "metadata": {
      "needs_background": "light"
     },
     "output_type": "display_data"
    }
   ],
   "source": [
    "plt.hist2d(x_from_prior[-1][:,0],x_from_prior[-1][:,1],bins=50,cmap=\"gist_heat_r\")\n",
    "plt.xlim(-10,10)\n",
    "plt.ylim(-10,10)\n",
    "# plt.title('epoch #'+str((i)))\n",
    "plt.savefig('sigma2_nonisotropic_2d_normal_fullcov_Z/nonisotropic_from_prior_final.png')"
   ]
  },
  {
   "cell_type": "code",
   "execution_count": 80,
   "metadata": {},
   "outputs": [
    {
     "data": {
      "image/png": "[encoded data removed]",
      "text/plain": [
       "<Figure size 432x288 with 1 Axes>"
      ]
     },
     "metadata": {
      "needs_background": "light"
     },
     "output_type": "display_data"
    }
   ],
   "source": [
    "plt.hist2d(x_from_test[-1][:,0],x_from_test[-1][:,1],bins=50,cmap=\"gist_heat_r\")\n",
    "plt.xlim(-10,10)\n",
    "plt.ylim(-10,10)\n",
    "# plt.title('epoch #'+str((i)))\n",
    "plt.savefig('sigma2_nonisotropic_2d_normal_fullcov_Z/nonisotropic_from_test_final.png')"
   ]
  },
  {
   "cell_type": "code",
   "execution_count": null,
   "metadata": {},
   "outputs": [],
   "source": []
  }
 ],
 "metadata": {
  "kernelspec": {
   "display_name": "Python 3",
   "language": "python",
   "name": "python3"
  },
  "language_info": {
   "codemirror_mode": {
    "name": "ipython",
    "version": 3
   },
   "file_extension": ".py",
   "mimetype": "text/x-python",
   "name": "python",
   "nbconvert_exporter": "python",
   "pygments_lexer": "ipython3",
   "version": "3.7.4"
  }
 },
 "nbformat": 4,
 "nbformat_minor": 2
}
