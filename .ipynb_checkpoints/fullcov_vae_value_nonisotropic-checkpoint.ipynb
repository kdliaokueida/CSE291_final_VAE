{
 "cells": [
  {
   "cell_type": "code",
   "execution_count": 1,
   "metadata": {},
   "outputs": [],
   "source": [
    "import torch\n",
    "import torch.nn.functional as nn\n",
    "import torch.autograd as autograd\n",
    "import torch.optim as optim\n",
    "from torch.distributions.multivariate_normal import MultivariateNormal\n",
    "import numpy as np\n",
    "import matplotlib.pyplot as plt\n",
    "import matplotlib.gridspec as gridspec\n",
    "import os\n",
    "import math\n",
    "from torch.autograd import Variable\n",
    "\n",
    "mean = [-2, 2]\n",
    "cov = [[9,  15], [15, 36]]\n",
    "\n",
    "X = np.random.multivariate_normal(mean, cov, 40000)\n",
    "X_test = np.random.multivariate_normal(mean,cov,20000)\n",
    "\n",
    "\n",
    "mb_size = 64\n",
    "Z_dim = 2\n",
    "X_dim = X.shape[1]\n",
    "h_dim = 128\n",
    "c = 0\n",
    "lr = 1e-5\n",
    "\n",
    "def xavier_init(size):\n",
    "    in_dim = size[0]\n",
    "    xavier_stddev = 1. / np.sqrt(in_dim / 2.)\n",
    "    return Variable(torch.randn(*size) * xavier_stddev, requires_grad=True)\n"
   ]
  },
  {
   "cell_type": "code",
   "execution_count": 2,
   "metadata": {},
   "outputs": [
    {
     "data": {
      "text/plain": [
       "2"
      ]
     },
     "execution_count": 2,
     "metadata": {},
     "output_type": "execute_result"
    }
   ],
   "source": [
    "X_dim"
   ]
  },
  {
   "cell_type": "code",
   "execution_count": 3,
   "metadata": {
    "scrolled": true
   },
   "outputs": [
    {
     "data": {
      "image/png": "[encoded data removed]",
      "text/plain": [
       "<Figure size 432x288 with 1 Axes>"
      ]
     },
     "metadata": {
      "needs_background": "light"
     },
     "output_type": "display_data"
    }
   ],
   "source": [
    "plt.hist2d(X[:,0],X[:,1],bins=50,cmap=\"gist_heat_r\")\n",
    "plt.xlim(-20,20)\n",
    "plt.ylim(-30,30)\n",
    "plt.savefig('nonisotropic_2d_normal_fullcov/nonisotropic_training.png')"
   ]
  },
  {
   "cell_type": "code",
   "execution_count": 9,
   "metadata": {},
   "outputs": [],
   "source": [
    "# =============================== Q(z|X) ======================================\n",
    "\n",
    "Wxh = xavier_init(size=[X_dim, h_dim])\n",
    "bxh = Variable(torch.zeros(h_dim), requires_grad=True)\n",
    "\n",
    "Whz_mu = xavier_init(size=[h_dim, Z_dim])\n",
    "bhz_mu = Variable(torch.zeros(Z_dim), requires_grad=True)\n",
    "\n",
    "Whz_var = xavier_init(size=[h_dim, Z_dim])\n",
    "bhz_var = Variable(torch.zeros(Z_dim), requires_grad=True)\n",
    "\n",
    "tri_idx_row, tri_idx_col = torch.tril_indices(row=Z_dim, col=Z_dim)\n",
    "tri_idx = (tri_idx_row != tri_idx_col)  # Delete diagonal\n",
    "tri_idx_row = tri_idx_row[tri_idx]\n",
    "tri_idx_col = tri_idx_col[tri_idx]\n",
    "\n",
    "Whz_L = xavier_init(size=[h_dim, len(tri_idx_col)])  # cholesky of cov\n",
    "bhz_L = Variable(torch.zeros(len(tri_idx_col)), requires_grad=True)\n",
    "\n",
    "def Q(X):\n",
    "    h = nn.relu(X @ Wxh + bxh.repeat(X.size(0), 1))\n",
    "    z_mu = h @ Whz_mu + bhz_mu.repeat(h.size(0), 1)\n",
    "    z_logvar = h @ Whz_var + bhz_var.repeat(h.size(0), 1)\n",
    "    z_L = h @ Whz_L + bhz_L.repeat(h.size(0), 1)\n",
    "    return z_mu, z_logvar, z_L\n",
    "\n",
    "\n",
    "# ============================ Reparameterization and Sample =============================\n",
    "\n",
    "def sample_z(mu, log_var, L_):\n",
    "    \n",
    "    device = mu.device\n",
    "    batch_size = mu.shape[0]\n",
    "    \n",
    "    log_var = torch.clamp(log_var, max=10)\n",
    "    L = torch.zeros(batch_size, Z_dim, Z_dim, device=device)\n",
    "    L[:, tri_idx_row, tri_idx_col] = L_\n",
    "    L += torch.diag_embed(torch.exp(log_var))  # Diagonal matrix for batch\n",
    "    \n",
    "    # sample noise from multivariate Gaussain\n",
    "    eps = torch.randn(mu.shape[0], Z_dim, device=device)\n",
    "    \n",
    "    # Use batchwise matrix multiplication\n",
    "    sample = mu + torch.bmm(L, eps.unsqueeze(-1)).squeeze()\n",
    "    \n",
    "    return eps, sample\n"
   ]
  },
  {
   "cell_type": "code",
   "execution_count": 10,
   "metadata": {},
   "outputs": [],
   "source": [
    "# =============================== P(X|z) ======================================\n",
    "\n",
    "Wzh = xavier_init(size=[Z_dim, h_dim])\n",
    "bzh = Variable(torch.zeros(h_dim), requires_grad=True)\n",
    "\n",
    "Whmu = xavier_init(size=[h_dim, X_dim])\n",
    "bhmu = Variable(torch.zeros(X_dim), requires_grad=True)\n",
    "\n",
    "Whsigma = xavier_init(size=[h_dim, X_dim])\n",
    "bhsigma = Variable(torch.zeros(X_dim), requires_grad=True)\n",
    "\n",
    "Whsigma = xavier_init(size=[h_dim, X_dim])\n",
    "bhsigma = Variable(torch.zeros(X_dim), requires_grad=True)\n",
    "\n",
    "Xtri_idx_row, Xtri_idx_col = torch.tril_indices(row=X_dim, col=X_dim)\n",
    "Xtri_idx = (Xtri_idx_row != Xtri_idx_col)  # Delete diagonal\n",
    "Xtri_idx_row = Xtri_idx_row[Xtri_idx]\n",
    "Xtri_idx_col = Xtri_idx_col[Xtri_idx]\n",
    "\n",
    "Whx_L = xavier_init(size=[h_dim, len(Xtri_idx_col)])  # cholesky of cov\n",
    "bhx_L = Variable(torch.zeros(len(Xtri_idx_col)), requires_grad=True)\n",
    "\n",
    "def P(z):\n",
    "    h = torch.tanh(z @ Wzh + bzh.repeat(z.size(0), 1))\n",
    "    X_mu = (h @ Whmu + bhmu.repeat(h.size(0), 1))\n",
    "    X_log_var = (h @ Whsigma + bhsigma.repeat(h.size(0), 1))\n",
    "    X_L = h @ Whx_L + bhx_L.repeat(h.size(0), 1)\n",
    "    \n",
    "    \n",
    "    return X_mu, X_log_var, X_L\n",
    "\n",
    "def X_full(log_var, L_):\n",
    "    \n",
    "    device = log_var.device\n",
    "    batch_size = log_var.shape[0]\n",
    "    \n",
    "    L = torch.zeros(batch_size, X_dim, X_dim, device=device)\n",
    "    L[:, Xtri_idx_row, Xtri_idx_col] = L_\n",
    "    L += torch.diag_embed(torch.exp(log_var))  # Diagonal matrix for batch\n",
    "    \n",
    "    return torch.bmm(L, torch.transpose(L,1,2))"
   ]
  },
  {
   "cell_type": "code",
   "execution_count": 11,
   "metadata": {},
   "outputs": [],
   "source": [
    "from torch.utils.data import Dataset, DataLoader\n",
    "\n",
    "class MyDataset(Dataset):\n",
    "    def __init__(self, data, target, transform=None):\n",
    "        self.data = torch.from_numpy(data).float()\n",
    "        self.data = torch.flatten(self.data, start_dim=1)\n",
    "        self.target = torch.from_numpy(target).float()\n",
    "        self.transform = transform\n",
    "        \n",
    "    def __getitem__(self, index):\n",
    "        x = self.data[index]\n",
    "        y = self.target[index]\n",
    "        \n",
    "        if self.transform:\n",
    "            x = self.transform(x)\n",
    "        \n",
    "        return x, y\n",
    "    \n",
    "    def __len__(self):\n",
    "        return len(self.data)"
   ]
  },
  {
   "cell_type": "code",
   "execution_count": 12,
   "metadata": {
    "scrolled": true
   },
   "outputs": [],
   "source": [
    "dataset = MyDataset(X, X)\n",
    "loader = DataLoader(\n",
    "    dataset,\n",
    "    batch_size=mb_size,\n",
    "    shuffle=True,\n",
    "    num_workers=0,\n",
    "    pin_memory=torch.cuda.is_available()\n",
    ")\n",
    "\n",
    "# for batch_idx, (data, target) in enumerate(loader):\n",
    "#     print('Batch idx {}, data shape {}, target shape {}'.format(\n",
    "#         batch_idx, data.shape, target.shape))\n"
   ]
  },
  {
   "cell_type": "code",
   "execution_count": 13,
   "metadata": {
    "scrolled": true
   },
   "outputs": [
    {
     "name": "stdout",
     "output_type": "stream",
     "text": [
      "Iter-1; Loss: 2.772e+07\n",
      "Iter-2; Loss: 2.022e+06\n",
      "Iter-3; Loss: 1.076e+07\n",
      "Iter-4; Loss: 7.169e+06\n",
      "Iter-5; Loss: 1.305e+07\n",
      "Iter-6; Loss: 5.104e+05\n",
      "Iter-7; Loss: 2.676e+06\n",
      "Iter-8; Loss: 1.112e+05\n",
      "Iter-9; Loss: 2.309e+04\n",
      "Iter-10; Loss: 7.718e+04\n",
      "Iter-11; Loss: 268.5\n",
      "Iter-12; Loss: 1.319e+03\n",
      "Iter-13; Loss: 419.7\n",
      "Iter-14; Loss: 125.9\n",
      "Iter-15; Loss: 74.32\n",
      "Iter-16; Loss: 30.78\n",
      "Iter-17; Loss: 64.29\n",
      "Iter-18; Loss: 167.9\n",
      "Iter-19; Loss: 108.8\n",
      "Iter-20; Loss: 77.51\n",
      "Iter-21; Loss: 23.25\n",
      "Iter-22; Loss: 13.58\n",
      "Iter-23; Loss: 45.72\n",
      "Iter-24; Loss: 109.6\n",
      "Iter-25; Loss: 63.89\n",
      "Iter-26; Loss: 15.8\n",
      "Iter-27; Loss: 21.79\n",
      "Iter-28; Loss: 16.3\n",
      "Iter-29; Loss: 12.73\n",
      "Iter-30; Loss: 14.46\n",
      "Iter-31; Loss: 11.4\n",
      "Iter-32; Loss: 14.7\n",
      "Iter-33; Loss: 10.76\n",
      "Iter-34; Loss: 13.4\n",
      "Iter-35; Loss: 12.37\n",
      "Iter-36; Loss: 10.67\n",
      "Iter-37; Loss: 27.65\n",
      "Iter-38; Loss: 14.97\n",
      "Iter-39; Loss: 35.31\n",
      "Iter-40; Loss: 15.62\n",
      "Iter-41; Loss: 10.96\n",
      "Iter-42; Loss: 19.77\n",
      "Iter-43; Loss: 17.04\n",
      "Iter-44; Loss: 9.766\n",
      "Iter-45; Loss: 8.955\n",
      "Iter-46; Loss: 10.36\n",
      "Iter-47; Loss: 10.04\n",
      "Iter-48; Loss: 8.55\n",
      "Iter-49; Loss: 8.832\n",
      "Iter-50; Loss: 10.96\n",
      "Iter-51; Loss: 8.639\n",
      "Iter-52; Loss: 10.17\n",
      "Iter-53; Loss: 7.982\n",
      "Iter-54; Loss: 8.64\n",
      "Iter-55; Loss: 8.303\n",
      "Iter-56; Loss: 8.138\n",
      "Iter-57; Loss: 8.088\n",
      "Iter-58; Loss: 7.937\n",
      "Iter-59; Loss: 7.369\n",
      "Iter-60; Loss: 7.25\n",
      "Iter-61; Loss: 7.884\n",
      "Iter-62; Loss: 7.499\n",
      "Iter-63; Loss: 6.645\n",
      "Iter-64; Loss: 7.124\n",
      "Iter-65; Loss: 6.286\n",
      "Iter-66; Loss: 5.803\n",
      "Iter-67; Loss: 6.277\n",
      "Iter-68; Loss: 6.487\n",
      "Iter-69; Loss: 6.029\n",
      "Iter-70; Loss: 6.217\n",
      "Iter-71; Loss: 6.047\n",
      "Iter-72; Loss: 6.188\n",
      "Iter-73; Loss: 6.047\n",
      "Iter-74; Loss: 5.716\n",
      "Iter-75; Loss: 6.24\n",
      "Iter-76; Loss: 5.899\n",
      "Iter-77; Loss: 6.038\n",
      "Iter-78; Loss: 5.987\n",
      "Iter-79; Loss: 5.752\n",
      "Iter-80; Loss: 6.111\n",
      "Iter-81; Loss: 5.568\n",
      "Iter-82; Loss: 5.982\n",
      "Iter-83; Loss: 6.649\n",
      "Iter-84; Loss: 6.032\n",
      "Iter-85; Loss: 6.037\n",
      "Iter-86; Loss: 7.055\n",
      "Iter-87; Loss: 5.426\n",
      "Iter-88; Loss: 5.524\n",
      "Iter-89; Loss: 5.411\n",
      "Iter-90; Loss: 5.562\n",
      "Iter-91; Loss: 5.636\n",
      "Iter-92; Loss: 5.517\n",
      "Iter-93; Loss: 5.301\n",
      "Iter-94; Loss: 5.497\n",
      "Iter-95; Loss: 5.355\n",
      "Iter-96; Loss: 5.314\n",
      "Iter-97; Loss: 5.188\n",
      "Iter-98; Loss: 5.179\n",
      "Iter-99; Loss: 5.281\n",
      "Iter-100; Loss: 5.259\n",
      "Iter-101; Loss: 5.325\n",
      "Iter-102; Loss: 5.5\n",
      "Iter-103; Loss: 5.302\n",
      "Iter-104; Loss: 5.395\n",
      "Iter-105; Loss: 5.092\n",
      "Iter-106; Loss: 5.342\n",
      "Iter-107; Loss: 5.201\n",
      "Iter-108; Loss: 5.322\n",
      "Iter-109; Loss: 5.312\n",
      "Iter-110; Loss: 5.347\n",
      "Iter-111; Loss: 5.115\n",
      "Iter-112; Loss: 5.327\n",
      "Iter-113; Loss: 5.619\n",
      "Iter-114; Loss: 5.109\n",
      "Iter-115; Loss: 5.308\n",
      "Iter-116; Loss: 5.219\n",
      "Iter-117; Loss: 5.266\n",
      "Iter-118; Loss: 5.213\n",
      "Iter-119; Loss: 5.238\n",
      "Iter-120; Loss: 5.401\n",
      "Iter-121; Loss: 5.203\n",
      "Iter-122; Loss: 5.095\n",
      "Iter-123; Loss: 5.458\n",
      "Iter-124; Loss: 5.164\n",
      "Iter-125; Loss: 5.062\n",
      "Iter-126; Loss: 5.096\n",
      "Iter-127; Loss: 5.048\n",
      "Iter-128; Loss: 5.301\n",
      "Iter-129; Loss: 4.924\n",
      "Iter-130; Loss: 5.115\n",
      "Iter-131; Loss: 5.041\n",
      "Iter-132; Loss: 5.259\n",
      "Iter-133; Loss: 5.251\n",
      "Iter-134; Loss: 4.948\n",
      "Iter-135; Loss: 5.1\n",
      "Iter-136; Loss: 5.306\n",
      "Iter-137; Loss: 5.29\n",
      "Iter-138; Loss: 5.08\n",
      "Iter-139; Loss: 5.362\n",
      "Iter-140; Loss: 5.148\n",
      "Iter-141; Loss: 5.116\n",
      "Iter-142; Loss: 5.352\n",
      "Iter-143; Loss: 5.209\n",
      "Iter-144; Loss: 5.267\n",
      "Iter-145; Loss: 5.184\n",
      "Iter-146; Loss: 5.19\n",
      "Iter-147; Loss: 5.083\n",
      "Iter-148; Loss: 5.074\n",
      "Iter-149; Loss: 5.191\n",
      "Iter-150; Loss: 5.026\n",
      "Iter-151; Loss: 5.163\n",
      "Iter-152; Loss: 5.257\n",
      "Iter-153; Loss: 5.292\n",
      "Iter-154; Loss: 5.077\n",
      "Iter-155; Loss: 5.246\n",
      "Iter-156; Loss: 5.503\n",
      "Iter-157; Loss: 5.24\n",
      "Iter-158; Loss: 5.403\n",
      "Iter-159; Loss: 5.113\n",
      "Iter-160; Loss: 5.198\n",
      "Iter-161; Loss: 4.964\n",
      "Iter-162; Loss: 5.245\n",
      "Iter-163; Loss: 5.296\n",
      "Iter-164; Loss: 5.063\n",
      "Iter-165; Loss: 5.374\n",
      "Iter-166; Loss: 5.062\n",
      "Iter-167; Loss: 5.185\n",
      "Iter-168; Loss: 5.026\n",
      "Iter-169; Loss: 5.262\n",
      "Iter-170; Loss: 5.533\n",
      "Iter-171; Loss: 5.21\n",
      "Iter-172; Loss: 5.361\n",
      "Iter-173; Loss: 5.23\n",
      "Iter-174; Loss: 5.22\n",
      "Iter-175; Loss: 4.977\n",
      "Iter-176; Loss: 5.211\n",
      "Iter-177; Loss: 4.955\n",
      "Iter-178; Loss: 5.216\n",
      "Iter-179; Loss: 5.178\n",
      "Iter-180; Loss: 5.269\n",
      "Iter-181; Loss: 5.157\n",
      "Iter-182; Loss: 5.449\n",
      "Iter-183; Loss: 5.116\n",
      "Iter-184; Loss: 5.336\n",
      "Iter-185; Loss: 5.132\n",
      "Iter-186; Loss: 5.269\n",
      "Iter-187; Loss: 5.246\n",
      "Iter-188; Loss: 5.159\n",
      "Iter-189; Loss: 5.124\n",
      "Iter-190; Loss: 5.181\n",
      "Iter-191; Loss: 5.181\n",
      "Iter-192; Loss: 5.253\n",
      "Iter-193; Loss: 5.164\n",
      "Iter-194; Loss: 5.003\n",
      "Iter-195; Loss: 5.081\n",
      "Iter-196; Loss: 5.017\n",
      "Iter-197; Loss: 5.109\n",
      "Iter-198; Loss: 5.001\n",
      "Iter-199; Loss: 5.134\n",
      "Iter-200; Loss: 5.174\n"
     ]
    }
   ],
   "source": [
    "# =============================== TRAINING ====================================\n",
    "\n",
    "params = [Wxh, bxh, Whz_mu, bhz_mu, Whz_var, bhz_var, Whz_L, bhz_L,\n",
    "          Wzh, bzh, Whmu, bhmu, Whsigma, bhsigma, Whx_L, bhx_L]\n",
    "\n",
    "solver = optim.Adam(params, lr=lr)\n",
    "\n",
    "loss_epoch = []\n",
    "x_from_prior = []\n",
    "x_from_test = []\n",
    "counter = 0\n",
    "for it in range(200):\n",
    "    for x_batch, y_batch in loader:\n",
    "        \n",
    "        # Forward\n",
    "        z_mu, z_logvar, z_L = Q(x_batch)\n",
    "        eps, z = sample_z(z_mu, z_logvar, z_L)\n",
    "        x_sample_mu, x_sample_logvar, x_sample_L = P(z)\n",
    "        x_sample_sigma = X_full(x_sample_logvar, x_sample_L)\n",
    "\n",
    "        # Loss\n",
    "        #recon_loss = nn.binary_cross_entropy(x_sample, x_batch, size_average=False) / mb_size  # Bernoulli\n",
    "#         x_sample_sigma_square = torch.diag_embed(torch.exp(x_sample_logvar), dim1=-2, dim2=-1)\n",
    "        kernels = MultivariateNormal(x_sample_mu, x_sample_sigma)\n",
    "#         recon_loss = kernels.log_prob(x_batch[:,None,:]).mean()\n",
    "        log_px_loss = -1*kernels.log_prob(x_batch).mean()\n",
    "        log_qz = -torch.sum(.5*(eps**2 + math.log(2 * math.pi) + 2*z_logvar), -1)\n",
    "        log_pz = -torch.sum(.5*(z**2 + math.log(2*math.pi)), -1)\n",
    "        \n",
    "        loss = log_px_loss - torch.mean(log_pz) + torch.mean(log_qz)\n",
    "\n",
    "        # Backward\n",
    "        loss.backward()\n",
    "\n",
    "        # Update\n",
    "        solver.step()\n",
    "\n",
    "        # Housekeeping\n",
    "        for p in params:\n",
    "            if p.grad is not None:\n",
    "                data = p.grad.data\n",
    "                p.grad = Variable(data.new().resize_as_(data).zero_())\n",
    "                \n",
    "        if counter==0 and it<1:\n",
    "            Z = torch.Tensor(np.random.multivariate_normal([0,0], [[1,0],[0,1]], 2*10**4))\n",
    "            X_sample_mu, X_sample_logvar, X_sample_L = P(Z)\n",
    "            X_sample_sigma = X_full(X_sample_logvar, X_sample_L)\n",
    "            kernels = MultivariateNormal(X_sample_mu, X_sample_sigma)\n",
    "\n",
    "            x_from_prior.append(kernels.sample().cpu().detach().numpy())\n",
    "\n",
    "            test_data = torch.from_numpy(X_test).float()\n",
    "            Z_mu, Z_logvar, Z_L = Q(test_data)\n",
    "            _, Z = sample_z(Z_mu, Z_logvar, Z_L)\n",
    "            X_sample_mu, X_sample_logvar, X_sample_L = P(Z)\n",
    "            X_sample_sigma = X_full(X_sample_logvar, X_sample_L)\n",
    "            kernels = MultivariateNormal(X_sample_mu, X_sample_sigma)\n",
    "\n",
    "            x_from_test.append(kernels.sample().cpu().detach().numpy())\n",
    "        counter = 1\n",
    "\n",
    "    # Print loss after each epoch\n",
    "    loss_epoch.append(loss.item())\n",
    "    print('Iter-{}; Loss: {:.4}'.format(it+1, loss.item()))\n",
    "\n",
    "    # generate samples\n",
    "    Z = torch.Tensor(np.random.multivariate_normal([0,0], [[1,0],[0,1]], 2*10**4))\n",
    "    X_sample_mu, X_sample_logvar, X_sample_L = P(Z)\n",
    "    X_sample_sigma = X_full(X_sample_logvar, X_sample_L)\n",
    "    kernels = MultivariateNormal(X_sample_mu, X_sample_sigma)\n",
    "\n",
    "    x_from_prior.append(kernels.sample().cpu().detach().numpy())\n",
    "\n",
    "    test_data = torch.from_numpy(X_test).float()\n",
    "    Z_mu, Z_logvar, Z_L = Q(test_data)\n",
    "    _, Z = sample_z(Z_mu, Z_logvar, Z_L)\n",
    "    X_sample_mu, X_sample_logvar, X_sample_L = P(Z)\n",
    "    X_sample_sigma = X_full(X_sample_logvar, X_sample_L)\n",
    "    kernels = MultivariateNormal(X_sample_mu, X_sample_sigma)\n",
    "\n",
    "    x_from_test.append(kernels.sample().cpu().detach().numpy())"
   ]
  },
  {
   "cell_type": "code",
   "execution_count": 16,
   "metadata": {},
   "outputs": [],
   "source": [
    "np.save('sigma2_nonisotropic_2d_normal_fullcov/fullcov_nonisotropic_loss2',loss_epoch)"
   ]
  },
  {
   "cell_type": "code",
   "execution_count": 19,
   "metadata": {},
   "outputs": [
    {
     "data": {
      "image/png": "[encoded data removed]",
      "text/plain": [
       "<Figure size 432x288 with 1 Axes>"
      ]
     },
     "metadata": {
      "needs_background": "light"
     },
     "output_type": "display_data"
    }
   ],
   "source": [
    "plt.plot(np.arange(1,201),loss_epoch)\n",
    "plt.xlim(1,200)\n",
    "plt.yscale('log')\n",
    "plt.xlabel('epoch')\n",
    "plt.ylabel('loss')\n",
    "plt.savefig('sigma2_nonisotropic_2d_normal_fullcov/nonisotropic_loss_epoch.png')"
   ]
  },
  {
   "cell_type": "code",
   "execution_count": 21,
   "metadata": {},
   "outputs": [
    {
     "data": {
      "image/png": "[encoded data removed]",
      "text/plain": [
       "<Figure size 432x288 with 2 Axes>"
      ]
     },
     "metadata": {
      "needs_background": "light"
     },
     "output_type": "display_data"
    }
   ],
   "source": [
    "gs = gridspec.GridSpec(1, 2, width_ratios=[1, 3]) \n",
    "ax0 = plt.subplot(gs[0])\n",
    "ax0.plot(np.arange(1,51),loss_epoch[:50])\n",
    "ax0.set_xlim(1,50)\n",
    "ax0.set_yscale('log')\n",
    "ax0.set_xlabel('epoch')\n",
    "ax0.set_ylabel('loss')\n",
    "\n",
    "ax1 = plt.subplot(gs[1])\n",
    "ax1.plot(np.arange(51,201),loss_epoch[50:])\n",
    "ax1.set_xlim(51,200)\n",
    "# ax1.set_yscale('log')\n",
    "ax1.set_xlabel('epoch')\n",
    "# ax0.set_ylabel('loss')\n",
    "plt.savefig('sigma2_nonisotropic_2d_normal_fullcov/nonisotropic_loss_epoch_bypart.png')"
   ]
  },
  {
   "cell_type": "code",
   "execution_count": 74,
   "metadata": {},
   "outputs": [
    {
     "data": {
      "image/png": "[encoded data removed]",
      "text/plain": [
       "<Figure size 432x288 with 1 Axes>"
      ]
     },
     "metadata": {
      "needs_background": "light"
     },
     "output_type": "display_data"
    }
   ],
   "source": [
    "i = 100\n",
    "plt.hist2d(x_from_prior[i][:,0],x_from_prior[i][:,1],bins=50,cmap=\"gist_heat_r\")\n",
    "plt.xlim(-20,20)\n",
    "plt.ylim(-30,30)\n",
    "plt.title('epoch #'+str((i)))\n",
    "plt.savefig('sigma2_nonisotropic_2d_normal_fullcov/nonisotropic_from_prior_epoch'+str((i))+'.png')"
   ]
  },
  {
   "cell_type": "code",
   "execution_count": 75,
   "metadata": {},
   "outputs": [
    {
     "data": {
      "image/png": "[encoded data removed]",
      "text/plain": [
       "<Figure size 432x288 with 1 Axes>"
      ]
     },
     "metadata": {
      "needs_background": "light"
     },
     "output_type": "display_data"
    }
   ],
   "source": [
    "plt.hist2d(x_from_test[i][:,0],x_from_test[i][:,1],bins=50,cmap=\"gist_heat_r\")\n",
    "plt.xlim(-20,20)\n",
    "plt.ylim(-30,30)\n",
    "plt.title('epoch #'+str((i)))\n",
    "plt.savefig('sigma2_nonisotropic_2d_normal_fullcov/nonisotropic_from_test_epoch'+str((i))+'.png')"
   ]
  },
  {
   "cell_type": "code",
   "execution_count": 77,
   "metadata": {},
   "outputs": [
    {
     "data": {
      "image/png": "[encoded data removed]",
      "text/plain": [
       "<Figure size 432x288 with 1 Axes>"
      ]
     },
     "metadata": {
      "needs_background": "light"
     },
     "output_type": "display_data"
    }
   ],
   "source": [
    "plt.hist2d(x_from_prior[-1][:,0],x_from_prior[-1][:,1],bins=50,cmap=\"gist_heat_r\")\n",
    "plt.xlim(-20,20)\n",
    "plt.ylim(-30,30)\n",
    "# plt.title('epoch #'+str((i)))\n",
    "plt.savefig('sigma2_nonisotropic_2d_normal_fullcov/nonisotropic_from_prior_final.png')"
   ]
  },
  {
   "cell_type": "code",
   "execution_count": 78,
   "metadata": {},
   "outputs": [
    {
     "data": {
      "image/png": "[encoded data removed]",
      "text/plain": [
       "<Figure size 432x288 with 1 Axes>"
      ]
     },
     "metadata": {
      "needs_background": "light"
     },
     "output_type": "display_data"
    }
   ],
   "source": [
    "plt.hist2d(x_from_test[-1][:,0],x_from_test[-1][:,1],bins=50,cmap=\"gist_heat_r\")\n",
    "plt.xlim(-20,20)\n",
    "plt.ylim(-30,30)\n",
    "# plt.title('epoch #'+str((i)))\n",
    "plt.savefig('sigma2_nonisotropic_2d_normal_fullcov/nonisotropic_from_test_final.png')"
   ]
  },
  {
   "cell_type": "code",
   "execution_count": null,
   "metadata": {},
   "outputs": [],
   "source": []
  }
 ],
 "metadata": {
  "kernelspec": {
   "display_name": "Python 3",
   "language": "python",
   "name": "python3"
  },
  "language_info": {
   "codemirror_mode": {
    "name": "ipython",
    "version": 3
   },
   "file_extension": ".py",
   "mimetype": "text/x-python",
   "name": "python",
   "nbconvert_exporter": "python",
   "pygments_lexer": "ipython3",
   "version": "3.7.4"
  }
 },
 "nbformat": 4,
 "nbformat_minor": 2
}
