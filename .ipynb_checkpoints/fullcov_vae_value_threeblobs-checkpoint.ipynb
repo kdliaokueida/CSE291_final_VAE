{
 "cells": [
  {
   "cell_type": "code",
   "execution_count": 1,
   "metadata": {},
   "outputs": [],
   "source": [
    "import torch\n",
    "import torch.nn.functional as nn\n",
    "import torch.autograd as autograd\n",
    "import torch.optim as optim\n",
    "from torch.distributions.multivariate_normal import MultivariateNormal\n",
    "import numpy as np\n",
    "import matplotlib.pyplot as plt\n",
    "import matplotlib.gridspec as gridspec\n",
    "import os\n",
    "import math\n",
    "from torch.autograd import Variable\n"
   ]
  },
  {
   "cell_type": "code",
   "execution_count": 2,
   "metadata": {},
   "outputs": [],
   "source": [
    "N=60000\n",
    "Z = np.random.normal(0, 1, N)\n",
    "eps = np.random.multivariate_normal([0,0], [[0.2, 0], [0, 0.2]], N)\n",
    "u = 2*np.pi/(1+np.exp(-0.5*np.pi*Z))\n",
    "t = 2*np.tanh(10*u-20*np.floor(0.5*u)-10)+4*np.floor(0.5*u)+2.\n",
    "x1 = np.cos(t) + eps[:,0]\n",
    "x2 = np.sin(t) + eps[:,1]\n",
    "\n",
    "X_temp = np.vstack((x1,x2)).transpose()\n",
    "X = X_temp[:40000]\n",
    "X_test = X_temp[40000:]"
   ]
  },
  {
   "cell_type": "code",
   "execution_count": 3,
   "metadata": {},
   "outputs": [
    {
     "data": {
      "image/png": "[encoded data removed]",
      "text/plain": [
       "<Figure size 432x288 with 1 Axes>"
      ]
     },
     "metadata": {
      "needs_background": "light"
     },
     "output_type": "display_data"
    }
   ],
   "source": [
    "plt.hist2d(X[:,0],X[:,1],bins=50,cmap=\"gist_heat_r\")\n",
    "plt.xlim(-5,5)\n",
    "plt.ylim(-5,5)\n",
    "plt.savefig('sigma2_threeblobs/blobs_training.png')"
   ]
  },
  {
   "cell_type": "code",
   "execution_count": 4,
   "metadata": {},
   "outputs": [],
   "source": [
    "mb_size = 64\n",
    "Z_dim = 2\n",
    "X_dim = X.shape[1]\n",
    "h_dim = 128\n",
    "c = 0\n",
    "lr = 1e-5\n",
    "\n",
    "def xavier_init(size):\n",
    "    in_dim = size[0]\n",
    "    xavier_stddev = 1. / np.sqrt(in_dim / 2.)\n",
    "    return Variable(torch.randn(*size) * xavier_stddev, requires_grad=True)"
   ]
  },
  {
   "cell_type": "code",
   "execution_count": 5,
   "metadata": {},
   "outputs": [],
   "source": [
    "# =============================== Q(z|X) ======================================\n",
    "\n",
    "Wxh = xavier_init(size=[X_dim, h_dim])\n",
    "bxh = Variable(torch.zeros(h_dim), requires_grad=True)\n",
    "\n",
    "Whz_mu = xavier_init(size=[h_dim, Z_dim])\n",
    "bhz_mu = Variable(torch.zeros(Z_dim), requires_grad=True)\n",
    "\n",
    "Whz_var = xavier_init(size=[h_dim, Z_dim])\n",
    "bhz_var = Variable(torch.zeros(Z_dim), requires_grad=True)\n",
    "\n",
    "tri_idx_row, tri_idx_col = torch.tril_indices(row=Z_dim, col=Z_dim)\n",
    "tri_idx = (tri_idx_row != tri_idx_col)  # Delete diagonal\n",
    "tri_idx_row = tri_idx_row[tri_idx]\n",
    "tri_idx_col = tri_idx_col[tri_idx]\n",
    "\n",
    "Whz_L = xavier_init(size=[h_dim, len(tri_idx_col)])  # cholesky of cov\n",
    "bhz_L = Variable(torch.zeros(len(tri_idx_col)), requires_grad=True)\n",
    "\n",
    "def Q(X):\n",
    "    h = nn.relu(X @ Wxh + bxh.repeat(X.size(0), 1))\n",
    "    z_mu = h @ Whz_mu + bhz_mu.repeat(h.size(0), 1)\n",
    "    z_logvar = h @ Whz_var + bhz_var.repeat(h.size(0), 1)\n",
    "    z_L = h @ Whz_L + bhz_L.repeat(h.size(0), 1)\n",
    "    return z_mu, z_logvar, z_L\n",
    "\n",
    "\n",
    "# ============================ Reparameterization and Sample =============================\n",
    "\n",
    "def sample_z(mu, log_var, L_):\n",
    "    \n",
    "    device = mu.device\n",
    "    batch_size = mu.shape[0]\n",
    "    \n",
    "    log_var = torch.clamp(log_var, max=10)\n",
    "    L = torch.zeros(batch_size, Z_dim, Z_dim, device=device)\n",
    "    L[:, tri_idx_row, tri_idx_col] = L_\n",
    "    L += torch.diag_embed(torch.exp(log_var))  # Diagonal matrix for batch\n",
    "    \n",
    "    # sample noise from multivariate Gaussain\n",
    "    eps = torch.randn(mu.shape[0], Z_dim, device=device)\n",
    "    \n",
    "    # Use batchwise matrix multiplication\n",
    "    sample = mu + torch.bmm(L, eps.unsqueeze(-1)).squeeze()\n",
    "    \n",
    "    return eps, sample\n"
   ]
  },
  {
   "cell_type": "code",
   "execution_count": 6,
   "metadata": {},
   "outputs": [],
   "source": [
    "# =============================== P(X|z) ======================================\n",
    "\n",
    "Wzh = xavier_init(size=[Z_dim, h_dim])\n",
    "bzh = Variable(torch.zeros(h_dim), requires_grad=True)\n",
    "\n",
    "Whmu = xavier_init(size=[h_dim, X_dim])\n",
    "bhmu = Variable(torch.zeros(X_dim), requires_grad=True)\n",
    "\n",
    "Whsigma = xavier_init(size=[h_dim, X_dim])\n",
    "bhsigma = Variable(torch.zeros(X_dim), requires_grad=True)\n",
    "\n",
    "Whsigma = xavier_init(size=[h_dim, X_dim])\n",
    "bhsigma = Variable(torch.zeros(X_dim), requires_grad=True)\n",
    "\n",
    "Xtri_idx_row, Xtri_idx_col = torch.tril_indices(row=X_dim, col=X_dim)\n",
    "Xtri_idx = (Xtri_idx_row != Xtri_idx_col)  # Delete diagonal\n",
    "Xtri_idx_row = Xtri_idx_row[Xtri_idx]\n",
    "Xtri_idx_col = Xtri_idx_col[Xtri_idx]\n",
    "\n",
    "Whx_L = xavier_init(size=[h_dim, len(Xtri_idx_col)])  # cholesky of cov\n",
    "bhx_L = Variable(torch.zeros(len(Xtri_idx_col)), requires_grad=True)\n",
    "\n",
    "def P(z):\n",
    "    h = torch.tanh(z @ Wzh + bzh.repeat(z.size(0), 1))\n",
    "    X_mu = (h @ Whmu + bhmu.repeat(h.size(0), 1))\n",
    "    X_log_var = (h @ Whsigma + bhsigma.repeat(h.size(0), 1))\n",
    "    X_L = h @ Whx_L + bhx_L.repeat(h.size(0), 1)\n",
    "    \n",
    "    \n",
    "    return X_mu, X_log_var, X_L\n",
    "\n",
    "def X_full(log_var, L_):\n",
    "    \n",
    "    device = log_var.device\n",
    "    batch_size = log_var.shape[0]\n",
    "    \n",
    "    L = torch.zeros(batch_size, X_dim, X_dim, device=device)\n",
    "    L[:, Xtri_idx_row, Xtri_idx_col] = L_\n",
    "    L += torch.diag_embed(torch.exp(log_var))  # Diagonal matrix for batch\n",
    "    \n",
    "    return torch.bmm(L, torch.transpose(L,1,2))"
   ]
  },
  {
   "cell_type": "code",
   "execution_count": 7,
   "metadata": {},
   "outputs": [],
   "source": [
    "from torch.utils.data import Dataset, DataLoader\n",
    "\n",
    "class MyDataset(Dataset):\n",
    "    def __init__(self, data, target, transform=None):\n",
    "        self.data = torch.from_numpy(data).float()\n",
    "        self.data = torch.flatten(self.data, start_dim=1)\n",
    "        self.target = torch.from_numpy(target).float()\n",
    "        self.transform = transform\n",
    "        \n",
    "    def __getitem__(self, index):\n",
    "        x = self.data[index]\n",
    "        y = self.target[index]\n",
    "        \n",
    "        if self.transform:\n",
    "            x = self.transform(x)\n",
    "        \n",
    "        return x, y\n",
    "    \n",
    "    def __len__(self):\n",
    "        return len(self.data)"
   ]
  },
  {
   "cell_type": "code",
   "execution_count": 8,
   "metadata": {
    "scrolled": true
   },
   "outputs": [],
   "source": [
    "dataset = MyDataset(X, X)\n",
    "loader = DataLoader(\n",
    "    dataset,\n",
    "    batch_size=mb_size,\n",
    "    shuffle=True,\n",
    "    num_workers=0,\n",
    "    pin_memory=torch.cuda.is_available()\n",
    ")\n",
    "\n",
    "# for batch_idx, (data, target) in enumerate(loader):\n",
    "#     print('Batch idx {}, data shape {}, target shape {}'.format(\n",
    "#         batch_idx, data.shape, target.shape))\n"
   ]
  },
  {
   "cell_type": "code",
   "execution_count": 9,
   "metadata": {
    "scrolled": true
   },
   "outputs": [
    {
     "name": "stdout",
     "output_type": "stream",
     "text": [
      "Iter-1; Loss: 7.399\n",
      "Iter-2; Loss: 5.142\n",
      "Iter-3; Loss: 4.2\n",
      "Iter-4; Loss: 4.006\n",
      "Iter-5; Loss: 3.733\n",
      "Iter-6; Loss: 3.039\n",
      "Iter-7; Loss: 2.422\n",
      "Iter-8; Loss: 3.08\n",
      "Iter-9; Loss: 2.935\n",
      "Iter-10; Loss: 2.688\n",
      "Iter-11; Loss: 2.73\n",
      "Iter-12; Loss: 2.663\n",
      "Iter-13; Loss: 2.781\n",
      "Iter-14; Loss: 2.551\n",
      "Iter-15; Loss: 2.485\n",
      "Iter-16; Loss: 2.719\n",
      "Iter-17; Loss: 2.624\n",
      "Iter-18; Loss: 2.564\n",
      "Iter-19; Loss: 2.566\n",
      "Iter-20; Loss: 2.465\n",
      "Iter-21; Loss: 2.524\n",
      "Iter-22; Loss: 2.527\n",
      "Iter-23; Loss: 2.498\n",
      "Iter-24; Loss: 2.723\n",
      "Iter-25; Loss: 2.559\n",
      "Iter-26; Loss: 2.379\n",
      "Iter-27; Loss: 2.513\n",
      "Iter-28; Loss: 2.342\n",
      "Iter-29; Loss: 2.454\n",
      "Iter-30; Loss: 2.484\n",
      "Iter-31; Loss: 2.444\n",
      "Iter-32; Loss: 2.603\n",
      "Iter-33; Loss: 2.474\n",
      "Iter-34; Loss: 2.563\n",
      "Iter-35; Loss: 2.603\n",
      "Iter-36; Loss: 2.369\n",
      "Iter-37; Loss: 2.356\n",
      "Iter-38; Loss: 2.6\n",
      "Iter-39; Loss: 2.517\n",
      "Iter-40; Loss: 2.583\n",
      "Iter-41; Loss: 2.448\n",
      "Iter-42; Loss: 2.4\n",
      "Iter-43; Loss: 2.465\n",
      "Iter-44; Loss: 2.585\n",
      "Iter-45; Loss: 2.534\n",
      "Iter-46; Loss: 2.366\n",
      "Iter-47; Loss: 2.639\n",
      "Iter-48; Loss: 2.403\n",
      "Iter-49; Loss: 2.487\n",
      "Iter-50; Loss: 2.496\n",
      "Iter-51; Loss: 2.479\n",
      "Iter-52; Loss: 2.463\n",
      "Iter-53; Loss: 2.334\n",
      "Iter-54; Loss: 2.383\n",
      "Iter-55; Loss: 2.477\n",
      "Iter-56; Loss: 2.344\n",
      "Iter-57; Loss: 2.569\n",
      "Iter-58; Loss: 2.437\n",
      "Iter-59; Loss: 2.48\n",
      "Iter-60; Loss: 2.499\n",
      "Iter-61; Loss: 2.333\n",
      "Iter-62; Loss: 2.539\n",
      "Iter-63; Loss: 2.508\n",
      "Iter-64; Loss: 2.338\n",
      "Iter-65; Loss: 2.442\n",
      "Iter-66; Loss: 2.36\n",
      "Iter-67; Loss: 2.518\n",
      "Iter-68; Loss: 2.467\n",
      "Iter-69; Loss: 2.504\n",
      "Iter-70; Loss: 2.565\n",
      "Iter-71; Loss: 2.539\n",
      "Iter-72; Loss: 2.523\n",
      "Iter-73; Loss: 2.425\n",
      "Iter-74; Loss: 2.493\n",
      "Iter-75; Loss: 2.482\n",
      "Iter-76; Loss: 2.41\n",
      "Iter-77; Loss: 2.465\n",
      "Iter-78; Loss: 2.489\n",
      "Iter-79; Loss: 2.451\n",
      "Iter-80; Loss: 2.707\n",
      "Iter-81; Loss: 2.322\n",
      "Iter-82; Loss: 2.39\n",
      "Iter-83; Loss: 2.347\n",
      "Iter-84; Loss: 2.672\n",
      "Iter-85; Loss: 2.35\n",
      "Iter-86; Loss: 2.519\n",
      "Iter-87; Loss: 2.36\n",
      "Iter-88; Loss: 2.425\n",
      "Iter-89; Loss: 2.453\n",
      "Iter-90; Loss: 2.525\n",
      "Iter-91; Loss: 2.297\n",
      "Iter-92; Loss: 2.434\n",
      "Iter-93; Loss: 2.381\n",
      "Iter-94; Loss: 2.395\n",
      "Iter-95; Loss: 2.478\n",
      "Iter-96; Loss: 2.549\n",
      "Iter-97; Loss: 2.42\n",
      "Iter-98; Loss: 2.456\n",
      "Iter-99; Loss: 2.443\n",
      "Iter-100; Loss: 2.41\n",
      "Iter-101; Loss: 2.499\n",
      "Iter-102; Loss: 2.525\n",
      "Iter-103; Loss: 2.441\n",
      "Iter-104; Loss: 2.233\n",
      "Iter-105; Loss: 2.486\n",
      "Iter-106; Loss: 2.402\n",
      "Iter-107; Loss: 2.499\n",
      "Iter-108; Loss: 2.498\n",
      "Iter-109; Loss: 2.377\n",
      "Iter-110; Loss: 2.489\n",
      "Iter-111; Loss: 2.605\n",
      "Iter-112; Loss: 2.386\n",
      "Iter-113; Loss: 2.416\n",
      "Iter-114; Loss: 2.564\n",
      "Iter-115; Loss: 2.486\n",
      "Iter-116; Loss: 2.456\n",
      "Iter-117; Loss: 2.386\n",
      "Iter-118; Loss: 2.471\n",
      "Iter-119; Loss: 2.344\n",
      "Iter-120; Loss: 2.306\n",
      "Iter-121; Loss: 2.496\n",
      "Iter-122; Loss: 2.529\n",
      "Iter-123; Loss: 2.224\n",
      "Iter-124; Loss: 2.438\n",
      "Iter-125; Loss: 2.274\n",
      "Iter-126; Loss: 2.393\n",
      "Iter-127; Loss: 2.305\n",
      "Iter-128; Loss: 2.414\n",
      "Iter-129; Loss: 2.416\n",
      "Iter-130; Loss: 2.321\n",
      "Iter-131; Loss: 2.334\n",
      "Iter-132; Loss: 2.521\n",
      "Iter-133; Loss: 2.307\n",
      "Iter-134; Loss: 2.328\n",
      "Iter-135; Loss: 2.362\n",
      "Iter-136; Loss: 2.469\n",
      "Iter-137; Loss: 2.428\n",
      "Iter-138; Loss: 2.507\n",
      "Iter-139; Loss: 2.265\n",
      "Iter-140; Loss: 2.571\n",
      "Iter-141; Loss: 2.48\n",
      "Iter-142; Loss: 2.456\n",
      "Iter-143; Loss: 2.463\n",
      "Iter-144; Loss: 2.54\n",
      "Iter-145; Loss: 2.371\n",
      "Iter-146; Loss: 2.532\n",
      "Iter-147; Loss: 2.333\n",
      "Iter-148; Loss: 2.485\n",
      "Iter-149; Loss: 2.38\n",
      "Iter-150; Loss: 2.38\n",
      "Iter-151; Loss: 2.332\n",
      "Iter-152; Loss: 2.396\n",
      "Iter-153; Loss: 2.387\n",
      "Iter-154; Loss: 2.39\n",
      "Iter-155; Loss: 2.411\n",
      "Iter-156; Loss: 2.409\n",
      "Iter-157; Loss: 2.412\n",
      "Iter-158; Loss: 2.242\n",
      "Iter-159; Loss: 2.537\n",
      "Iter-160; Loss: 2.337\n",
      "Iter-161; Loss: 2.378\n",
      "Iter-162; Loss: 2.319\n",
      "Iter-163; Loss: 2.227\n",
      "Iter-164; Loss: 2.299\n",
      "Iter-165; Loss: 2.426\n",
      "Iter-166; Loss: 2.253\n",
      "Iter-167; Loss: 2.315\n",
      "Iter-168; Loss: 2.63\n",
      "Iter-169; Loss: 2.521\n",
      "Iter-170; Loss: 2.531\n",
      "Iter-171; Loss: 2.352\n",
      "Iter-172; Loss: 2.313\n",
      "Iter-173; Loss: 2.51\n",
      "Iter-174; Loss: 2.401\n",
      "Iter-175; Loss: 2.614\n",
      "Iter-176; Loss: 2.427\n",
      "Iter-177; Loss: 2.429\n",
      "Iter-178; Loss: 2.352\n",
      "Iter-179; Loss: 2.411\n",
      "Iter-180; Loss: 2.322\n",
      "Iter-181; Loss: 2.342\n",
      "Iter-182; Loss: 2.439\n",
      "Iter-183; Loss: 2.279\n",
      "Iter-184; Loss: 2.246\n",
      "Iter-185; Loss: 2.307\n",
      "Iter-186; Loss: 2.36\n",
      "Iter-187; Loss: 2.414\n",
      "Iter-188; Loss: 2.355\n",
      "Iter-189; Loss: 2.344\n",
      "Iter-190; Loss: 2.288\n",
      "Iter-191; Loss: 2.36\n",
      "Iter-192; Loss: 2.485\n",
      "Iter-193; Loss: 2.485\n",
      "Iter-194; Loss: 2.519\n",
      "Iter-195; Loss: 2.444\n",
      "Iter-196; Loss: 2.389\n",
      "Iter-197; Loss: 2.344\n",
      "Iter-198; Loss: 2.491\n",
      "Iter-199; Loss: 2.472\n",
      "Iter-200; Loss: 2.425\n"
     ]
    }
   ],
   "source": [
    "# =============================== TRAINING ====================================\n",
    "\n",
    "params = [Wxh, bxh, Whz_mu, bhz_mu, Whz_var, bhz_var, Whz_L, bhz_L,\n",
    "          Wzh, bzh, Whmu, bhmu, Whsigma, bhsigma, Whx_L, bhx_L]\n",
    "\n",
    "solver = optim.Adam(params, lr=lr)\n",
    "\n",
    "loss_epoch = []\n",
    "x_from_prior = []\n",
    "x_from_test = []\n",
    "counter = 0\n",
    "for it in range(200):\n",
    "    for x_batch, y_batch in loader:\n",
    "        \n",
    "        # Forward\n",
    "        z_mu, z_logvar, z_L = Q(x_batch)\n",
    "        eps, z = sample_z(z_mu, z_logvar, z_L)\n",
    "        x_sample_mu, x_sample_logvar, x_sample_L = P(z)\n",
    "        x_sample_sigma = X_full(x_sample_logvar, x_sample_L)\n",
    "\n",
    "        # Loss\n",
    "        #recon_loss = nn.binary_cross_entropy(x_sample, x_batch, size_average=False) / mb_size  # Bernoulli\n",
    "#         x_sample_sigma_square = torch.diag_embed(torch.exp(x_sample_logvar), dim1=-2, dim2=-1)\n",
    "        kernels = MultivariateNormal(x_sample_mu, x_sample_sigma)\n",
    "#         recon_loss = kernels.log_prob(x_batch[:,None,:]).mean()\n",
    "        log_px_loss = -1*kernels.log_prob(x_batch).mean()\n",
    "        log_qz = -torch.sum(.5*(eps**2 + math.log(2 * math.pi) + 2*z_logvar), -1)\n",
    "        log_pz = -torch.sum(.5*(z**2 + math.log(2*math.pi)), -1)\n",
    "        \n",
    "        loss = log_px_loss - torch.mean(log_pz) + torch.mean(log_qz)\n",
    "\n",
    "        # Backward\n",
    "        loss.backward()\n",
    "\n",
    "        # Update\n",
    "        solver.step()\n",
    "\n",
    "        # Housekeeping\n",
    "        for p in params:\n",
    "            if p.grad is not None:\n",
    "                data = p.grad.data\n",
    "                p.grad = Variable(data.new().resize_as_(data).zero_())\n",
    "                \n",
    "        if counter==0 and it<1:\n",
    "            Z = torch.Tensor(np.random.multivariate_normal([0,0], [[1,0],[0,1]], 2*10**4))\n",
    "            X_sample_mu, X_sample_logvar, X_sample_L = P(Z)\n",
    "            X_sample_sigma = X_full(X_sample_logvar, X_sample_L)\n",
    "            kernels = MultivariateNormal(X_sample_mu, X_sample_sigma)\n",
    "\n",
    "            x_from_prior.append(kernels.sample().cpu().detach().numpy())\n",
    "\n",
    "            test_data = torch.from_numpy(X_test).float()\n",
    "            Z_mu, Z_logvar, Z_L = Q(test_data)\n",
    "            _, Z = sample_z(Z_mu, Z_logvar, Z_L)\n",
    "            X_sample_mu, X_sample_logvar, X_sample_L = P(Z)\n",
    "            X_sample_sigma = X_full(X_sample_logvar, X_sample_L)\n",
    "            kernels = MultivariateNormal(X_sample_mu, X_sample_sigma)\n",
    "\n",
    "            x_from_test.append(kernels.sample().cpu().detach().numpy())\n",
    "        counter = 1\n",
    "\n",
    "    # Print loss after each epoch\n",
    "    loss_epoch.append(loss.item())\n",
    "    print('Iter-{}; Loss: {:.4}'.format(it+1, loss.item()))\n",
    "\n",
    "    # generate samples\n",
    "    Z = torch.Tensor(np.random.multivariate_normal([0,0], [[1,0],[0,1]], 2*10**4))\n",
    "    X_sample_mu, X_sample_logvar, X_sample_L = P(Z)\n",
    "    X_sample_sigma = X_full(X_sample_logvar, X_sample_L)\n",
    "    kernels = MultivariateNormal(X_sample_mu, X_sample_sigma)\n",
    "\n",
    "    x_from_prior.append(kernels.sample().cpu().detach().numpy())\n",
    "\n",
    "    test_data = torch.from_numpy(X_test).float()\n",
    "    Z_mu, Z_logvar, Z_L = Q(test_data)\n",
    "    _, Z = sample_z(Z_mu, Z_logvar, Z_L)\n",
    "    X_sample_mu, X_sample_logvar, X_sample_L = P(Z)\n",
    "    X_sample_sigma = X_full(X_sample_logvar, X_sample_L)\n",
    "    kernels = MultivariateNormal(X_sample_mu, X_sample_sigma)\n",
    "\n",
    "    x_from_test.append(kernels.sample().cpu().detach().numpy())"
   ]
  },
  {
   "cell_type": "code",
   "execution_count": 12,
   "metadata": {},
   "outputs": [],
   "source": [
    "np.save('sigma2_threeblobs/fullcov_blobs_loss',loss_epoch)"
   ]
  },
  {
   "cell_type": "code",
   "execution_count": 13,
   "metadata": {},
   "outputs": [
    {
     "data": {
      "image/png": "[encoded data removed]",
      "text/plain": [
       "<Figure size 432x288 with 1 Axes>"
      ]
     },
     "metadata": {
      "needs_background": "light"
     },
     "output_type": "display_data"
    }
   ],
   "source": [
    "plt.plot(np.arange(1,201),loss_epoch)\n",
    "plt.xlim(1,200)\n",
    "# plt.yscale('log')\n",
    "plt.xlabel('epoch')\n",
    "plt.ylabel('loss')\n",
    "plt.savefig('sigma2_threeblobs/blobs_loss_epoch.png')"
   ]
  },
  {
   "cell_type": "code",
   "execution_count": 41,
   "metadata": {},
   "outputs": [
    {
     "data": {
      "image/png": "[encoded data removed]",
      "text/plain": [
       "<Figure size 432x288 with 3 Axes>"
      ]
     },
     "metadata": {
      "needs_background": "light"
     },
     "output_type": "display_data"
    }
   ],
   "source": [
    "gs = gridspec.GridSpec(1, 3, width_ratios=[1,1,8], wspace=0.35) \n",
    "ax0 = plt.subplot(gs[0])\n",
    "ax0.plot(np.arange(1,21),loss_epoch[:20])\n",
    "ax0.set_xlim(1,20)\n",
    "ax0.set_yscale('log')\n",
    "# ax0.set_xlabel('epoch')\n",
    "ax0.set_ylabel('loss')\n",
    "\n",
    "ax1 = plt.subplot(gs[1])\n",
    "ax1.plot(np.arange(21,41),loss_epoch[20:40])\n",
    "ax1.set_xlim(21,40)\n",
    "# ax1.set_yscale('log')\n",
    "ax1.set_xlabel('epoch')\n",
    "# ax0.set_ylabel('loss')\n",
    "\n",
    "ax2 = plt.subplot(gs[2])\n",
    "ax2.plot(np.arange(41,201),loss_epoch[40:])\n",
    "ax2.set_xlim(41,200)\n",
    "ax2.set_xlabel('epoch')\n",
    "\n",
    "plt.savefig('sigma2_threeblobs/blobs_loss_epoch_bypart.png')"
   ]
  },
  {
   "cell_type": "code",
   "execution_count": 42,
   "metadata": {},
   "outputs": [
    {
     "data": {
      "image/png": "[encoded data removed]",
      "text/plain": [
       "<Figure size 432x288 with 1 Axes>"
      ]
     },
     "metadata": {
      "needs_background": "light"
     },
     "output_type": "display_data"
    }
   ],
   "source": [
    "i += 5\n",
    "plt.hist2d(x_from_prior[i][:,0],x_from_prior[i][:,1],bins=50,cmap=\"gist_heat_r\")\n",
    "plt.xlim(-5,5)\n",
    "plt.ylim(-5,5)\n",
    "plt.title('epoch #'+str((i)))\n",
    "plt.savefig('sigma2_threeblobs/blobs_from_prior_epoch'+str((i))+'.png')"
   ]
  },
  {
   "cell_type": "code",
   "execution_count": 43,
   "metadata": {},
   "outputs": [
    {
     "data": {
      "image/png": "[encoded data removed]",
      "text/plain": [
       "<Figure size 432x288 with 1 Axes>"
      ]
     },
     "metadata": {
      "needs_background": "light"
     },
     "output_type": "display_data"
    }
   ],
   "source": [
    "plt.hist2d(x_from_test[i][:,0],x_from_test[i][:,1],bins=50,cmap=\"gist_heat_r\")\n",
    "plt.xlim(-5,5)\n",
    "plt.ylim(-5,5)\n",
    "plt.title('epoch #'+str((i)))\n",
    "plt.savefig('sigma2_threeblobs/blobs_from_test_epoch'+str((i))+'.png')"
   ]
  },
  {
   "cell_type": "code",
   "execution_count": 18,
   "metadata": {},
   "outputs": [
    {
     "data": {
      "image/png": "[encoded data removed]",
      "text/plain": [
       "<Figure size 432x288 with 1 Axes>"
      ]
     },
     "metadata": {
      "needs_background": "light"
     },
     "output_type": "display_data"
    }
   ],
   "source": [
    "plt.hist2d(x_from_prior[-1][:,0],x_from_prior[-1][:,1],bins=50,cmap=\"gist_heat_r\")\n",
    "plt.xlim(-5,5)\n",
    "plt.ylim(-5,5)\n",
    "# plt.title('epoch #'+str((i)))\n",
    "plt.savefig('sigma2_threeblobs/blobs_from_prior_final.png')"
   ]
  },
  {
   "cell_type": "code",
   "execution_count": 19,
   "metadata": {},
   "outputs": [
    {
     "data": {
      "image/png": "[encoded data removed]",
      "text/plain": [
       "<Figure size 432x288 with 1 Axes>"
      ]
     },
     "metadata": {
      "needs_background": "light"
     },
     "output_type": "display_data"
    }
   ],
   "source": [
    "plt.hist2d(x_from_test[-1][:,0],x_from_test[-1][:,1],bins=50,cmap=\"gist_heat_r\")\n",
    "plt.xlim(-5,5)\n",
    "plt.ylim(-5,5)\n",
    "# plt.title('epoch #'+str((i)))\n",
    "plt.savefig('sigma2_threeblobs/blobs_from_test_final.png')"
   ]
  },
  {
   "cell_type": "code",
   "execution_count": null,
   "metadata": {},
   "outputs": [],
   "source": []
  }
 ],
 "metadata": {
  "kernelspec": {
   "display_name": "Python 3",
   "language": "python",
   "name": "python3"
  },
  "language_info": {
   "codemirror_mode": {
    "name": "ipython",
    "version": 3
   },
   "file_extension": ".py",
   "mimetype": "text/x-python",
   "name": "python",
   "nbconvert_exporter": "python",
   "pygments_lexer": "ipython3",
   "version": "3.7.4"
  }
 },
 "nbformat": 4,
 "nbformat_minor": 2
}
