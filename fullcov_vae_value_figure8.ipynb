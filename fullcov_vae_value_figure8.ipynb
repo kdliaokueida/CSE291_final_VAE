{
 "cells": [
  {
   "cell_type": "code",
   "execution_count": 1,
   "metadata": {},
   "outputs": [],
   "source": [
    "import torch\n",
    "import torch.nn.functional as nn\n",
    "import torch.autograd as autograd\n",
    "import torch.optim as optim\n",
    "from torch.distributions.multivariate_normal import MultivariateNormal\n",
    "import numpy as np\n",
    "import matplotlib.pyplot as plt\n",
    "import matplotlib.gridspec as gridspec\n",
    "import os\n",
    "import math\n",
    "from torch.autograd import Variable\n",
    "from scipy.stats import norm"
   ]
  },
  {
   "cell_type": "code",
   "execution_count": 2,
   "metadata": {},
   "outputs": [],
   "source": [
    "N=60000\n",
    "Z = np.random.normal(0, 1, N)\n",
    "eps = np.random.multivariate_normal([0,0], [[0.02, 0], [0, 0.02]], N)\n",
    "u = (0.6+1.8*norm.cdf(Z))*np.pi\n",
    "x1 = np.cos(u)/(np.sqrt(2)*np.power(np.sin(u),2)+1) + eps[:,0]\n",
    "x2 = np.sqrt(2)*np.cos(u)*np.sin(u)/(np.power(np.sin(u),2)+1) + eps[:,1]\n",
    "\n",
    "X_temp = np.vstack((x1,x2)).transpose()\n",
    "X = X_temp[:40000]\n",
    "X_test = X_temp[40000:]"
   ]
  },
  {
   "cell_type": "code",
   "execution_count": 3,
   "metadata": {},
   "outputs": [
    {
     "data": {
      "image/png": "[encoded data removed]",
      "text/plain": [
       "<Figure size 432x288 with 1 Axes>"
      ]
     },
     "metadata": {
      "needs_background": "light"
     },
     "output_type": "display_data"
    }
   ],
   "source": [
    "plt.hist2d(X[:,0],X[:,1],bins=50,cmap=\"gist_heat_r\")\n",
    "plt.xlim(-5,5)\n",
    "plt.ylim(-5,5)\n",
    "plt.savefig('sigma2_figure8/fig8_training.png')"
   ]
  },
  {
   "cell_type": "code",
   "execution_count": 4,
   "metadata": {},
   "outputs": [],
   "source": [
    "mb_size = 64\n",
    "Z_dim = 2\n",
    "X_dim = X.shape[1]\n",
    "h_dim = 128\n",
    "c = 0\n",
    "lr = 1e-5\n",
    "\n",
    "def xavier_init(size):\n",
    "    in_dim = size[0]\n",
    "    xavier_stddev = 1. / np.sqrt(in_dim / 2.)\n",
    "    return Variable(torch.randn(*size) * xavier_stddev, requires_grad=True)"
   ]
  },
  {
   "cell_type": "code",
   "execution_count": 5,
   "metadata": {},
   "outputs": [],
   "source": [
    "# =============================== Q(z|X) ======================================\n",
    "\n",
    "Wxh = xavier_init(size=[X_dim, h_dim])\n",
    "bxh = Variable(torch.zeros(h_dim), requires_grad=True)\n",
    "\n",
    "Whz_mu = xavier_init(size=[h_dim, Z_dim])\n",
    "bhz_mu = Variable(torch.zeros(Z_dim), requires_grad=True)\n",
    "\n",
    "Whz_var = xavier_init(size=[h_dim, Z_dim])\n",
    "bhz_var = Variable(torch.zeros(Z_dim), requires_grad=True)\n",
    "\n",
    "tri_idx_row, tri_idx_col = torch.tril_indices(row=Z_dim, col=Z_dim)\n",
    "tri_idx = (tri_idx_row != tri_idx_col)  # Delete diagonal\n",
    "tri_idx_row = tri_idx_row[tri_idx]\n",
    "tri_idx_col = tri_idx_col[tri_idx]\n",
    "\n",
    "Whz_L = xavier_init(size=[h_dim, len(tri_idx_col)])  # cholesky of cov\n",
    "bhz_L = Variable(torch.zeros(len(tri_idx_col)), requires_grad=True)\n",
    "\n",
    "def Q(X):\n",
    "    h = nn.relu(X @ Wxh + bxh.repeat(X.size(0), 1))\n",
    "    z_mu = h @ Whz_mu + bhz_mu.repeat(h.size(0), 1)\n",
    "    z_logvar = h @ Whz_var + bhz_var.repeat(h.size(0), 1)\n",
    "    z_L = h @ Whz_L + bhz_L.repeat(h.size(0), 1)\n",
    "    return z_mu, z_logvar, z_L\n",
    "\n",
    "\n",
    "# ============================ Reparameterization and Sample =============================\n",
    "\n",
    "def sample_z(mu, log_var, L_):\n",
    "    \n",
    "    device = mu.device\n",
    "    batch_size = mu.shape[0]\n",
    "    \n",
    "    log_var = torch.clamp(log_var, max=10)\n",
    "    L = torch.zeros(batch_size, Z_dim, Z_dim, device=device)\n",
    "    L[:, tri_idx_row, tri_idx_col] = L_\n",
    "    L += torch.diag_embed(torch.exp(log_var))  # Diagonal matrix for batch\n",
    "    \n",
    "    # sample noise from multivariate Gaussain\n",
    "    eps = torch.randn(mu.shape[0], Z_dim, device=device)\n",
    "    \n",
    "    # Use batchwise matrix multiplication\n",
    "    sample = mu + torch.bmm(L, eps.unsqueeze(-1)).squeeze()\n",
    "    \n",
    "    return eps, sample\n"
   ]
  },
  {
   "cell_type": "code",
   "execution_count": 6,
   "metadata": {},
   "outputs": [],
   "source": [
    "# =============================== P(X|z) ======================================\n",
    "\n",
    "Wzh = xavier_init(size=[Z_dim, h_dim])\n",
    "bzh = Variable(torch.zeros(h_dim), requires_grad=True)\n",
    "\n",
    "Whmu = xavier_init(size=[h_dim, X_dim])\n",
    "bhmu = Variable(torch.zeros(X_dim), requires_grad=True)\n",
    "\n",
    "Whsigma = xavier_init(size=[h_dim, X_dim])\n",
    "bhsigma = Variable(torch.zeros(X_dim), requires_grad=True)\n",
    "\n",
    "Whsigma = xavier_init(size=[h_dim, X_dim])\n",
    "bhsigma = Variable(torch.zeros(X_dim), requires_grad=True)\n",
    "\n",
    "Xtri_idx_row, Xtri_idx_col = torch.tril_indices(row=X_dim, col=X_dim)\n",
    "Xtri_idx = (Xtri_idx_row != Xtri_idx_col)  # Delete diagonal\n",
    "Xtri_idx_row = Xtri_idx_row[Xtri_idx]\n",
    "Xtri_idx_col = Xtri_idx_col[Xtri_idx]\n",
    "\n",
    "Whx_L = xavier_init(size=[h_dim, len(Xtri_idx_col)])  # cholesky of cov\n",
    "bhx_L = Variable(torch.zeros(len(Xtri_idx_col)), requires_grad=True)\n",
    "\n",
    "def P(z):\n",
    "    h = torch.tanh(z @ Wzh + bzh.repeat(z.size(0), 1))\n",
    "    X_mu = (h @ Whmu + bhmu.repeat(h.size(0), 1))\n",
    "    X_log_var = (h @ Whsigma + bhsigma.repeat(h.size(0), 1))\n",
    "    X_L = h @ Whx_L + bhx_L.repeat(h.size(0), 1)\n",
    "    \n",
    "    \n",
    "    return X_mu, X_log_var, X_L\n",
    "\n",
    "def X_full(log_var, L_):\n",
    "    \n",
    "    device = log_var.device\n",
    "    batch_size = log_var.shape[0]\n",
    "    \n",
    "    L = torch.zeros(batch_size, X_dim, X_dim, device=device)\n",
    "    L[:, Xtri_idx_row, Xtri_idx_col] = L_\n",
    "    L += torch.diag_embed(torch.exp(log_var))  # Diagonal matrix for batch\n",
    "    \n",
    "    return torch.bmm(L, torch.transpose(L,1,2))"
   ]
  },
  {
   "cell_type": "code",
   "execution_count": 7,
   "metadata": {},
   "outputs": [],
   "source": [
    "from torch.utils.data import Dataset, DataLoader\n",
    "\n",
    "class MyDataset(Dataset):\n",
    "    def __init__(self, data, target, transform=None):\n",
    "        self.data = torch.from_numpy(data).float()\n",
    "        self.data = torch.flatten(self.data, start_dim=1)\n",
    "        self.target = torch.from_numpy(target).float()\n",
    "        self.transform = transform\n",
    "        \n",
    "    def __getitem__(self, index):\n",
    "        x = self.data[index]\n",
    "        y = self.target[index]\n",
    "        \n",
    "        if self.transform:\n",
    "            x = self.transform(x)\n",
    "        \n",
    "        return x, y\n",
    "    \n",
    "    def __len__(self):\n",
    "        return len(self.data)"
   ]
  },
  {
   "cell_type": "code",
   "execution_count": 8,
   "metadata": {
    "scrolled": true
   },
   "outputs": [],
   "source": [
    "dataset = MyDataset(X, X)\n",
    "loader = DataLoader(\n",
    "    dataset,\n",
    "    batch_size=mb_size,\n",
    "    shuffle=True,\n",
    "    num_workers=0,\n",
    "    pin_memory=torch.cuda.is_available()\n",
    ")\n",
    "\n",
    "# for batch_idx, (data, target) in enumerate(loader):\n",
    "#     print('Batch idx {}, data shape {}, target shape {}'.format(\n",
    "#         batch_idx, data.shape, target.shape))\n"
   ]
  },
  {
   "cell_type": "code",
   "execution_count": 9,
   "metadata": {
    "scrolled": true
   },
   "outputs": [
    {
     "name": "stdout",
     "output_type": "stream",
     "text": [
      "Iter-1; Loss: 3.927\n",
      "Iter-2; Loss: 3.655\n",
      "Iter-3; Loss: 2.608\n",
      "Iter-4; Loss: 2.641\n",
      "Iter-5; Loss: 2.407\n",
      "Iter-6; Loss: 2.298\n",
      "Iter-7; Loss: 2.148\n",
      "Iter-8; Loss: 1.951\n",
      "Iter-9; Loss: 1.983\n",
      "Iter-10; Loss: 1.937\n",
      "Iter-11; Loss: 1.776\n",
      "Iter-12; Loss: 1.722\n",
      "Iter-13; Loss: 1.694\n",
      "Iter-14; Loss: 1.653\n",
      "Iter-15; Loss: 1.724\n",
      "Iter-16; Loss: 1.575\n",
      "Iter-17; Loss: 1.583\n",
      "Iter-18; Loss: 1.698\n",
      "Iter-19; Loss: 1.492\n",
      "Iter-20; Loss: 1.474\n",
      "Iter-21; Loss: 1.475\n",
      "Iter-22; Loss: 1.599\n",
      "Iter-23; Loss: 1.43\n",
      "Iter-24; Loss: 1.399\n",
      "Iter-25; Loss: 1.429\n",
      "Iter-26; Loss: 1.471\n",
      "Iter-27; Loss: 1.572\n",
      "Iter-28; Loss: 1.54\n",
      "Iter-29; Loss: 1.506\n",
      "Iter-30; Loss: 1.298\n",
      "Iter-31; Loss: 1.525\n",
      "Iter-32; Loss: 1.416\n",
      "Iter-33; Loss: 1.482\n",
      "Iter-34; Loss: 1.54\n",
      "Iter-35; Loss: 1.397\n",
      "Iter-36; Loss: 1.466\n",
      "Iter-37; Loss: 1.441\n",
      "Iter-38; Loss: 1.685\n",
      "Iter-39; Loss: 1.536\n",
      "Iter-40; Loss: 1.434\n",
      "Iter-41; Loss: 1.388\n",
      "Iter-42; Loss: 1.295\n",
      "Iter-43; Loss: 1.462\n",
      "Iter-44; Loss: 1.433\n",
      "Iter-45; Loss: 1.414\n",
      "Iter-46; Loss: 1.487\n",
      "Iter-47; Loss: 1.479\n",
      "Iter-48; Loss: 1.476\n",
      "Iter-49; Loss: 1.549\n",
      "Iter-50; Loss: 1.542\n",
      "Iter-51; Loss: 1.458\n",
      "Iter-52; Loss: 1.404\n",
      "Iter-53; Loss: 1.461\n",
      "Iter-54; Loss: 1.483\n",
      "Iter-55; Loss: 1.478\n",
      "Iter-56; Loss: 1.516\n",
      "Iter-57; Loss: 1.404\n",
      "Iter-58; Loss: 1.527\n",
      "Iter-59; Loss: 1.384\n",
      "Iter-60; Loss: 1.397\n",
      "Iter-61; Loss: 1.275\n",
      "Iter-62; Loss: 1.412\n",
      "Iter-63; Loss: 1.457\n",
      "Iter-64; Loss: 1.572\n",
      "Iter-65; Loss: 1.305\n",
      "Iter-66; Loss: 1.4\n",
      "Iter-67; Loss: 1.351\n",
      "Iter-68; Loss: 1.653\n",
      "Iter-69; Loss: 1.34\n",
      "Iter-70; Loss: 1.422\n",
      "Iter-71; Loss: 1.52\n",
      "Iter-72; Loss: 1.521\n",
      "Iter-73; Loss: 1.27\n",
      "Iter-74; Loss: 1.462\n",
      "Iter-75; Loss: 1.423\n",
      "Iter-76; Loss: 1.463\n",
      "Iter-77; Loss: 1.426\n",
      "Iter-78; Loss: 1.435\n",
      "Iter-79; Loss: 1.437\n",
      "Iter-80; Loss: 1.46\n",
      "Iter-81; Loss: 1.472\n",
      "Iter-82; Loss: 1.449\n",
      "Iter-83; Loss: 1.349\n",
      "Iter-84; Loss: 1.317\n",
      "Iter-85; Loss: 1.51\n",
      "Iter-86; Loss: 1.396\n",
      "Iter-87; Loss: 1.446\n",
      "Iter-88; Loss: 1.38\n",
      "Iter-89; Loss: 1.387\n",
      "Iter-90; Loss: 1.418\n",
      "Iter-91; Loss: 1.362\n",
      "Iter-92; Loss: 1.424\n",
      "Iter-93; Loss: 1.297\n",
      "Iter-94; Loss: 1.339\n",
      "Iter-95; Loss: 1.4\n",
      "Iter-96; Loss: 1.459\n",
      "Iter-97; Loss: 1.56\n",
      "Iter-98; Loss: 1.324\n",
      "Iter-99; Loss: 1.389\n",
      "Iter-100; Loss: 1.514\n",
      "Iter-101; Loss: 1.429\n",
      "Iter-102; Loss: 1.452\n",
      "Iter-103; Loss: 1.393\n",
      "Iter-104; Loss: 1.456\n",
      "Iter-105; Loss: 1.539\n",
      "Iter-106; Loss: 1.439\n",
      "Iter-107; Loss: 1.499\n",
      "Iter-108; Loss: 1.342\n",
      "Iter-109; Loss: 1.469\n",
      "Iter-110; Loss: 1.563\n",
      "Iter-111; Loss: 1.34\n",
      "Iter-112; Loss: 1.497\n",
      "Iter-113; Loss: 1.39\n",
      "Iter-114; Loss: 1.496\n",
      "Iter-115; Loss: 1.652\n",
      "Iter-116; Loss: 1.443\n",
      "Iter-117; Loss: 1.504\n",
      "Iter-118; Loss: 1.487\n",
      "Iter-119; Loss: 1.422\n",
      "Iter-120; Loss: 1.441\n",
      "Iter-121; Loss: 1.308\n",
      "Iter-122; Loss: 1.533\n",
      "Iter-123; Loss: 1.475\n",
      "Iter-124; Loss: 1.45\n",
      "Iter-125; Loss: 1.446\n",
      "Iter-126; Loss: 1.508\n",
      "Iter-127; Loss: 1.493\n",
      "Iter-128; Loss: 1.593\n",
      "Iter-129; Loss: 1.604\n",
      "Iter-130; Loss: 1.359\n",
      "Iter-131; Loss: 1.487\n",
      "Iter-132; Loss: 1.472\n",
      "Iter-133; Loss: 1.39\n",
      "Iter-134; Loss: 1.442\n",
      "Iter-135; Loss: 1.494\n",
      "Iter-136; Loss: 1.428\n",
      "Iter-137; Loss: 1.299\n",
      "Iter-138; Loss: 1.383\n",
      "Iter-139; Loss: 1.317\n",
      "Iter-140; Loss: 1.491\n",
      "Iter-141; Loss: 1.517\n",
      "Iter-142; Loss: 1.418\n",
      "Iter-143; Loss: 1.446\n",
      "Iter-144; Loss: 1.533\n",
      "Iter-145; Loss: 1.326\n",
      "Iter-146; Loss: 1.37\n",
      "Iter-147; Loss: 1.357\n",
      "Iter-148; Loss: 1.173\n",
      "Iter-149; Loss: 1.316\n",
      "Iter-150; Loss: 1.288\n",
      "Iter-151; Loss: 1.401\n",
      "Iter-152; Loss: 1.281\n",
      "Iter-153; Loss: 1.49\n",
      "Iter-154; Loss: 1.475\n",
      "Iter-155; Loss: 1.508\n",
      "Iter-156; Loss: 1.301\n",
      "Iter-157; Loss: 1.464\n",
      "Iter-158; Loss: 1.418\n",
      "Iter-159; Loss: 1.416\n",
      "Iter-160; Loss: 1.622\n",
      "Iter-161; Loss: 1.438\n",
      "Iter-162; Loss: 1.395\n",
      "Iter-163; Loss: 1.374\n",
      "Iter-164; Loss: 1.372\n",
      "Iter-165; Loss: 1.456\n",
      "Iter-166; Loss: 1.324\n",
      "Iter-167; Loss: 1.486\n",
      "Iter-168; Loss: 1.386\n",
      "Iter-169; Loss: 1.456\n",
      "Iter-170; Loss: 1.416\n",
      "Iter-171; Loss: 1.474\n",
      "Iter-172; Loss: 1.562\n",
      "Iter-173; Loss: 1.424\n",
      "Iter-174; Loss: 1.327\n",
      "Iter-175; Loss: 1.485\n",
      "Iter-176; Loss: 1.313\n",
      "Iter-177; Loss: 1.584\n",
      "Iter-178; Loss: 1.406\n",
      "Iter-179; Loss: 1.379\n",
      "Iter-180; Loss: 1.52\n",
      "Iter-181; Loss: 1.325\n",
      "Iter-182; Loss: 1.459\n",
      "Iter-183; Loss: 1.545\n",
      "Iter-184; Loss: 1.513\n",
      "Iter-185; Loss: 1.282\n",
      "Iter-186; Loss: 1.312\n",
      "Iter-187; Loss: 1.314\n",
      "Iter-188; Loss: 1.408\n",
      "Iter-189; Loss: 1.382\n",
      "Iter-190; Loss: 1.475\n",
      "Iter-191; Loss: 1.466\n",
      "Iter-192; Loss: 1.531\n",
      "Iter-193; Loss: 1.54\n",
      "Iter-194; Loss: 1.564\n",
      "Iter-195; Loss: 1.307\n",
      "Iter-196; Loss: 1.503\n",
      "Iter-197; Loss: 1.377\n",
      "Iter-198; Loss: 1.27\n",
      "Iter-199; Loss: 1.41\n",
      "Iter-200; Loss: 1.444\n"
     ]
    }
   ],
   "source": [
    "# =============================== TRAINING ====================================\n",
    "\n",
    "params = [Wxh, bxh, Whz_mu, bhz_mu, Whz_var, bhz_var, Whz_L, bhz_L,\n",
    "          Wzh, bzh, Whmu, bhmu, Whsigma, bhsigma, Whx_L, bhx_L]\n",
    "\n",
    "solver = optim.Adam(params, lr=lr)\n",
    "\n",
    "loss_epoch = []\n",
    "x_from_prior = []\n",
    "x_from_test = []\n",
    "counter = 0\n",
    "for it in range(200):\n",
    "    for x_batch, y_batch in loader:\n",
    "        \n",
    "        # Forward\n",
    "        z_mu, z_logvar, z_L = Q(x_batch)\n",
    "        eps, z = sample_z(z_mu, z_logvar, z_L)\n",
    "        x_sample_mu, x_sample_logvar, x_sample_L = P(z)\n",
    "        x_sample_sigma = X_full(x_sample_logvar, x_sample_L)\n",
    "\n",
    "        # Loss\n",
    "        #recon_loss = nn.binary_cross_entropy(x_sample, x_batch, size_average=False) / mb_size  # Bernoulli\n",
    "#         x_sample_sigma_square = torch.diag_embed(torch.exp(x_sample_logvar), dim1=-2, dim2=-1)\n",
    "        kernels = MultivariateNormal(x_sample_mu, x_sample_sigma)\n",
    "#         recon_loss = kernels.log_prob(x_batch[:,None,:]).mean()\n",
    "        log_px_loss = -1*kernels.log_prob(x_batch).mean()\n",
    "        log_qz = -torch.sum(.5*(eps**2 + math.log(2 * math.pi) + 2*z_logvar), -1)\n",
    "        log_pz = -torch.sum(.5*(z**2 + math.log(2*math.pi)), -1)\n",
    "        \n",
    "        loss = log_px_loss - torch.mean(log_pz) + torch.mean(log_qz)\n",
    "\n",
    "        # Backward\n",
    "        loss.backward()\n",
    "\n",
    "        # Update\n",
    "        solver.step()\n",
    "\n",
    "        # Housekeeping\n",
    "        for p in params:\n",
    "            if p.grad is not None:\n",
    "                data = p.grad.data\n",
    "                p.grad = Variable(data.new().resize_as_(data).zero_())\n",
    "                \n",
    "        if counter==0 and it<1:\n",
    "            Z = torch.Tensor(np.random.multivariate_normal([0,0], [[1,0],[0,1]], 2*10**4))\n",
    "            X_sample_mu, X_sample_logvar, X_sample_L = P(Z)\n",
    "            X_sample_sigma = X_full(X_sample_logvar, X_sample_L)\n",
    "            kernels = MultivariateNormal(X_sample_mu, X_sample_sigma)\n",
    "\n",
    "            x_from_prior.append(kernels.sample().cpu().detach().numpy())\n",
    "\n",
    "            test_data = torch.from_numpy(X_test).float()\n",
    "            Z_mu, Z_logvar, Z_L = Q(test_data)\n",
    "            _, Z = sample_z(Z_mu, Z_logvar, Z_L)\n",
    "            X_sample_mu, X_sample_logvar, X_sample_L = P(Z)\n",
    "            X_sample_sigma = X_full(X_sample_logvar, X_sample_L)\n",
    "            kernels = MultivariateNormal(X_sample_mu, X_sample_sigma)\n",
    "\n",
    "            x_from_test.append(kernels.sample().cpu().detach().numpy())\n",
    "        counter = 1\n",
    "\n",
    "    # Print loss after each epoch\n",
    "    loss_epoch.append(loss.item())\n",
    "    print('Iter-{}; Loss: {:.4}'.format(it+1, loss.item()))\n",
    "\n",
    "    # generate samples\n",
    "    Z = torch.Tensor(np.random.multivariate_normal([0,0], [[1,0],[0,1]], 2*10**4))\n",
    "    X_sample_mu, X_sample_logvar, X_sample_L = P(Z)\n",
    "    X_sample_sigma = X_full(X_sample_logvar, X_sample_L)\n",
    "    kernels = MultivariateNormal(X_sample_mu, X_sample_sigma)\n",
    "\n",
    "    x_from_prior.append(kernels.sample().cpu().detach().numpy())\n",
    "\n",
    "    test_data = torch.from_numpy(X_test).float()\n",
    "    Z_mu, Z_logvar, Z_L = Q(test_data)\n",
    "    _, Z = sample_z(Z_mu, Z_logvar, Z_L)\n",
    "    X_sample_mu, X_sample_logvar, X_sample_L = P(Z)\n",
    "    X_sample_sigma = X_full(X_sample_logvar, X_sample_L)\n",
    "    kernels = MultivariateNormal(X_sample_mu, X_sample_sigma)\n",
    "\n",
    "    x_from_test.append(kernels.sample().cpu().detach().numpy())"
   ]
  },
  {
   "cell_type": "code",
   "execution_count": 13,
   "metadata": {},
   "outputs": [],
   "source": [
    "np.save('sigma2_figure8/fullcov_fig8_loss',loss_epoch)"
   ]
  },
  {
   "cell_type": "code",
   "execution_count": 15,
   "metadata": {},
   "outputs": [
    {
     "data": {
      "image/png": "[encoded data removed]",
      "text/plain": [
       "<Figure size 432x288 with 1 Axes>"
      ]
     },
     "metadata": {
      "needs_background": "light"
     },
     "output_type": "display_data"
    }
   ],
   "source": [
    "plt.plot(np.arange(1,201),loss_epoch)\n",
    "plt.xlim(1,200)\n",
    "# plt.yscale('log')\n",
    "plt.xlabel('epoch')\n",
    "plt.ylabel('loss')\n",
    "plt.savefig('sigma2_figure8/fig8_loss_epoch.png')"
   ]
  },
  {
   "cell_type": "code",
   "execution_count": 41,
   "metadata": {},
   "outputs": [
    {
     "data": {
      "image/png": "[encoded data removed]",
      "text/plain": [
       "<Figure size 432x288 with 3 Axes>"
      ]
     },
     "metadata": {
      "needs_background": "light"
     },
     "output_type": "display_data"
    }
   ],
   "source": [
    "gs = gridspec.GridSpec(1, 3, width_ratios=[1,1,8], wspace=0.35) \n",
    "ax0 = plt.subplot(gs[0])\n",
    "ax0.plot(np.arange(1,21),loss_epoch[:20])\n",
    "ax0.set_xlim(1,20)\n",
    "ax0.set_yscale('log')\n",
    "# ax0.set_xlabel('epoch')\n",
    "ax0.set_ylabel('loss')\n",
    "\n",
    "ax1 = plt.subplot(gs[1])\n",
    "ax1.plot(np.arange(21,41),loss_epoch[20:40])\n",
    "ax1.set_xlim(21,40)\n",
    "# ax1.set_yscale('log')\n",
    "ax1.set_xlabel('epoch')\n",
    "# ax0.set_ylabel('loss')\n",
    "\n",
    "ax2 = plt.subplot(gs[2])\n",
    "ax2.plot(np.arange(41,201),loss_epoch[40:])\n",
    "ax2.set_xlim(41,200)\n",
    "ax2.set_xlabel('epoch')\n",
    "\n",
    "plt.savefig('sigma2_figure8/fig8_loss_epoch_bypart.png')"
   ]
  },
  {
   "cell_type": "code",
   "execution_count": 42,
   "metadata": {},
   "outputs": [
    {
     "data": {
      "image/png": "[encoded data removed]",
      "text/plain": [
       "<Figure size 432x288 with 1 Axes>"
      ]
     },
     "metadata": {
      "needs_background": "light"
     },
     "output_type": "display_data"
    }
   ],
   "source": [
    "i +=5\n",
    "plt.hist2d(x_from_prior[i][:,0],x_from_prior[i][:,1],bins=50,cmap=\"gist_heat_r\")\n",
    "plt.xlim(-5,5)\n",
    "plt.ylim(-5,5)\n",
    "plt.title('epoch #'+str((i)))\n",
    "plt.savefig('sigma2_figure8/fig8_from_prior_epoch'+str((i))+'.png')"
   ]
  },
  {
   "cell_type": "code",
   "execution_count": 44,
   "metadata": {},
   "outputs": [
    {
     "data": {
      "image/png": "[encoded data removed]",
      "text/plain": [
       "<Figure size 432x288 with 1 Axes>"
      ]
     },
     "metadata": {
      "needs_background": "light"
     },
     "output_type": "display_data"
    }
   ],
   "source": [
    "plt.hist2d(x_from_test[i][:,0],x_from_test[i][:,1],bins=50,cmap=\"gist_heat_r\")\n",
    "plt.xlim(-5,5)\n",
    "plt.ylim(-5,5)\n",
    "plt.title('epoch #'+str((i)))\n",
    "plt.savefig('sigma2_figure8/fig8_from_test_epoch'+str((i))+'.png')"
   ]
  },
  {
   "cell_type": "code",
   "execution_count": 45,
   "metadata": {},
   "outputs": [
    {
     "data": {
      "image/png": "[encoded data removed]",
      "text/plain": [
       "<Figure size 432x288 with 1 Axes>"
      ]
     },
     "metadata": {
      "needs_background": "light"
     },
     "output_type": "display_data"
    }
   ],
   "source": [
    "plt.hist2d(x_from_prior[-1][:,0],x_from_prior[-1][:,1],bins=50,cmap=\"gist_heat_r\")\n",
    "plt.xlim(-5,5)\n",
    "plt.ylim(-5,5)\n",
    "# plt.title('epoch #'+str((i)))\n",
    "plt.savefig('sigma2_figure8/fig8_from_prior_final.png')"
   ]
  },
  {
   "cell_type": "code",
   "execution_count": 17,
   "metadata": {},
   "outputs": [
    {
     "data": {
      "image/png": "[encoded data removed]",
      "text/plain": [
       "<Figure size 432x288 with 1 Axes>"
      ]
     },
     "metadata": {
      "needs_background": "light"
     },
     "output_type": "display_data"
    }
   ],
   "source": [
    "plt.hist2d(x_from_test[-1][:,0],x_from_test[-1][:,1],bins=50,cmap=\"gist_heat_r\")\n",
    "plt.xlim(-5,5)\n",
    "plt.ylim(-5,5)\n",
    "# plt.title('epoch #'+str((i)))\n",
    "plt.savefig('sigma2_figure8/fig8_from_test_final.png')"
   ]
  },
  {
   "cell_type": "code",
   "execution_count": null,
   "metadata": {},
   "outputs": [],
   "source": []
  }
 ],
 "metadata": {
  "kernelspec": {
   "display_name": "Python 3",
   "language": "python",
   "name": "python3"
  },
  "language_info": {
   "codemirror_mode": {
    "name": "ipython",
    "version": 3
   },
   "file_extension": ".py",
   "mimetype": "text/x-python",
   "name": "python",
   "nbconvert_exporter": "python",
   "pygments_lexer": "ipython3",
   "version": "3.7.4"
  }
 },
 "nbformat": 4,
 "nbformat_minor": 2
}
