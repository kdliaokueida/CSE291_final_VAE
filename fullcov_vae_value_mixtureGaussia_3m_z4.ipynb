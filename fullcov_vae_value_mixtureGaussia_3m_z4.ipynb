{
 "cells": [
  {
   "cell_type": "code",
   "execution_count": 88,
   "metadata": {},
   "outputs": [],
   "source": [
    "import torch\n",
    "import torch.nn.functional as nn\n",
    "import torch.autograd as autograd\n",
    "import torch.optim as optim\n",
    "from torch.distributions.multivariate_normal import MultivariateNormal\n",
    "import numpy as np\n",
    "import matplotlib.pyplot as plt\n",
    "import matplotlib.gridspec as gridspec\n",
    "import os\n",
    "import math\n",
    "from torch.autograd import Variable\n"
   ]
  },
  {
   "cell_type": "code",
   "execution_count": 89,
   "metadata": {},
   "outputs": [],
   "source": [
    "N=60000\n",
    "U = np.random.uniform(0,1,N)\n",
    "X1 = np.random.multivariate_normal([0, 3*math.sqrt(3)], [[3, 0], [0, 1/3]], 60000)\n",
    "X2 = np.random.multivariate_normal([0,0], [[3, 0], [0, 1/3]], 60000)\n",
    "X3 = np.random.multivariate_normal([0,0], [[3, 0], [0, 1/3]], 60000)\n",
    "A = [[np.cos(np.pi*2/3), -np.sin(np.pi*2/3)],[np.sin(np.pi*2/3), np.cos(np.pi*2/3)]]\n",
    "B = [[np.cos(np.pi/3), -np.sin(np.pi/3)],[np.sin(np.pi/3), np.cos(np.pi/3)]]\n",
    "X2 = np.matmul(A, X2.transpose()).transpose() + [-3*math.sqrt(3), -3*math.sqrt(3)/2]\n",
    "X3 = np.matmul(B, X3.transpose()).transpose() + [3*math.sqrt(3), -3*math.sqrt(3)/2]\n",
    "\n",
    "X = np.zeros((40000,2))\n",
    "for i in range(40000):\n",
    "    if U[i]<1/3:\n",
    "        X[i] = X1[i]\n",
    "    elif U[i]<2/3:\n",
    "        X[i] = X2[i]\n",
    "    else:\n",
    "        X[i] = X3[i]\n",
    "        \n",
    "X_test = np.zeros((20000,2))\n",
    "for i in range(40000,60000):\n",
    "    if U[i]<1/3:\n",
    "        X_test[i-40000] = X1[i]\n",
    "    elif U[i]<2/3:\n",
    "        X_test[i-40000] = X2[i]\n",
    "    else:\n",
    "        X_test[i-40000] = X3[i]"
   ]
  },
  {
   "cell_type": "code",
   "execution_count": 91,
   "metadata": {},
   "outputs": [
    {
     "data": {
      "image/png": "[encoded data removed]",
      "text/plain": [
       "<Figure size 432x288 with 1 Axes>"
      ]
     },
     "metadata": {
      "needs_background": "light"
     },
     "output_type": "display_data"
    }
   ],
   "source": [
    "plt.hist2d(X[:,0],X[:,1],bins=50,cmap=\"gist_heat_r\")\n",
    "plt.xlim(-10,10)\n",
    "plt.ylim(-10,10)\n",
    "plt.savefig('sigma2_gaussianmixture_2d_fullcov_z4/gm_training.png')"
   ]
  },
  {
   "cell_type": "code",
   "execution_count": 92,
   "metadata": {},
   "outputs": [],
   "source": [
    "mb_size = 64\n",
    "Z_dim = 4\n",
    "X_dim = X.shape[1]\n",
    "h_dim = 128\n",
    "c = 0\n",
    "lr = 1e-5\n",
    "\n",
    "def xavier_init(size):\n",
    "    in_dim = size[0]\n",
    "    xavier_stddev = 1. / np.sqrt(in_dim / 2.)\n",
    "    return Variable(torch.randn(*size) * xavier_stddev, requires_grad=True)"
   ]
  },
  {
   "cell_type": "code",
   "execution_count": 93,
   "metadata": {},
   "outputs": [],
   "source": [
    "# =============================== Q(z|X) ======================================\n",
    "\n",
    "Wxh = xavier_init(size=[X_dim, h_dim])\n",
    "bxh = Variable(torch.zeros(h_dim), requires_grad=True)\n",
    "\n",
    "Whz_mu = xavier_init(size=[h_dim, Z_dim])\n",
    "bhz_mu = Variable(torch.zeros(Z_dim), requires_grad=True)\n",
    "\n",
    "Whz_var = xavier_init(size=[h_dim, Z_dim])\n",
    "bhz_var = Variable(torch.zeros(Z_dim), requires_grad=True)\n",
    "\n",
    "tri_idx_row, tri_idx_col = torch.tril_indices(row=Z_dim, col=Z_dim)\n",
    "tri_idx = (tri_idx_row != tri_idx_col)  # Delete diagonal\n",
    "tri_idx_row = tri_idx_row[tri_idx]\n",
    "tri_idx_col = tri_idx_col[tri_idx]\n",
    "\n",
    "Whz_L = xavier_init(size=[h_dim, len(tri_idx_col)])  # cholesky of cov\n",
    "bhz_L = Variable(torch.zeros(len(tri_idx_col)), requires_grad=True)\n",
    "\n",
    "def Q(X):\n",
    "    h = nn.relu(X @ Wxh + bxh.repeat(X.size(0), 1))\n",
    "    z_mu = h @ Whz_mu + bhz_mu.repeat(h.size(0), 1)\n",
    "    z_logvar = h @ Whz_var + bhz_var.repeat(h.size(0), 1)\n",
    "    z_L = h @ Whz_L + bhz_L.repeat(h.size(0), 1)\n",
    "    return z_mu, z_logvar, z_L\n",
    "\n",
    "\n",
    "# ============================ Reparameterization and Sample =============================\n",
    "\n",
    "def sample_z(mu, log_var, L_):\n",
    "    \n",
    "    device = mu.device\n",
    "    batch_size = mu.shape[0]\n",
    "    \n",
    "#     log_var = torch.clamp(log_var, max=10)\n",
    "    L = torch.zeros(batch_size, Z_dim, Z_dim, device=device)\n",
    "    L[:, tri_idx_row, tri_idx_col] = L_\n",
    "    L += torch.diag_embed(torch.exp(log_var))  # Diagonal matrix for batch\n",
    "    \n",
    "    # sample noise from multivariate Gaussain\n",
    "    eps = torch.randn(mu.shape[0], Z_dim, device=device)\n",
    "    \n",
    "    # Use batchwise matrix multiplication\n",
    "    sample = mu + torch.bmm(L, eps.unsqueeze(-1)).squeeze()\n",
    "    \n",
    "    return eps, sample\n"
   ]
  },
  {
   "cell_type": "code",
   "execution_count": 94,
   "metadata": {},
   "outputs": [],
   "source": [
    "# =============================== P(X|z) ======================================\n",
    "\n",
    "Wzh = xavier_init(size=[Z_dim, h_dim])\n",
    "bzh = Variable(torch.zeros(h_dim), requires_grad=True)\n",
    "\n",
    "Whmu = xavier_init(size=[h_dim, X_dim])\n",
    "bhmu = Variable(torch.zeros(X_dim), requires_grad=True)\n",
    "\n",
    "Whsigma = xavier_init(size=[h_dim, X_dim])\n",
    "bhsigma = Variable(torch.zeros(X_dim), requires_grad=True)\n",
    "\n",
    "Whsigma = xavier_init(size=[h_dim, X_dim])\n",
    "bhsigma = Variable(torch.zeros(X_dim), requires_grad=True)\n",
    "\n",
    "Xtri_idx_row, Xtri_idx_col = torch.tril_indices(row=X_dim, col=X_dim)\n",
    "Xtri_idx = (Xtri_idx_row != Xtri_idx_col)  # Delete diagonal\n",
    "Xtri_idx_row = Xtri_idx_row[Xtri_idx]\n",
    "Xtri_idx_col = Xtri_idx_col[Xtri_idx]\n",
    "\n",
    "Whx_L = xavier_init(size=[h_dim, len(Xtri_idx_col)])  # cholesky of cov\n",
    "bhx_L = Variable(torch.zeros(len(Xtri_idx_col)), requires_grad=True)\n",
    "\n",
    "def P(z):\n",
    "    h = torch.tanh(z @ Wzh + bzh.repeat(z.size(0), 1))\n",
    "    X_mu = (h @ Whmu + bhmu.repeat(h.size(0), 1))\n",
    "    X_log_var = (h @ Whsigma + bhsigma.repeat(h.size(0), 1))\n",
    "    X_L = h @ Whx_L + bhx_L.repeat(h.size(0), 1)\n",
    "    \n",
    "    \n",
    "    return X_mu, X_log_var, X_L\n",
    "\n",
    "def X_full(log_var, L_):\n",
    "    \n",
    "    device = log_var.device\n",
    "    batch_size = log_var.shape[0]\n",
    "    \n",
    "    L = torch.zeros(batch_size, X_dim, X_dim, device=device)\n",
    "    L[:, Xtri_idx_row, Xtri_idx_col] = L_\n",
    "    L += torch.diag_embed(torch.exp(log_var))  # Diagonal matrix for batch\n",
    "    \n",
    "    return torch.bmm(L, torch.transpose(L,1,2))"
   ]
  },
  {
   "cell_type": "code",
   "execution_count": 95,
   "metadata": {},
   "outputs": [],
   "source": [
    "from torch.utils.data import Dataset, DataLoader\n",
    "\n",
    "class MyDataset(Dataset):\n",
    "    def __init__(self, data, target, transform=None):\n",
    "        self.data = torch.from_numpy(data).float()\n",
    "        self.data = torch.flatten(self.data, start_dim=1)\n",
    "        self.target = torch.from_numpy(target).float()\n",
    "        self.transform = transform\n",
    "        \n",
    "    def __getitem__(self, index):\n",
    "        x = self.data[index]\n",
    "        y = self.target[index]\n",
    "        \n",
    "        if self.transform:\n",
    "            x = self.transform(x)\n",
    "        \n",
    "        return x, y\n",
    "    \n",
    "    def __len__(self):\n",
    "        return len(self.data)"
   ]
  },
  {
   "cell_type": "code",
   "execution_count": 96,
   "metadata": {
    "scrolled": true
   },
   "outputs": [],
   "source": [
    "dataset = MyDataset(X, X)\n",
    "loader = DataLoader(\n",
    "    dataset,\n",
    "    batch_size=mb_size,\n",
    "    shuffle=True,\n",
    "    num_workers=0,\n",
    "    pin_memory=torch.cuda.is_available()\n",
    ")\n",
    "\n",
    "# for batch_idx, (data, target) in enumerate(loader):\n",
    "#     print('Batch idx {}, data shape {}, target shape {}'.format(\n",
    "#         batch_idx, data.shape, target.shape))\n"
   ]
  },
  {
   "cell_type": "code",
   "execution_count": 102,
   "metadata": {
    "scrolled": true
   },
   "outputs": [
    {
     "name": "stdout",
     "output_type": "stream",
     "text": [
      "Iter-201; Loss: 5.048\n",
      "Iter-202; Loss: 5.012\n",
      "Iter-203; Loss: 5.08\n",
      "Iter-204; Loss: 5.16\n",
      "Iter-205; Loss: 5.027\n",
      "Iter-206; Loss: 5.072\n",
      "Iter-207; Loss: 5.064\n",
      "Iter-208; Loss: 4.963\n",
      "Iter-209; Loss: 5.166\n",
      "Iter-210; Loss: 5.007\n",
      "Iter-211; Loss: 4.979\n",
      "Iter-212; Loss: 5.147\n",
      "Iter-213; Loss: 5.263\n",
      "Iter-214; Loss: 4.946\n",
      "Iter-215; Loss: 4.812\n",
      "Iter-216; Loss: 4.925\n",
      "Iter-217; Loss: 5.121\n",
      "Iter-218; Loss: 5.177\n",
      "Iter-219; Loss: 5.095\n",
      "Iter-220; Loss: 5.004\n",
      "Iter-221; Loss: 4.991\n",
      "Iter-222; Loss: 4.922\n",
      "Iter-223; Loss: 5.009\n",
      "Iter-224; Loss: 5.133\n",
      "Iter-225; Loss: 5.105\n",
      "Iter-226; Loss: 5.013\n",
      "Iter-227; Loss: 5.052\n",
      "Iter-228; Loss: 5.299\n",
      "Iter-229; Loss: 5.016\n",
      "Iter-230; Loss: 4.844\n",
      "Iter-231; Loss: 4.81\n",
      "Iter-232; Loss: 5.01\n",
      "Iter-233; Loss: 5.039\n",
      "Iter-234; Loss: 4.933\n",
      "Iter-235; Loss: 5.214\n",
      "Iter-236; Loss: 4.977\n",
      "Iter-237; Loss: 4.912\n",
      "Iter-238; Loss: 5.05\n",
      "Iter-239; Loss: 4.981\n",
      "Iter-240; Loss: 4.987\n",
      "Iter-241; Loss: 5.033\n",
      "Iter-242; Loss: 5.012\n",
      "Iter-243; Loss: 4.999\n",
      "Iter-244; Loss: 4.831\n",
      "Iter-245; Loss: 4.889\n",
      "Iter-246; Loss: 4.945\n",
      "Iter-247; Loss: 5.055\n",
      "Iter-248; Loss: 4.78\n",
      "Iter-249; Loss: 4.923\n",
      "Iter-250; Loss: 5.065\n",
      "Iter-251; Loss: 4.844\n",
      "Iter-252; Loss: 5.012\n",
      "Iter-253; Loss: 4.775\n",
      "Iter-254; Loss: 4.952\n",
      "Iter-255; Loss: 4.906\n",
      "Iter-256; Loss: 4.905\n",
      "Iter-257; Loss: 5.169\n",
      "Iter-258; Loss: 4.766\n",
      "Iter-259; Loss: 4.945\n",
      "Iter-260; Loss: 4.847\n",
      "Iter-261; Loss: 4.984\n",
      "Iter-262; Loss: 4.89\n",
      "Iter-263; Loss: 4.925\n",
      "Iter-264; Loss: 4.986\n",
      "Iter-265; Loss: 4.909\n",
      "Iter-266; Loss: 4.968\n",
      "Iter-267; Loss: 4.872\n",
      "Iter-268; Loss: 5.094\n",
      "Iter-269; Loss: 4.903\n",
      "Iter-270; Loss: 5.001\n",
      "Iter-271; Loss: 4.865\n",
      "Iter-272; Loss: 4.745\n",
      "Iter-273; Loss: 4.99\n",
      "Iter-274; Loss: 4.85\n",
      "Iter-275; Loss: 4.933\n",
      "Iter-276; Loss: 4.959\n",
      "Iter-277; Loss: 4.98\n",
      "Iter-278; Loss: 4.892\n",
      "Iter-279; Loss: 4.833\n",
      "Iter-280; Loss: 4.83\n",
      "Iter-281; Loss: 4.826\n",
      "Iter-282; Loss: 4.772\n",
      "Iter-283; Loss: 4.919\n",
      "Iter-284; Loss: 4.716\n",
      "Iter-285; Loss: 5.127\n",
      "Iter-286; Loss: 4.933\n",
      "Iter-287; Loss: 4.851\n",
      "Iter-288; Loss: 4.801\n",
      "Iter-289; Loss: 5.009\n",
      "Iter-290; Loss: 4.837\n",
      "Iter-291; Loss: 4.824\n",
      "Iter-292; Loss: 4.723\n",
      "Iter-293; Loss: 5.038\n",
      "Iter-294; Loss: 4.825\n",
      "Iter-295; Loss: 4.959\n",
      "Iter-296; Loss: 4.879\n",
      "Iter-297; Loss: 4.687\n",
      "Iter-298; Loss: 4.971\n",
      "Iter-299; Loss: 5.074\n",
      "Iter-300; Loss: 4.784\n",
      "Iter-301; Loss: 4.867\n",
      "Iter-302; Loss: 4.668\n",
      "Iter-303; Loss: 5.026\n",
      "Iter-304; Loss: 4.836\n",
      "Iter-305; Loss: 4.752\n",
      "Iter-306; Loss: 5.078\n",
      "Iter-307; Loss: 4.762\n",
      "Iter-308; Loss: 4.754\n",
      "Iter-309; Loss: 4.844\n",
      "Iter-310; Loss: 4.895\n",
      "Iter-311; Loss: 4.746\n",
      "Iter-312; Loss: 4.798\n",
      "Iter-313; Loss: 4.782\n",
      "Iter-314; Loss: 4.778\n",
      "Iter-315; Loss: 4.781\n",
      "Iter-316; Loss: 4.946\n",
      "Iter-317; Loss: 4.759\n",
      "Iter-318; Loss: 4.729\n",
      "Iter-319; Loss: 4.99\n",
      "Iter-320; Loss: 4.854\n",
      "Iter-321; Loss: 4.991\n",
      "Iter-322; Loss: 4.9\n",
      "Iter-323; Loss: 4.988\n",
      "Iter-324; Loss: 4.76\n",
      "Iter-325; Loss: 4.764\n",
      "Iter-326; Loss: 4.787\n",
      "Iter-327; Loss: 4.797\n",
      "Iter-328; Loss: 4.684\n",
      "Iter-329; Loss: 4.697\n",
      "Iter-330; Loss: 4.83\n",
      "Iter-331; Loss: 4.787\n",
      "Iter-332; Loss: 4.79\n",
      "Iter-333; Loss: 4.808\n",
      "Iter-334; Loss: 4.74\n",
      "Iter-335; Loss: 4.699\n",
      "Iter-336; Loss: 4.776\n",
      "Iter-337; Loss: 4.848\n",
      "Iter-338; Loss: 4.741\n",
      "Iter-339; Loss: 4.821\n",
      "Iter-340; Loss: 4.839\n",
      "Iter-341; Loss: 4.766\n",
      "Iter-342; Loss: 4.855\n",
      "Iter-343; Loss: 4.988\n",
      "Iter-344; Loss: 4.656\n",
      "Iter-345; Loss: 4.765\n",
      "Iter-346; Loss: 5.142\n",
      "Iter-347; Loss: 4.943\n",
      "Iter-348; Loss: 4.748\n",
      "Iter-349; Loss: 4.687\n",
      "Iter-350; Loss: 4.817\n",
      "Iter-351; Loss: 4.657\n",
      "Iter-352; Loss: 4.787\n",
      "Iter-353; Loss: 4.91\n",
      "Iter-354; Loss: 4.724\n",
      "Iter-355; Loss: 4.682\n",
      "Iter-356; Loss: 4.819\n",
      "Iter-357; Loss: 4.727\n",
      "Iter-358; Loss: 5.232\n",
      "Iter-359; Loss: 4.919\n",
      "Iter-360; Loss: 4.597\n",
      "Iter-361; Loss: 4.894\n",
      "Iter-362; Loss: 4.651\n",
      "Iter-363; Loss: 4.729\n",
      "Iter-364; Loss: 4.827\n",
      "Iter-365; Loss: 4.774\n",
      "Iter-366; Loss: 4.727\n",
      "Iter-367; Loss: 4.926\n",
      "Iter-368; Loss: 4.769\n",
      "Iter-369; Loss: 4.608\n",
      "Iter-370; Loss: 4.866\n",
      "Iter-371; Loss: 4.741\n",
      "Iter-372; Loss: 4.724\n",
      "Iter-373; Loss: 4.648\n",
      "Iter-374; Loss: 4.677\n",
      "Iter-375; Loss: 4.721\n",
      "Iter-376; Loss: 4.742\n",
      "Iter-377; Loss: 4.856\n",
      "Iter-378; Loss: 4.625\n",
      "Iter-379; Loss: 4.821\n",
      "Iter-380; Loss: 4.819\n",
      "Iter-381; Loss: 4.797\n",
      "Iter-382; Loss: 4.877\n",
      "Iter-383; Loss: 4.874\n",
      "Iter-384; Loss: 4.828\n",
      "Iter-385; Loss: 4.648\n",
      "Iter-386; Loss: 4.763\n",
      "Iter-387; Loss: 4.739\n",
      "Iter-388; Loss: 4.632\n",
      "Iter-389; Loss: 4.758\n",
      "Iter-390; Loss: 4.591\n",
      "Iter-391; Loss: 4.754\n",
      "Iter-392; Loss: 4.541\n",
      "Iter-393; Loss: 4.745\n",
      "Iter-394; Loss: 4.831\n",
      "Iter-395; Loss: 4.72\n",
      "Iter-396; Loss: 4.876\n",
      "Iter-397; Loss: 4.623\n",
      "Iter-398; Loss: 4.712\n",
      "Iter-399; Loss: 4.608\n",
      "Iter-400; Loss: 4.672\n"
     ]
    }
   ],
   "source": [
    "# =============================== TRAINING ====================================\n",
    "\n",
    "params = [Wxh, bxh, Whz_mu, bhz_mu, Whz_var, bhz_var, Whz_L, bhz_L,\n",
    "          Wzh, bzh, Whmu, bhmu, Whsigma, bhsigma, Whx_L, bhx_L]\n",
    "\n",
    "solver = optim.Adam(params, lr=lr)\n",
    "\n",
    "loss_epoch = []\n",
    "x_from_prior = []\n",
    "x_from_test = []\n",
    "\n",
    "Z = torch.Tensor(np.random.multivariate_normal(np.zeros(Z_dim), np.eye(Z_dim), 2*10**4))\n",
    "X_sample_mu, X_sample_logvar, X_sample_L = P(Z)\n",
    "X_sample_sigma = X_full(X_sample_logvar, X_sample_L)\n",
    "kernels = MultivariateNormal(X_sample_mu, X_sample_sigma)\n",
    "\n",
    "x_from_prior.append(kernels.sample().cpu().detach().numpy())\n",
    "\n",
    "test_data = torch.from_numpy(X_test).float()\n",
    "Z_mu, Z_logvar, Z_L = Q(test_data)\n",
    "_, Z = sample_z(Z_mu, Z_logvar, Z_L)\n",
    "X_sample_mu, X_sample_logvar, X_sample_L = P(Z)\n",
    "X_sample_sigma = X_full(X_sample_logvar, X_sample_L)\n",
    "kernels = MultivariateNormal(X_sample_mu, X_sample_sigma)\n",
    "\n",
    "x_from_test.append(kernels.sample().cpu().detach().numpy())\n",
    "            \n",
    "for it in range(200):\n",
    "    for x_batch, y_batch in loader:\n",
    "        \n",
    "        # Forward\n",
    "        z_mu, z_logvar, z_L = Q(x_batch)\n",
    "        eps, z = sample_z(z_mu, z_logvar, z_L)\n",
    "        x_sample_mu, x_sample_logvar, x_sample_L = P(z)\n",
    "        x_sample_sigma = X_full(x_sample_logvar, x_sample_L)\n",
    "\n",
    "        # Loss\n",
    "        #recon_loss = nn.binary_cross_entropy(x_sample, x_batch, size_average=False) / mb_size  # Bernoulli\n",
    "#         x_sample_sigma_square = torch.diag_embed(torch.exp(x_sample_logvar), dim1=-2, dim2=-1)\n",
    "        kernels = MultivariateNormal(x_sample_mu, x_sample_sigma)\n",
    "#         recon_loss = kernels.log_prob(x_batch[:,None,:]).mean()\n",
    "        log_px_loss = -1*kernels.log_prob(x_batch).mean()\n",
    "        log_qz = -torch.sum(.5*(eps**2 + math.log(2 * math.pi) + 2*z_logvar), -1)\n",
    "        log_pz = -torch.sum(.5*(z**2 + math.log(2*math.pi)), -1)\n",
    "        \n",
    "        loss = log_px_loss - torch.mean(log_pz) + torch.mean(log_qz)\n",
    "\n",
    "        # Backward\n",
    "        loss.backward()\n",
    "\n",
    "        # Update\n",
    "        solver.step()\n",
    "\n",
    "        # Housekeeping\n",
    "        for p in params:\n",
    "            if p.grad is not None:\n",
    "                data = p.grad.data\n",
    "                p.grad = Variable(data.new().resize_as_(data).zero_())\n",
    "                \n",
    "\n",
    "    # Print loss after each epoch\n",
    "    loss_epoch.append(loss.item())\n",
    "    print('Iter-{}; Loss: {:.4}'.format(it+1, loss.item()))\n",
    "\n",
    "    # generate samples\n",
    "    Z = torch.Tensor(np.random.multivariate_normal(np.zeros(Z_dim), np.eye(Z_dim), 2*10**4))\n",
    "    X_sample_mu, X_sample_logvar, X_sample_L = P(Z)\n",
    "    X_sample_sigma = X_full(X_sample_logvar, X_sample_L)\n",
    "    kernels = MultivariateNormal(X_sample_mu, X_sample_sigma)\n",
    "\n",
    "    x_from_prior.append(kernels.sample().cpu().detach().numpy())\n",
    "\n",
    "    test_data = torch.from_numpy(X_test).float()\n",
    "    Z_mu, Z_logvar, Z_L = Q(test_data)\n",
    "    _, Z = sample_z(Z_mu, Z_logvar, Z_L)\n",
    "    X_sample_mu, X_sample_logvar, X_sample_L = P(Z)\n",
    "    X_sample_sigma = X_full(X_sample_logvar, X_sample_L)\n",
    "    kernels = MultivariateNormal(X_sample_mu, X_sample_sigma)\n",
    "\n",
    "    x_from_test.append(kernels.sample().cpu().detach().numpy())"
   ]
  },
  {
   "cell_type": "code",
   "execution_count": 104,
   "metadata": {},
   "outputs": [],
   "source": [
    "np.save('sigma2_gaussianmixture_2d_fullcov_z4/fullcov_gm_loss',loss_epoch)"
   ]
  },
  {
   "cell_type": "code",
   "execution_count": 106,
   "metadata": {},
   "outputs": [
    {
     "data": {
      "image/png": "[encoded data removed]",
      "text/plain": [
       "<Figure size 432x288 with 1 Axes>"
      ]
     },
     "metadata": {
      "needs_background": "light"
     },
     "output_type": "display_data"
    }
   ],
   "source": [
    "plt.plot(np.arange(1,401),loss_epoch)\n",
    "plt.xlim(1,400)\n",
    "plt.yscale('log')\n",
    "plt.xlabel('epoch')\n",
    "plt.ylabel('loss')\n",
    "plt.savefig('sigma2_gaussianmixture_2d_fullcov_z4/gm_loss_epoch.png')"
   ]
  },
  {
   "cell_type": "code",
   "execution_count": 107,
   "metadata": {},
   "outputs": [
    {
     "data": {
      "image/png": "[encoded data removed]",
      "text/plain": [
       "<Figure size 432x288 with 2 Axes>"
      ]
     },
     "metadata": {
      "needs_background": "light"
     },
     "output_type": "display_data"
    }
   ],
   "source": [
    "gs = gridspec.GridSpec(1, 2, width_ratios=[1,4])  #wspace=0.35 \n",
    "ax0 = plt.subplot(gs[0])\n",
    "ax0.plot(np.arange(1,81),loss_epoch[:80])\n",
    "ax0.set_xlim(1,80)\n",
    "ax0.set_yscale('log')\n",
    "ax0.set_xlabel('epoch')\n",
    "ax0.set_ylabel('loss')\n",
    "\n",
    "ax1 = plt.subplot(gs[1])\n",
    "ax1.plot(np.arange(81,401),loss_epoch[80:])\n",
    "ax1.set_xlim(81,400)\n",
    "ax1.set_xlabel('epoch')\n",
    "\n",
    "plt.savefig('sigma2_gaussianmixture_2d_fullcov_z4/gm_loss_epoch_bypart.png')"
   ]
  },
  {
   "cell_type": "code",
   "execution_count": 177,
   "metadata": {},
   "outputs": [
    {
     "data": {
      "image/png": "[encoded data removed]",
      "text/plain": [
       "<Figure size 432x288 with 1 Axes>"
      ]
     },
     "metadata": {
      "needs_background": "light"
     },
     "output_type": "display_data"
    }
   ],
   "source": [
    "i += 10\n",
    "plt.hist2d(x_from_prior[i][:,0],x_from_prior[i][:,1],bins=50,cmap=\"gist_heat_r\")\n",
    "plt.xlim(-10,10)\n",
    "plt.ylim(-10,10)\n",
    "plt.title('epoch #'+str((i)))\n",
    "plt.savefig('sigma2_gaussianmixture_2d_fullcov_z4/gm_from_prior_epoch'+str((i))+'.png')"
   ]
  },
  {
   "cell_type": "code",
   "execution_count": 178,
   "metadata": {},
   "outputs": [
    {
     "data": {
      "image/png": "[encoded data removed]",
      "text/plain": [
       "<Figure size 432x288 with 1 Axes>"
      ]
     },
     "metadata": {
      "needs_background": "light"
     },
     "output_type": "display_data"
    }
   ],
   "source": [
    "plt.hist2d(x_from_test[i][:,0],x_from_test[i][:,1],bins=50,cmap=\"gist_heat_r\")\n",
    "plt.xlim(-10,10)\n",
    "plt.ylim(-10,10)\n",
    "plt.title('epoch #'+str((i)))\n",
    "plt.savefig('sigma2_gaussianmixture_2d_fullcov_z4/gm_from_test_epoch'+str((i))+'.png')"
   ]
  },
  {
   "cell_type": "code",
   "execution_count": 176,
   "metadata": {},
   "outputs": [
    {
     "data": {
      "image/png": "[encoded data removed]",
      "text/plain": [
       "<Figure size 432x288 with 1 Axes>"
      ]
     },
     "metadata": {
      "needs_background": "light"
     },
     "output_type": "display_data"
    }
   ],
   "source": [
    "plt.hist2d(x_from_prior[-1][:,0],x_from_prior[-1][:,1],bins=50,cmap=\"gist_heat_r\")\n",
    "plt.xlim(-10,10)\n",
    "plt.ylim(-10,10)\n",
    "# plt.title('epoch #'+str((i)))\n",
    "plt.savefig('sigma2_gaussianmixture_2d_fullcov_z4/gm_from_prior_final.png')"
   ]
  },
  {
   "cell_type": "code",
   "execution_count": 101,
   "metadata": {},
   "outputs": [
    {
     "data": {
      "image/png": "[encoded data removed]",
      "text/plain": [
       "<Figure size 432x288 with 1 Axes>"
      ]
     },
     "metadata": {
      "needs_background": "light"
     },
     "output_type": "display_data"
    }
   ],
   "source": [
    "plt.hist2d(x_from_test[-1][:,0],x_from_test[-1][:,1],bins=50,cmap=\"gist_heat_r\")\n",
    "plt.xlim(-10,10)\n",
    "plt.ylim(-10,10)\n",
    "# plt.title('epoch #'+str((i)))\n",
    "plt.savefig('sigma2_gaussianmixture_2d_fullcov_z4/gm_from_test_final.png')"
   ]
  },
  {
   "cell_type": "code",
   "execution_count": null,
   "metadata": {},
   "outputs": [],
   "source": []
  }
 ],
 "metadata": {
  "kernelspec": {
   "display_name": "Python 3",
   "language": "python",
   "name": "python3"
  },
  "language_info": {
   "codemirror_mode": {
    "name": "ipython",
    "version": 3
   },
   "file_extension": ".py",
   "mimetype": "text/x-python",
   "name": "python",
   "nbconvert_exporter": "python",
   "pygments_lexer": "ipython3",
   "version": "3.7.4"
  }
 },
 "nbformat": 4,
 "nbformat_minor": 2
}
